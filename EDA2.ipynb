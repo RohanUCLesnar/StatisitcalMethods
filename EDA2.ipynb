{
 "cells": [
  {
   "cell_type": "code",
   "execution_count": 14,
   "metadata": {},
   "outputs": [
    {
     "data": {
      "text/html": [
       "<div>\n",
       "<style scoped>\n",
       "    .dataframe tbody tr th:only-of-type {\n",
       "        vertical-align: middle;\n",
       "    }\n",
       "\n",
       "    .dataframe tbody tr th {\n",
       "        vertical-align: top;\n",
       "    }\n",
       "\n",
       "    .dataframe thead th {\n",
       "        text-align: right;\n",
       "    }\n",
       "</style>\n",
       "<table border=\"1\" class=\"dataframe\">\n",
       "  <thead>\n",
       "    <tr style=\"text-align: right;\">\n",
       "      <th></th>\n",
       "      <th>Year</th>\n",
       "      <th>Type of Hospital</th>\n",
       "      <th>ICD 10 Diagnostic Group</th>\n",
       "      <th>UNIT</th>\n",
       "      <th>VALUE</th>\n",
       "    </tr>\n",
       "  </thead>\n",
       "  <tbody>\n",
       "    <tr>\n",
       "      <th>0</th>\n",
       "      <td>2013</td>\n",
       "      <td>General hospital psychiatric units</td>\n",
       "      <td>Schizophrenia, schizotypal and delusional diso...</td>\n",
       "      <td>Number</td>\n",
       "      <td>2331</td>\n",
       "    </tr>\n",
       "    <tr>\n",
       "      <th>1</th>\n",
       "      <td>2013</td>\n",
       "      <td>General hospital psychiatric units</td>\n",
       "      <td>Depressive disorders</td>\n",
       "      <td>Number</td>\n",
       "      <td>2941</td>\n",
       "    </tr>\n",
       "    <tr>\n",
       "      <th>2</th>\n",
       "      <td>2013</td>\n",
       "      <td>General hospital psychiatric units</td>\n",
       "      <td>Mania</td>\n",
       "      <td>Number</td>\n",
       "      <td>1233</td>\n",
       "    </tr>\n",
       "    <tr>\n",
       "      <th>3</th>\n",
       "      <td>2013</td>\n",
       "      <td>General hospital psychiatric units</td>\n",
       "      <td>Neuroses</td>\n",
       "      <td>Number</td>\n",
       "      <td>775</td>\n",
       "    </tr>\n",
       "    <tr>\n",
       "      <th>4</th>\n",
       "      <td>2013</td>\n",
       "      <td>General hospital psychiatric units</td>\n",
       "      <td>Personality and behavioural disorders</td>\n",
       "      <td>Number</td>\n",
       "      <td>721</td>\n",
       "    </tr>\n",
       "  </tbody>\n",
       "</table>\n",
       "</div>"
      ],
      "text/plain": [
       "   Year                    Type of Hospital  \\\n",
       "0  2013  General hospital psychiatric units   \n",
       "1  2013  General hospital psychiatric units   \n",
       "2  2013  General hospital psychiatric units   \n",
       "3  2013  General hospital psychiatric units   \n",
       "4  2013  General hospital psychiatric units   \n",
       "\n",
       "                             ICD 10 Diagnostic Group    UNIT  VALUE  \n",
       "0  Schizophrenia, schizotypal and delusional diso...  Number   2331  \n",
       "1                               Depressive disorders  Number   2941  \n",
       "2                                              Mania  Number   1233  \n",
       "3                                           Neuroses  Number    775  \n",
       "4              Personality and behavioural disorders  Number    721  "
      ]
     },
     "execution_count": 14,
     "metadata": {},
     "output_type": "execute_result"
    }
   ],
   "source": [
    "import pandas as pd\n",
    "\n",
    "# Load the Excel file\n",
    "file_path = '/Users/bishalghosh/Desktop/Statistics/HRA.xlsx'\n",
    "df = pd.read_excel(file_path)\n",
    "\n",
    "# Display the first 5 rows of the dataframe\n",
    "df.head()"
   ]
  },
  {
   "cell_type": "code",
   "execution_count": 19,
   "metadata": {},
   "outputs": [],
   "source": [
    "import numpy as np\n",
    "from scipy.stats import mode, skew, kurtosis\n",
    "\n",
    "# Helper function to calculate statistics for a grouped dataframe\n",
    "def calculate_stats(grouped_df):\n",
    "    # Calculating the required statistics\n",
    "    mean = grouped_df.mean()\n",
    "    median = grouped_df.median()\n",
    "    mode_val = grouped_df.agg(lambda x: mode(x)[0])\n",
    "    range_val = grouped_df.max() - grouped_df.min()\n",
    "    variance = grouped_df.var()\n",
    "    std_dev = grouped_df.std()\n",
    "    skewness = grouped_df.skew()\n",
    "    kurt = grouped_df.apply(kurtosis)\n",
    "    q1 = grouped_df.quantile(0.25)\n",
    "    q3 = grouped_df.quantile(0.75)\n",
    "    iqr = q3 - q1\n",
    "\n",
    "    # Combining all the statistics into a single dataframe\n",
    "    stats_df = pd.DataFrame({\n",
    "        'Mean': mean,\n",
    "        'Median': median,\n",
    "        'Mode': mode_val,\n",
    "        'Range': range_val,\n",
    "        'Variance': variance,\n",
    "        'Std Deviation': std_dev,\n",
    "        'Skewness': skewness,\n",
    "        'Kurtosis': kurt,\n",
    "        'Q1': q1,\n",
    "        'Q3': q3,\n",
    "        'IQR': iqr\n",
    "    })\n",
    "\n",
    "    return stats_df\n",
    "\n",
    "# Scenario 1: Group by 'Year' and 'Type of Hospital'\n",
    "group1 = df.groupby(['Year', 'Type of Hospital'])['VALUE']\n",
    "stats1 = calculate_stats(group1)\n",
    "\n",
    "# Scenario 2: Group by 'Year' and 'ICD 10 Diagnostic Group'\n",
    "group2 = df.groupby(['Year', 'ICD 10 Diagnostic Group'])['VALUE']\n",
    "stats2 = calculate_stats(group2)\n",
    "\n",
    "# Scenario 3: Group by 'Type of Hospital' and 'ICD 10 Diagnostic Group'\n",
    "group3 = df.groupby(['Type of Hospital', 'ICD 10 Diagnostic Group'])['VALUE']\n",
    "stats3 = calculate_stats(group3)"
   ]
  },
  {
   "cell_type": "code",
   "execution_count": 35,
   "metadata": {},
   "outputs": [
    {
     "data": {
      "text/html": [
       "<div>\n",
       "<style scoped>\n",
       "    .dataframe tbody tr th:only-of-type {\n",
       "        vertical-align: middle;\n",
       "    }\n",
       "\n",
       "    .dataframe tbody tr th {\n",
       "        vertical-align: top;\n",
       "    }\n",
       "\n",
       "    .dataframe thead th {\n",
       "        text-align: right;\n",
       "    }\n",
       "</style>\n",
       "<table border=\"1\" class=\"dataframe\">\n",
       "  <thead>\n",
       "    <tr style=\"text-align: right;\">\n",
       "      <th></th>\n",
       "      <th></th>\n",
       "      <th>Mean</th>\n",
       "      <th>Median</th>\n",
       "      <th>Mode</th>\n",
       "      <th>Range</th>\n",
       "      <th>Variance</th>\n",
       "      <th>Std Deviation</th>\n",
       "      <th>Skewness</th>\n",
       "      <th>Kurtosis</th>\n",
       "      <th>Q1</th>\n",
       "      <th>Q3</th>\n",
       "      <th>IQR</th>\n",
       "    </tr>\n",
       "    <tr>\n",
       "      <th>Year</th>\n",
       "      <th>Type of Hospital</th>\n",
       "      <th></th>\n",
       "      <th></th>\n",
       "      <th></th>\n",
       "      <th></th>\n",
       "      <th></th>\n",
       "      <th></th>\n",
       "      <th></th>\n",
       "      <th></th>\n",
       "      <th></th>\n",
       "      <th></th>\n",
       "      <th></th>\n",
       "    </tr>\n",
       "  </thead>\n",
       "  <tbody>\n",
       "    <tr>\n",
       "      <th rowspan=\"3\" valign=\"top\">2013</th>\n",
       "      <th>General hospital psychiatric units</th>\n",
       "      <td>1468.285714</td>\n",
       "      <td>686.0</td>\n",
       "      <td>13</td>\n",
       "      <td>10265</td>\n",
       "      <td>7.191987e+06</td>\n",
       "      <td>2681.788021</td>\n",
       "      <td>3.123323</td>\n",
       "      <td>6.689845</td>\n",
       "      <td>94.25</td>\n",
       "      <td>1118.50</td>\n",
       "      <td>1024.25</td>\n",
       "    </tr>\n",
       "    <tr>\n",
       "      <th>Independent/private and private charitable centres</th>\n",
       "      <td>630.142857</td>\n",
       "      <td>228.0</td>\n",
       "      <td>1</td>\n",
       "      <td>4410</td>\n",
       "      <td>1.346945e+06</td>\n",
       "      <td>1160.579488</td>\n",
       "      <td>3.072951</td>\n",
       "      <td>6.394796</td>\n",
       "      <td>124.50</td>\n",
       "      <td>551.00</td>\n",
       "      <td>426.50</td>\n",
       "    </tr>\n",
       "    <tr>\n",
       "      <th>Psychiatric hospitals</th>\n",
       "      <td>538.285714</td>\n",
       "      <td>228.0</td>\n",
       "      <td>2</td>\n",
       "      <td>3766</td>\n",
       "      <td>9.534385e+05</td>\n",
       "      <td>976.441769</td>\n",
       "      <td>3.187921</td>\n",
       "      <td>6.954681</td>\n",
       "      <td>69.50</td>\n",
       "      <td>414.50</td>\n",
       "      <td>345.00</td>\n",
       "    </tr>\n",
       "    <tr>\n",
       "      <th rowspan=\"3\" valign=\"top\">2014</th>\n",
       "      <th>General hospital psychiatric units</th>\n",
       "      <td>1468.285714</td>\n",
       "      <td>686.0</td>\n",
       "      <td>13</td>\n",
       "      <td>10265</td>\n",
       "      <td>7.191987e+06</td>\n",
       "      <td>2681.788021</td>\n",
       "      <td>3.123323</td>\n",
       "      <td>6.689845</td>\n",
       "      <td>94.25</td>\n",
       "      <td>1118.50</td>\n",
       "      <td>1024.25</td>\n",
       "    </tr>\n",
       "    <tr>\n",
       "      <th>Independent/private and private charitable centres</th>\n",
       "      <td>630.142857</td>\n",
       "      <td>228.0</td>\n",
       "      <td>1</td>\n",
       "      <td>4410</td>\n",
       "      <td>1.346945e+06</td>\n",
       "      <td>1160.579488</td>\n",
       "      <td>3.072951</td>\n",
       "      <td>6.394796</td>\n",
       "      <td>124.50</td>\n",
       "      <td>551.00</td>\n",
       "      <td>426.50</td>\n",
       "    </tr>\n",
       "    <tr>\n",
       "      <th>Psychiatric hospitals</th>\n",
       "      <td>538.285714</td>\n",
       "      <td>228.0</td>\n",
       "      <td>2</td>\n",
       "      <td>3766</td>\n",
       "      <td>9.534385e+05</td>\n",
       "      <td>976.441769</td>\n",
       "      <td>3.187921</td>\n",
       "      <td>6.954681</td>\n",
       "      <td>69.50</td>\n",
       "      <td>414.50</td>\n",
       "      <td>345.00</td>\n",
       "    </tr>\n",
       "    <tr>\n",
       "      <th rowspan=\"3\" valign=\"top\">2015</th>\n",
       "      <th>General hospital psychiatric units</th>\n",
       "      <td>1489.285714</td>\n",
       "      <td>742.0</td>\n",
       "      <td>8</td>\n",
       "      <td>10417</td>\n",
       "      <td>7.343821e+06</td>\n",
       "      <td>2709.948465</td>\n",
       "      <td>3.153857</td>\n",
       "      <td>6.833048</td>\n",
       "      <td>102.25</td>\n",
       "      <td>1117.25</td>\n",
       "      <td>1015.00</td>\n",
       "    </tr>\n",
       "    <tr>\n",
       "      <th>Independent/private and private charitable centres</th>\n",
       "      <td>606.857143</td>\n",
       "      <td>201.5</td>\n",
       "      <td>3</td>\n",
       "      <td>4245</td>\n",
       "      <td>1.254660e+06</td>\n",
       "      <td>1120.115987</td>\n",
       "      <td>3.057623</td>\n",
       "      <td>6.318598</td>\n",
       "      <td>117.25</td>\n",
       "      <td>543.75</td>\n",
       "      <td>426.50</td>\n",
       "    </tr>\n",
       "    <tr>\n",
       "      <th>Psychiatric hospitals</th>\n",
       "      <td>455.285714</td>\n",
       "      <td>222.5</td>\n",
       "      <td>0</td>\n",
       "      <td>3187</td>\n",
       "      <td>6.688582e+05</td>\n",
       "      <td>817.837527</td>\n",
       "      <td>3.280801</td>\n",
       "      <td>7.346775</td>\n",
       "      <td>60.25</td>\n",
       "      <td>341.25</td>\n",
       "      <td>281.00</td>\n",
       "    </tr>\n",
       "    <tr>\n",
       "      <th rowspan=\"3\" valign=\"top\">2016</th>\n",
       "      <th>General hospital psychiatric units</th>\n",
       "      <td>1447.428571</td>\n",
       "      <td>740.5</td>\n",
       "      <td>8</td>\n",
       "      <td>10124</td>\n",
       "      <td>6.873009e+06</td>\n",
       "      <td>2621.642430</td>\n",
       "      <td>3.195018</td>\n",
       "      <td>7.013808</td>\n",
       "      <td>86.00</td>\n",
       "      <td>1152.00</td>\n",
       "      <td>1066.00</td>\n",
       "    </tr>\n",
       "    <tr>\n",
       "      <th>Independent/private and private charitable centres</th>\n",
       "      <td>607.571429</td>\n",
       "      <td>164.0</td>\n",
       "      <td>0</td>\n",
       "      <td>4253</td>\n",
       "      <td>1.301142e+06</td>\n",
       "      <td>1140.675961</td>\n",
       "      <td>2.942956</td>\n",
       "      <td>5.753349</td>\n",
       "      <td>104.50</td>\n",
       "      <td>447.50</td>\n",
       "      <td>343.00</td>\n",
       "    </tr>\n",
       "    <tr>\n",
       "      <th>Psychiatric hospitals</th>\n",
       "      <td>415.000000</td>\n",
       "      <td>192.0</td>\n",
       "      <td>1</td>\n",
       "      <td>2904</td>\n",
       "      <td>5.604305e+05</td>\n",
       "      <td>748.619036</td>\n",
       "      <td>3.243488</td>\n",
       "      <td>7.177559</td>\n",
       "      <td>45.75</td>\n",
       "      <td>305.50</td>\n",
       "      <td>259.75</td>\n",
       "    </tr>\n",
       "    <tr>\n",
       "      <th rowspan=\"3\" valign=\"top\">2017</th>\n",
       "      <th>General hospital psychiatric units</th>\n",
       "      <td>1436.571429</td>\n",
       "      <td>735.0</td>\n",
       "      <td>4</td>\n",
       "      <td>10052</td>\n",
       "      <td>6.732923e+06</td>\n",
       "      <td>2594.787696</td>\n",
       "      <td>3.218130</td>\n",
       "      <td>7.124614</td>\n",
       "      <td>86.50</td>\n",
       "      <td>1222.75</td>\n",
       "      <td>1136.25</td>\n",
       "    </tr>\n",
       "    <tr>\n",
       "      <th>Independent/private and private charitable centres</th>\n",
       "      <td>584.857143</td>\n",
       "      <td>170.5</td>\n",
       "      <td>0</td>\n",
       "      <td>4094</td>\n",
       "      <td>1.181904e+06</td>\n",
       "      <td>1087.154144</td>\n",
       "      <td>3.009253</td>\n",
       "      <td>6.077812</td>\n",
       "      <td>117.00</td>\n",
       "      <td>456.00</td>\n",
       "      <td>339.00</td>\n",
       "    </tr>\n",
       "    <tr>\n",
       "      <th>Psychiatric hospitals</th>\n",
       "      <td>370.428571</td>\n",
       "      <td>157.0</td>\n",
       "      <td>3</td>\n",
       "      <td>2590</td>\n",
       "      <td>4.492247e+05</td>\n",
       "      <td>670.242288</td>\n",
       "      <td>3.214125</td>\n",
       "      <td>7.057464</td>\n",
       "      <td>45.50</td>\n",
       "      <td>327.00</td>\n",
       "      <td>281.50</td>\n",
       "    </tr>\n",
       "    <tr>\n",
       "      <th rowspan=\"3\" valign=\"top\">2018</th>\n",
       "      <th>General hospital psychiatric units</th>\n",
       "      <td>1458.428571</td>\n",
       "      <td>759.0</td>\n",
       "      <td>8</td>\n",
       "      <td>10201</td>\n",
       "      <td>6.954455e+06</td>\n",
       "      <td>2637.130075</td>\n",
       "      <td>3.207372</td>\n",
       "      <td>7.081147</td>\n",
       "      <td>82.25</td>\n",
       "      <td>1326.00</td>\n",
       "      <td>1243.75</td>\n",
       "    </tr>\n",
       "    <tr>\n",
       "      <th>Independent/private and private charitable centres</th>\n",
       "      <td>599.428571</td>\n",
       "      <td>251.5</td>\n",
       "      <td>0</td>\n",
       "      <td>4196</td>\n",
       "      <td>1.235115e+06</td>\n",
       "      <td>1111.357224</td>\n",
       "      <td>3.029760</td>\n",
       "      <td>6.166802</td>\n",
       "      <td>113.25</td>\n",
       "      <td>457.50</td>\n",
       "      <td>344.25</td>\n",
       "    </tr>\n",
       "    <tr>\n",
       "      <th>Psychiatric hospitals</th>\n",
       "      <td>370.714286</td>\n",
       "      <td>168.5</td>\n",
       "      <td>1</td>\n",
       "      <td>2594</td>\n",
       "      <td>4.493675e+05</td>\n",
       "      <td>670.348753</td>\n",
       "      <td>3.219518</td>\n",
       "      <td>7.082348</td>\n",
       "      <td>35.50</td>\n",
       "      <td>331.75</td>\n",
       "      <td>296.25</td>\n",
       "    </tr>\n",
       "    <tr>\n",
       "      <th rowspan=\"3\" valign=\"top\">2019</th>\n",
       "      <th>General hospital psychiatric units</th>\n",
       "      <td>1448.000000</td>\n",
       "      <td>811.5</td>\n",
       "      <td>10</td>\n",
       "      <td>10126</td>\n",
       "      <td>6.875654e+06</td>\n",
       "      <td>2622.146889</td>\n",
       "      <td>3.196797</td>\n",
       "      <td>7.022302</td>\n",
       "      <td>92.75</td>\n",
       "      <td>1117.50</td>\n",
       "      <td>1024.75</td>\n",
       "    </tr>\n",
       "    <tr>\n",
       "      <th>Independent/private and private charitable centres</th>\n",
       "      <td>580.571429</td>\n",
       "      <td>218.0</td>\n",
       "      <td>8</td>\n",
       "      <td>4062</td>\n",
       "      <td>1.158172e+06</td>\n",
       "      <td>1076.184193</td>\n",
       "      <td>3.021486</td>\n",
       "      <td>6.166173</td>\n",
       "      <td>97.75</td>\n",
       "      <td>509.25</td>\n",
       "      <td>411.50</td>\n",
       "    </tr>\n",
       "    <tr>\n",
       "      <th>Psychiatric hospitals</th>\n",
       "      <td>358.571429</td>\n",
       "      <td>168.0</td>\n",
       "      <td>2</td>\n",
       "      <td>2508</td>\n",
       "      <td>4.212524e+05</td>\n",
       "      <td>649.039612</td>\n",
       "      <td>3.211150</td>\n",
       "      <td>7.043307</td>\n",
       "      <td>34.75</td>\n",
       "      <td>283.75</td>\n",
       "      <td>249.00</td>\n",
       "    </tr>\n",
       "    <tr>\n",
       "      <th rowspan=\"3\" valign=\"top\">2020</th>\n",
       "      <th>General hospital psychiatric units</th>\n",
       "      <td>1381.714286</td>\n",
       "      <td>623.5</td>\n",
       "      <td>13</td>\n",
       "      <td>9659</td>\n",
       "      <td>6.285782e+06</td>\n",
       "      <td>2507.146138</td>\n",
       "      <td>3.177119</td>\n",
       "      <td>6.942807</td>\n",
       "      <td>89.50</td>\n",
       "      <td>1177.50</td>\n",
       "      <td>1088.00</td>\n",
       "    </tr>\n",
       "    <tr>\n",
       "      <th>Independent/private and private charitable centres</th>\n",
       "      <td>525.714286</td>\n",
       "      <td>203.0</td>\n",
       "      <td>0</td>\n",
       "      <td>3680</td>\n",
       "      <td>9.368890e+05</td>\n",
       "      <td>967.930260</td>\n",
       "      <td>3.076598</td>\n",
       "      <td>6.404628</td>\n",
       "      <td>106.00</td>\n",
       "      <td>454.75</td>\n",
       "      <td>348.75</td>\n",
       "    </tr>\n",
       "    <tr>\n",
       "      <th>Psychiatric hospitals</th>\n",
       "      <td>291.285714</td>\n",
       "      <td>129.5</td>\n",
       "      <td>2</td>\n",
       "      <td>2037</td>\n",
       "      <td>2.796785e+05</td>\n",
       "      <td>528.846412</td>\n",
       "      <td>3.183845</td>\n",
       "      <td>6.924956</td>\n",
       "      <td>27.50</td>\n",
       "      <td>242.75</td>\n",
       "      <td>215.25</td>\n",
       "    </tr>\n",
       "    <tr>\n",
       "      <th rowspan=\"3\" valign=\"top\">2021</th>\n",
       "      <th>General hospital psychiatric units</th>\n",
       "      <td>1468.000000</td>\n",
       "      <td>693.5</td>\n",
       "      <td>9</td>\n",
       "      <td>10267</td>\n",
       "      <td>7.077386e+06</td>\n",
       "      <td>2660.335722</td>\n",
       "      <td>3.191145</td>\n",
       "      <td>6.992579</td>\n",
       "      <td>96.00</td>\n",
       "      <td>1130.25</td>\n",
       "      <td>1034.25</td>\n",
       "    </tr>\n",
       "    <tr>\n",
       "      <th>Independent/private and private charitable centres</th>\n",
       "      <td>536.857143</td>\n",
       "      <td>193.0</td>\n",
       "      <td>0</td>\n",
       "      <td>3758</td>\n",
       "      <td>9.746675e+05</td>\n",
       "      <td>987.252509</td>\n",
       "      <td>3.060182</td>\n",
       "      <td>6.434630</td>\n",
       "      <td>67.00</td>\n",
       "      <td>497.25</td>\n",
       "      <td>430.25</td>\n",
       "    </tr>\n",
       "    <tr>\n",
       "      <th>Psychiatric hospitals</th>\n",
       "      <td>241.285714</td>\n",
       "      <td>111.5</td>\n",
       "      <td>1</td>\n",
       "      <td>1688</td>\n",
       "      <td>1.918551e+05</td>\n",
       "      <td>438.012720</td>\n",
       "      <td>3.180884</td>\n",
       "      <td>6.929527</td>\n",
       "      <td>17.00</td>\n",
       "      <td>231.25</td>\n",
       "      <td>214.25</td>\n",
       "    </tr>\n",
       "    <tr>\n",
       "      <th rowspan=\"3\" valign=\"top\">2022</th>\n",
       "      <th>General hospital psychiatric units</th>\n",
       "      <td>1418.142857</td>\n",
       "      <td>580.0</td>\n",
       "      <td>10</td>\n",
       "      <td>9917</td>\n",
       "      <td>6.695077e+06</td>\n",
       "      <td>2587.484637</td>\n",
       "      <td>3.129205</td>\n",
       "      <td>6.730927</td>\n",
       "      <td>75.25</td>\n",
       "      <td>1154.25</td>\n",
       "      <td>1079.00</td>\n",
       "    </tr>\n",
       "    <tr>\n",
       "      <th>Independent/private and private charitable centres</th>\n",
       "      <td>586.714286</td>\n",
       "      <td>180.5</td>\n",
       "      <td>0</td>\n",
       "      <td>4107</td>\n",
       "      <td>1.171069e+06</td>\n",
       "      <td>1082.159197</td>\n",
       "      <td>3.035977</td>\n",
       "      <td>6.328042</td>\n",
       "      <td>71.25</td>\n",
       "      <td>581.00</td>\n",
       "      <td>509.75</td>\n",
       "    </tr>\n",
       "    <tr>\n",
       "      <th>Psychiatric hospitals</th>\n",
       "      <td>250.857143</td>\n",
       "      <td>102.0</td>\n",
       "      <td>1</td>\n",
       "      <td>1755</td>\n",
       "      <td>2.097218e+05</td>\n",
       "      <td>457.953954</td>\n",
       "      <td>3.124388</td>\n",
       "      <td>6.709439</td>\n",
       "      <td>13.50</td>\n",
       "      <td>200.25</td>\n",
       "      <td>186.75</td>\n",
       "    </tr>\n",
       "  </tbody>\n",
       "</table>\n",
       "</div>"
      ],
      "text/plain": [
       "                                                                Mean  Median  \\\n",
       "Year Type of Hospital                                                          \n",
       "2013 General hospital psychiatric units                  1468.285714   686.0   \n",
       "     Independent/private and private charitable centres   630.142857   228.0   \n",
       "     Psychiatric hospitals                                538.285714   228.0   \n",
       "2014 General hospital psychiatric units                  1468.285714   686.0   \n",
       "     Independent/private and private charitable centres   630.142857   228.0   \n",
       "     Psychiatric hospitals                                538.285714   228.0   \n",
       "2015 General hospital psychiatric units                  1489.285714   742.0   \n",
       "     Independent/private and private charitable centres   606.857143   201.5   \n",
       "     Psychiatric hospitals                                455.285714   222.5   \n",
       "2016 General hospital psychiatric units                  1447.428571   740.5   \n",
       "     Independent/private and private charitable centres   607.571429   164.0   \n",
       "     Psychiatric hospitals                                415.000000   192.0   \n",
       "2017 General hospital psychiatric units                  1436.571429   735.0   \n",
       "     Independent/private and private charitable centres   584.857143   170.5   \n",
       "     Psychiatric hospitals                                370.428571   157.0   \n",
       "2018 General hospital psychiatric units                  1458.428571   759.0   \n",
       "     Independent/private and private charitable centres   599.428571   251.5   \n",
       "     Psychiatric hospitals                                370.714286   168.5   \n",
       "2019 General hospital psychiatric units                  1448.000000   811.5   \n",
       "     Independent/private and private charitable centres   580.571429   218.0   \n",
       "     Psychiatric hospitals                                358.571429   168.0   \n",
       "2020 General hospital psychiatric units                  1381.714286   623.5   \n",
       "     Independent/private and private charitable centres   525.714286   203.0   \n",
       "     Psychiatric hospitals                                291.285714   129.5   \n",
       "2021 General hospital psychiatric units                  1468.000000   693.5   \n",
       "     Independent/private and private charitable centres   536.857143   193.0   \n",
       "     Psychiatric hospitals                                241.285714   111.5   \n",
       "2022 General hospital psychiatric units                  1418.142857   580.0   \n",
       "     Independent/private and private charitable centres   586.714286   180.5   \n",
       "     Psychiatric hospitals                                250.857143   102.0   \n",
       "\n",
       "                                                         Mode  Range  \\\n",
       "Year Type of Hospital                                                  \n",
       "2013 General hospital psychiatric units                    13  10265   \n",
       "     Independent/private and private charitable centres     1   4410   \n",
       "     Psychiatric hospitals                                  2   3766   \n",
       "2014 General hospital psychiatric units                    13  10265   \n",
       "     Independent/private and private charitable centres     1   4410   \n",
       "     Psychiatric hospitals                                  2   3766   \n",
       "2015 General hospital psychiatric units                     8  10417   \n",
       "     Independent/private and private charitable centres     3   4245   \n",
       "     Psychiatric hospitals                                  0   3187   \n",
       "2016 General hospital psychiatric units                     8  10124   \n",
       "     Independent/private and private charitable centres     0   4253   \n",
       "     Psychiatric hospitals                                  1   2904   \n",
       "2017 General hospital psychiatric units                     4  10052   \n",
       "     Independent/private and private charitable centres     0   4094   \n",
       "     Psychiatric hospitals                                  3   2590   \n",
       "2018 General hospital psychiatric units                     8  10201   \n",
       "     Independent/private and private charitable centres     0   4196   \n",
       "     Psychiatric hospitals                                  1   2594   \n",
       "2019 General hospital psychiatric units                    10  10126   \n",
       "     Independent/private and private charitable centres     8   4062   \n",
       "     Psychiatric hospitals                                  2   2508   \n",
       "2020 General hospital psychiatric units                    13   9659   \n",
       "     Independent/private and private charitable centres     0   3680   \n",
       "     Psychiatric hospitals                                  2   2037   \n",
       "2021 General hospital psychiatric units                     9  10267   \n",
       "     Independent/private and private charitable centres     0   3758   \n",
       "     Psychiatric hospitals                                  1   1688   \n",
       "2022 General hospital psychiatric units                    10   9917   \n",
       "     Independent/private and private charitable centres     0   4107   \n",
       "     Psychiatric hospitals                                  1   1755   \n",
       "\n",
       "                                                             Variance  \\\n",
       "Year Type of Hospital                                                   \n",
       "2013 General hospital psychiatric units                  7.191987e+06   \n",
       "     Independent/private and private charitable centres  1.346945e+06   \n",
       "     Psychiatric hospitals                               9.534385e+05   \n",
       "2014 General hospital psychiatric units                  7.191987e+06   \n",
       "     Independent/private and private charitable centres  1.346945e+06   \n",
       "     Psychiatric hospitals                               9.534385e+05   \n",
       "2015 General hospital psychiatric units                  7.343821e+06   \n",
       "     Independent/private and private charitable centres  1.254660e+06   \n",
       "     Psychiatric hospitals                               6.688582e+05   \n",
       "2016 General hospital psychiatric units                  6.873009e+06   \n",
       "     Independent/private and private charitable centres  1.301142e+06   \n",
       "     Psychiatric hospitals                               5.604305e+05   \n",
       "2017 General hospital psychiatric units                  6.732923e+06   \n",
       "     Independent/private and private charitable centres  1.181904e+06   \n",
       "     Psychiatric hospitals                               4.492247e+05   \n",
       "2018 General hospital psychiatric units                  6.954455e+06   \n",
       "     Independent/private and private charitable centres  1.235115e+06   \n",
       "     Psychiatric hospitals                               4.493675e+05   \n",
       "2019 General hospital psychiatric units                  6.875654e+06   \n",
       "     Independent/private and private charitable centres  1.158172e+06   \n",
       "     Psychiatric hospitals                               4.212524e+05   \n",
       "2020 General hospital psychiatric units                  6.285782e+06   \n",
       "     Independent/private and private charitable centres  9.368890e+05   \n",
       "     Psychiatric hospitals                               2.796785e+05   \n",
       "2021 General hospital psychiatric units                  7.077386e+06   \n",
       "     Independent/private and private charitable centres  9.746675e+05   \n",
       "     Psychiatric hospitals                               1.918551e+05   \n",
       "2022 General hospital psychiatric units                  6.695077e+06   \n",
       "     Independent/private and private charitable centres  1.171069e+06   \n",
       "     Psychiatric hospitals                               2.097218e+05   \n",
       "\n",
       "                                                         Std Deviation  \\\n",
       "Year Type of Hospital                                                    \n",
       "2013 General hospital psychiatric units                    2681.788021   \n",
       "     Independent/private and private charitable centres    1160.579488   \n",
       "     Psychiatric hospitals                                  976.441769   \n",
       "2014 General hospital psychiatric units                    2681.788021   \n",
       "     Independent/private and private charitable centres    1160.579488   \n",
       "     Psychiatric hospitals                                  976.441769   \n",
       "2015 General hospital psychiatric units                    2709.948465   \n",
       "     Independent/private and private charitable centres    1120.115987   \n",
       "     Psychiatric hospitals                                  817.837527   \n",
       "2016 General hospital psychiatric units                    2621.642430   \n",
       "     Independent/private and private charitable centres    1140.675961   \n",
       "     Psychiatric hospitals                                  748.619036   \n",
       "2017 General hospital psychiatric units                    2594.787696   \n",
       "     Independent/private and private charitable centres    1087.154144   \n",
       "     Psychiatric hospitals                                  670.242288   \n",
       "2018 General hospital psychiatric units                    2637.130075   \n",
       "     Independent/private and private charitable centres    1111.357224   \n",
       "     Psychiatric hospitals                                  670.348753   \n",
       "2019 General hospital psychiatric units                    2622.146889   \n",
       "     Independent/private and private charitable centres    1076.184193   \n",
       "     Psychiatric hospitals                                  649.039612   \n",
       "2020 General hospital psychiatric units                    2507.146138   \n",
       "     Independent/private and private charitable centres     967.930260   \n",
       "     Psychiatric hospitals                                  528.846412   \n",
       "2021 General hospital psychiatric units                    2660.335722   \n",
       "     Independent/private and private charitable centres     987.252509   \n",
       "     Psychiatric hospitals                                  438.012720   \n",
       "2022 General hospital psychiatric units                    2587.484637   \n",
       "     Independent/private and private charitable centres    1082.159197   \n",
       "     Psychiatric hospitals                                  457.953954   \n",
       "\n",
       "                                                         Skewness  Kurtosis  \\\n",
       "Year Type of Hospital                                                         \n",
       "2013 General hospital psychiatric units                  3.123323  6.689845   \n",
       "     Independent/private and private charitable centres  3.072951  6.394796   \n",
       "     Psychiatric hospitals                               3.187921  6.954681   \n",
       "2014 General hospital psychiatric units                  3.123323  6.689845   \n",
       "     Independent/private and private charitable centres  3.072951  6.394796   \n",
       "     Psychiatric hospitals                               3.187921  6.954681   \n",
       "2015 General hospital psychiatric units                  3.153857  6.833048   \n",
       "     Independent/private and private charitable centres  3.057623  6.318598   \n",
       "     Psychiatric hospitals                               3.280801  7.346775   \n",
       "2016 General hospital psychiatric units                  3.195018  7.013808   \n",
       "     Independent/private and private charitable centres  2.942956  5.753349   \n",
       "     Psychiatric hospitals                               3.243488  7.177559   \n",
       "2017 General hospital psychiatric units                  3.218130  7.124614   \n",
       "     Independent/private and private charitable centres  3.009253  6.077812   \n",
       "     Psychiatric hospitals                               3.214125  7.057464   \n",
       "2018 General hospital psychiatric units                  3.207372  7.081147   \n",
       "     Independent/private and private charitable centres  3.029760  6.166802   \n",
       "     Psychiatric hospitals                               3.219518  7.082348   \n",
       "2019 General hospital psychiatric units                  3.196797  7.022302   \n",
       "     Independent/private and private charitable centres  3.021486  6.166173   \n",
       "     Psychiatric hospitals                               3.211150  7.043307   \n",
       "2020 General hospital psychiatric units                  3.177119  6.942807   \n",
       "     Independent/private and private charitable centres  3.076598  6.404628   \n",
       "     Psychiatric hospitals                               3.183845  6.924956   \n",
       "2021 General hospital psychiatric units                  3.191145  6.992579   \n",
       "     Independent/private and private charitable centres  3.060182  6.434630   \n",
       "     Psychiatric hospitals                               3.180884  6.929527   \n",
       "2022 General hospital psychiatric units                  3.129205  6.730927   \n",
       "     Independent/private and private charitable centres  3.035977  6.328042   \n",
       "     Psychiatric hospitals                               3.124388  6.709439   \n",
       "\n",
       "                                                             Q1       Q3  \\\n",
       "Year Type of Hospital                                                      \n",
       "2013 General hospital psychiatric units                   94.25  1118.50   \n",
       "     Independent/private and private charitable centres  124.50   551.00   \n",
       "     Psychiatric hospitals                                69.50   414.50   \n",
       "2014 General hospital psychiatric units                   94.25  1118.50   \n",
       "     Independent/private and private charitable centres  124.50   551.00   \n",
       "     Psychiatric hospitals                                69.50   414.50   \n",
       "2015 General hospital psychiatric units                  102.25  1117.25   \n",
       "     Independent/private and private charitable centres  117.25   543.75   \n",
       "     Psychiatric hospitals                                60.25   341.25   \n",
       "2016 General hospital psychiatric units                   86.00  1152.00   \n",
       "     Independent/private and private charitable centres  104.50   447.50   \n",
       "     Psychiatric hospitals                                45.75   305.50   \n",
       "2017 General hospital psychiatric units                   86.50  1222.75   \n",
       "     Independent/private and private charitable centres  117.00   456.00   \n",
       "     Psychiatric hospitals                                45.50   327.00   \n",
       "2018 General hospital psychiatric units                   82.25  1326.00   \n",
       "     Independent/private and private charitable centres  113.25   457.50   \n",
       "     Psychiatric hospitals                                35.50   331.75   \n",
       "2019 General hospital psychiatric units                   92.75  1117.50   \n",
       "     Independent/private and private charitable centres   97.75   509.25   \n",
       "     Psychiatric hospitals                                34.75   283.75   \n",
       "2020 General hospital psychiatric units                   89.50  1177.50   \n",
       "     Independent/private and private charitable centres  106.00   454.75   \n",
       "     Psychiatric hospitals                                27.50   242.75   \n",
       "2021 General hospital psychiatric units                   96.00  1130.25   \n",
       "     Independent/private and private charitable centres   67.00   497.25   \n",
       "     Psychiatric hospitals                                17.00   231.25   \n",
       "2022 General hospital psychiatric units                   75.25  1154.25   \n",
       "     Independent/private and private charitable centres   71.25   581.00   \n",
       "     Psychiatric hospitals                                13.50   200.25   \n",
       "\n",
       "                                                             IQR  \n",
       "Year Type of Hospital                                             \n",
       "2013 General hospital psychiatric units                  1024.25  \n",
       "     Independent/private and private charitable centres   426.50  \n",
       "     Psychiatric hospitals                                345.00  \n",
       "2014 General hospital psychiatric units                  1024.25  \n",
       "     Independent/private and private charitable centres   426.50  \n",
       "     Psychiatric hospitals                                345.00  \n",
       "2015 General hospital psychiatric units                  1015.00  \n",
       "     Independent/private and private charitable centres   426.50  \n",
       "     Psychiatric hospitals                                281.00  \n",
       "2016 General hospital psychiatric units                  1066.00  \n",
       "     Independent/private and private charitable centres   343.00  \n",
       "     Psychiatric hospitals                                259.75  \n",
       "2017 General hospital psychiatric units                  1136.25  \n",
       "     Independent/private and private charitable centres   339.00  \n",
       "     Psychiatric hospitals                                281.50  \n",
       "2018 General hospital psychiatric units                  1243.75  \n",
       "     Independent/private and private charitable centres   344.25  \n",
       "     Psychiatric hospitals                                296.25  \n",
       "2019 General hospital psychiatric units                  1024.75  \n",
       "     Independent/private and private charitable centres   411.50  \n",
       "     Psychiatric hospitals                                249.00  \n",
       "2020 General hospital psychiatric units                  1088.00  \n",
       "     Independent/private and private charitable centres   348.75  \n",
       "     Psychiatric hospitals                                215.25  \n",
       "2021 General hospital psychiatric units                  1034.25  \n",
       "     Independent/private and private charitable centres   430.25  \n",
       "     Psychiatric hospitals                                214.25  \n",
       "2022 General hospital psychiatric units                  1079.00  \n",
       "     Independent/private and private charitable centres   509.75  \n",
       "     Psychiatric hospitals                                186.75  "
      ]
     },
     "execution_count": 35,
     "metadata": {},
     "output_type": "execute_result"
    }
   ],
   "source": [
    "stats1.head(30)"
   ]
  },
  {
   "cell_type": "code",
   "execution_count": 69,
   "metadata": {},
   "outputs": [
    {
     "data": {
      "application/vnd.plotly.v1+json": {
       "config": {
        "plotlyServerURL": "https://plot.ly"
       },
       "data": [
        {
         "name": "Mean - General hospital psychiatric units",
         "type": "bar",
         "x": [
          2013,
          2014,
          2015,
          2016,
          2017,
          2018,
          2019,
          2020,
          2021,
          2022
         ],
         "xaxis": "x",
         "y": [
          1468.2857142857142,
          1468.2857142857142,
          1489.2857142857142,
          1447.4285714285713,
          1436.5714285714287,
          1458.4285714285713,
          1448,
          1381.7142857142858,
          1468,
          1418.142857142857
         ],
         "yaxis": "y"
        },
        {
         "name": "Mean - Independent/private and private charitable centres",
         "type": "bar",
         "x": [
          2013,
          2014,
          2015,
          2016,
          2017,
          2018,
          2019,
          2020,
          2021,
          2022
         ],
         "xaxis": "x",
         "y": [
          630.1428571428571,
          630.1428571428571,
          606.8571428571429,
          607.5714285714286,
          584.8571428571429,
          599.4285714285714,
          580.5714285714286,
          525.7142857142857,
          536.8571428571429,
          586.7142857142857
         ],
         "yaxis": "y"
        },
        {
         "name": "Mean - Psychiatric hospitals",
         "type": "bar",
         "x": [
          2013,
          2014,
          2015,
          2016,
          2017,
          2018,
          2019,
          2020,
          2021,
          2022
         ],
         "xaxis": "x",
         "y": [
          538.2857142857143,
          538.2857142857143,
          455.2857142857143,
          415,
          370.42857142857144,
          370.7142857142857,
          358.57142857142856,
          291.2857142857143,
          241.28571428571428,
          250.85714285714286
         ],
         "yaxis": "y"
        },
        {
         "mode": "lines+markers",
         "name": "Median - General hospital psychiatric units",
         "type": "scatter",
         "x": [
          2013,
          2014,
          2015,
          2016,
          2017,
          2018,
          2019,
          2020,
          2021,
          2022
         ],
         "xaxis": "x",
         "y": [
          686,
          686,
          742,
          740.5,
          735,
          759,
          811.5,
          623.5,
          693.5,
          580
         ],
         "yaxis": "y2"
        },
        {
         "mode": "lines+markers",
         "name": "Median - Independent/private and private charitable centres",
         "type": "scatter",
         "x": [
          2013,
          2014,
          2015,
          2016,
          2017,
          2018,
          2019,
          2020,
          2021,
          2022
         ],
         "xaxis": "x",
         "y": [
          228,
          228,
          201.5,
          164,
          170.5,
          251.5,
          218,
          203,
          193,
          180.5
         ],
         "yaxis": "y2"
        },
        {
         "mode": "lines+markers",
         "name": "Median - Psychiatric hospitals",
         "type": "scatter",
         "x": [
          2013,
          2014,
          2015,
          2016,
          2017,
          2018,
          2019,
          2020,
          2021,
          2022
         ],
         "xaxis": "x",
         "y": [
          228,
          228,
          222.5,
          192,
          157,
          168.5,
          168,
          129.5,
          111.5,
          102
         ],
         "yaxis": "y2"
        }
       ],
       "layout": {
        "barmode": "group",
        "height": 600,
        "template": {
         "data": {
          "bar": [
           {
            "error_x": {
             "color": "#2a3f5f"
            },
            "error_y": {
             "color": "#2a3f5f"
            },
            "marker": {
             "line": {
              "color": "#E5ECF6",
              "width": 0.5
             },
             "pattern": {
              "fillmode": "overlay",
              "size": 10,
              "solidity": 0.2
             }
            },
            "type": "bar"
           }
          ],
          "barpolar": [
           {
            "marker": {
             "line": {
              "color": "#E5ECF6",
              "width": 0.5
             },
             "pattern": {
              "fillmode": "overlay",
              "size": 10,
              "solidity": 0.2
             }
            },
            "type": "barpolar"
           }
          ],
          "carpet": [
           {
            "aaxis": {
             "endlinecolor": "#2a3f5f",
             "gridcolor": "white",
             "linecolor": "white",
             "minorgridcolor": "white",
             "startlinecolor": "#2a3f5f"
            },
            "baxis": {
             "endlinecolor": "#2a3f5f",
             "gridcolor": "white",
             "linecolor": "white",
             "minorgridcolor": "white",
             "startlinecolor": "#2a3f5f"
            },
            "type": "carpet"
           }
          ],
          "choropleth": [
           {
            "colorbar": {
             "outlinewidth": 0,
             "ticks": ""
            },
            "type": "choropleth"
           }
          ],
          "contour": [
           {
            "colorbar": {
             "outlinewidth": 0,
             "ticks": ""
            },
            "colorscale": [
             [
              0,
              "#0d0887"
             ],
             [
              0.1111111111111111,
              "#46039f"
             ],
             [
              0.2222222222222222,
              "#7201a8"
             ],
             [
              0.3333333333333333,
              "#9c179e"
             ],
             [
              0.4444444444444444,
              "#bd3786"
             ],
             [
              0.5555555555555556,
              "#d8576b"
             ],
             [
              0.6666666666666666,
              "#ed7953"
             ],
             [
              0.7777777777777778,
              "#fb9f3a"
             ],
             [
              0.8888888888888888,
              "#fdca26"
             ],
             [
              1,
              "#f0f921"
             ]
            ],
            "type": "contour"
           }
          ],
          "contourcarpet": [
           {
            "colorbar": {
             "outlinewidth": 0,
             "ticks": ""
            },
            "type": "contourcarpet"
           }
          ],
          "heatmap": [
           {
            "colorbar": {
             "outlinewidth": 0,
             "ticks": ""
            },
            "colorscale": [
             [
              0,
              "#0d0887"
             ],
             [
              0.1111111111111111,
              "#46039f"
             ],
             [
              0.2222222222222222,
              "#7201a8"
             ],
             [
              0.3333333333333333,
              "#9c179e"
             ],
             [
              0.4444444444444444,
              "#bd3786"
             ],
             [
              0.5555555555555556,
              "#d8576b"
             ],
             [
              0.6666666666666666,
              "#ed7953"
             ],
             [
              0.7777777777777778,
              "#fb9f3a"
             ],
             [
              0.8888888888888888,
              "#fdca26"
             ],
             [
              1,
              "#f0f921"
             ]
            ],
            "type": "heatmap"
           }
          ],
          "heatmapgl": [
           {
            "colorbar": {
             "outlinewidth": 0,
             "ticks": ""
            },
            "colorscale": [
             [
              0,
              "#0d0887"
             ],
             [
              0.1111111111111111,
              "#46039f"
             ],
             [
              0.2222222222222222,
              "#7201a8"
             ],
             [
              0.3333333333333333,
              "#9c179e"
             ],
             [
              0.4444444444444444,
              "#bd3786"
             ],
             [
              0.5555555555555556,
              "#d8576b"
             ],
             [
              0.6666666666666666,
              "#ed7953"
             ],
             [
              0.7777777777777778,
              "#fb9f3a"
             ],
             [
              0.8888888888888888,
              "#fdca26"
             ],
             [
              1,
              "#f0f921"
             ]
            ],
            "type": "heatmapgl"
           }
          ],
          "histogram": [
           {
            "marker": {
             "pattern": {
              "fillmode": "overlay",
              "size": 10,
              "solidity": 0.2
             }
            },
            "type": "histogram"
           }
          ],
          "histogram2d": [
           {
            "colorbar": {
             "outlinewidth": 0,
             "ticks": ""
            },
            "colorscale": [
             [
              0,
              "#0d0887"
             ],
             [
              0.1111111111111111,
              "#46039f"
             ],
             [
              0.2222222222222222,
              "#7201a8"
             ],
             [
              0.3333333333333333,
              "#9c179e"
             ],
             [
              0.4444444444444444,
              "#bd3786"
             ],
             [
              0.5555555555555556,
              "#d8576b"
             ],
             [
              0.6666666666666666,
              "#ed7953"
             ],
             [
              0.7777777777777778,
              "#fb9f3a"
             ],
             [
              0.8888888888888888,
              "#fdca26"
             ],
             [
              1,
              "#f0f921"
             ]
            ],
            "type": "histogram2d"
           }
          ],
          "histogram2dcontour": [
           {
            "colorbar": {
             "outlinewidth": 0,
             "ticks": ""
            },
            "colorscale": [
             [
              0,
              "#0d0887"
             ],
             [
              0.1111111111111111,
              "#46039f"
             ],
             [
              0.2222222222222222,
              "#7201a8"
             ],
             [
              0.3333333333333333,
              "#9c179e"
             ],
             [
              0.4444444444444444,
              "#bd3786"
             ],
             [
              0.5555555555555556,
              "#d8576b"
             ],
             [
              0.6666666666666666,
              "#ed7953"
             ],
             [
              0.7777777777777778,
              "#fb9f3a"
             ],
             [
              0.8888888888888888,
              "#fdca26"
             ],
             [
              1,
              "#f0f921"
             ]
            ],
            "type": "histogram2dcontour"
           }
          ],
          "mesh3d": [
           {
            "colorbar": {
             "outlinewidth": 0,
             "ticks": ""
            },
            "type": "mesh3d"
           }
          ],
          "parcoords": [
           {
            "line": {
             "colorbar": {
              "outlinewidth": 0,
              "ticks": ""
             }
            },
            "type": "parcoords"
           }
          ],
          "pie": [
           {
            "automargin": true,
            "type": "pie"
           }
          ],
          "scatter": [
           {
            "fillpattern": {
             "fillmode": "overlay",
             "size": 10,
             "solidity": 0.2
            },
            "type": "scatter"
           }
          ],
          "scatter3d": [
           {
            "line": {
             "colorbar": {
              "outlinewidth": 0,
              "ticks": ""
             }
            },
            "marker": {
             "colorbar": {
              "outlinewidth": 0,
              "ticks": ""
             }
            },
            "type": "scatter3d"
           }
          ],
          "scattercarpet": [
           {
            "marker": {
             "colorbar": {
              "outlinewidth": 0,
              "ticks": ""
             }
            },
            "type": "scattercarpet"
           }
          ],
          "scattergeo": [
           {
            "marker": {
             "colorbar": {
              "outlinewidth": 0,
              "ticks": ""
             }
            },
            "type": "scattergeo"
           }
          ],
          "scattergl": [
           {
            "marker": {
             "colorbar": {
              "outlinewidth": 0,
              "ticks": ""
             }
            },
            "type": "scattergl"
           }
          ],
          "scattermapbox": [
           {
            "marker": {
             "colorbar": {
              "outlinewidth": 0,
              "ticks": ""
             }
            },
            "type": "scattermapbox"
           }
          ],
          "scatterpolar": [
           {
            "marker": {
             "colorbar": {
              "outlinewidth": 0,
              "ticks": ""
             }
            },
            "type": "scatterpolar"
           }
          ],
          "scatterpolargl": [
           {
            "marker": {
             "colorbar": {
              "outlinewidth": 0,
              "ticks": ""
             }
            },
            "type": "scatterpolargl"
           }
          ],
          "scatterternary": [
           {
            "marker": {
             "colorbar": {
              "outlinewidth": 0,
              "ticks": ""
             }
            },
            "type": "scatterternary"
           }
          ],
          "surface": [
           {
            "colorbar": {
             "outlinewidth": 0,
             "ticks": ""
            },
            "colorscale": [
             [
              0,
              "#0d0887"
             ],
             [
              0.1111111111111111,
              "#46039f"
             ],
             [
              0.2222222222222222,
              "#7201a8"
             ],
             [
              0.3333333333333333,
              "#9c179e"
             ],
             [
              0.4444444444444444,
              "#bd3786"
             ],
             [
              0.5555555555555556,
              "#d8576b"
             ],
             [
              0.6666666666666666,
              "#ed7953"
             ],
             [
              0.7777777777777778,
              "#fb9f3a"
             ],
             [
              0.8888888888888888,
              "#fdca26"
             ],
             [
              1,
              "#f0f921"
             ]
            ],
            "type": "surface"
           }
          ],
          "table": [
           {
            "cells": {
             "fill": {
              "color": "#EBF0F8"
             },
             "line": {
              "color": "white"
             }
            },
            "header": {
             "fill": {
              "color": "#C8D4E3"
             },
             "line": {
              "color": "white"
             }
            },
            "type": "table"
           }
          ]
         },
         "layout": {
          "annotationdefaults": {
           "arrowcolor": "#2a3f5f",
           "arrowhead": 0,
           "arrowwidth": 1
          },
          "autotypenumbers": "strict",
          "coloraxis": {
           "colorbar": {
            "outlinewidth": 0,
            "ticks": ""
           }
          },
          "colorscale": {
           "diverging": [
            [
             0,
             "#8e0152"
            ],
            [
             0.1,
             "#c51b7d"
            ],
            [
             0.2,
             "#de77ae"
            ],
            [
             0.3,
             "#f1b6da"
            ],
            [
             0.4,
             "#fde0ef"
            ],
            [
             0.5,
             "#f7f7f7"
            ],
            [
             0.6,
             "#e6f5d0"
            ],
            [
             0.7,
             "#b8e186"
            ],
            [
             0.8,
             "#7fbc41"
            ],
            [
             0.9,
             "#4d9221"
            ],
            [
             1,
             "#276419"
            ]
           ],
           "sequential": [
            [
             0,
             "#0d0887"
            ],
            [
             0.1111111111111111,
             "#46039f"
            ],
            [
             0.2222222222222222,
             "#7201a8"
            ],
            [
             0.3333333333333333,
             "#9c179e"
            ],
            [
             0.4444444444444444,
             "#bd3786"
            ],
            [
             0.5555555555555556,
             "#d8576b"
            ],
            [
             0.6666666666666666,
             "#ed7953"
            ],
            [
             0.7777777777777778,
             "#fb9f3a"
            ],
            [
             0.8888888888888888,
             "#fdca26"
            ],
            [
             1,
             "#f0f921"
            ]
           ],
           "sequentialminus": [
            [
             0,
             "#0d0887"
            ],
            [
             0.1111111111111111,
             "#46039f"
            ],
            [
             0.2222222222222222,
             "#7201a8"
            ],
            [
             0.3333333333333333,
             "#9c179e"
            ],
            [
             0.4444444444444444,
             "#bd3786"
            ],
            [
             0.5555555555555556,
             "#d8576b"
            ],
            [
             0.6666666666666666,
             "#ed7953"
            ],
            [
             0.7777777777777778,
             "#fb9f3a"
            ],
            [
             0.8888888888888888,
             "#fdca26"
            ],
            [
             1,
             "#f0f921"
            ]
           ]
          },
          "colorway": [
           "#636efa",
           "#EF553B",
           "#00cc96",
           "#ab63fa",
           "#FFA15A",
           "#19d3f3",
           "#FF6692",
           "#B6E880",
           "#FF97FF",
           "#FECB52"
          ],
          "font": {
           "color": "#2a3f5f"
          },
          "geo": {
           "bgcolor": "white",
           "lakecolor": "white",
           "landcolor": "#E5ECF6",
           "showlakes": true,
           "showland": true,
           "subunitcolor": "white"
          },
          "hoverlabel": {
           "align": "left"
          },
          "hovermode": "closest",
          "mapbox": {
           "style": "light"
          },
          "paper_bgcolor": "white",
          "plot_bgcolor": "#E5ECF6",
          "polar": {
           "angularaxis": {
            "gridcolor": "white",
            "linecolor": "white",
            "ticks": ""
           },
           "bgcolor": "#E5ECF6",
           "radialaxis": {
            "gridcolor": "white",
            "linecolor": "white",
            "ticks": ""
           }
          },
          "scene": {
           "xaxis": {
            "backgroundcolor": "#E5ECF6",
            "gridcolor": "white",
            "gridwidth": 2,
            "linecolor": "white",
            "showbackground": true,
            "ticks": "",
            "zerolinecolor": "white"
           },
           "yaxis": {
            "backgroundcolor": "#E5ECF6",
            "gridcolor": "white",
            "gridwidth": 2,
            "linecolor": "white",
            "showbackground": true,
            "ticks": "",
            "zerolinecolor": "white"
           },
           "zaxis": {
            "backgroundcolor": "#E5ECF6",
            "gridcolor": "white",
            "gridwidth": 2,
            "linecolor": "white",
            "showbackground": true,
            "ticks": "",
            "zerolinecolor": "white"
           }
          },
          "shapedefaults": {
           "line": {
            "color": "#2a3f5f"
           }
          },
          "ternary": {
           "aaxis": {
            "gridcolor": "white",
            "linecolor": "white",
            "ticks": ""
           },
           "baxis": {
            "gridcolor": "white",
            "linecolor": "white",
            "ticks": ""
           },
           "bgcolor": "#E5ECF6",
           "caxis": {
            "gridcolor": "white",
            "linecolor": "white",
            "ticks": ""
           }
          },
          "title": {
           "x": 0.05
          },
          "xaxis": {
           "automargin": true,
           "gridcolor": "white",
           "linecolor": "white",
           "ticks": "",
           "title": {
            "standoff": 15
           },
           "zerolinecolor": "white",
           "zerolinewidth": 2
          },
          "yaxis": {
           "automargin": true,
           "gridcolor": "white",
           "linecolor": "white",
           "ticks": "",
           "title": {
            "standoff": 15
           },
           "zerolinecolor": "white",
           "zerolinewidth": 2
          }
         }
        },
        "title": {
         "text": "Mean and Median of VALUE Grouped by Year and Type of Hospital"
        },
        "width": 1600,
        "xaxis": {
         "anchor": "y",
         "domain": [
          0,
          0.94
         ],
         "title": {
          "text": "Year"
         }
        },
        "yaxis": {
         "anchor": "x",
         "domain": [
          0,
          1
         ],
         "title": {
          "text": "Mean VALUE"
         }
        },
        "yaxis2": {
         "anchor": "x",
         "overlaying": "y",
         "side": "right",
         "title": {
          "text": "Median VALUE"
         }
        }
       }
      }
     },
     "metadata": {},
     "output_type": "display_data"
    }
   ],
   "source": [
    "import plotly.graph_objects as go\n",
    "from plotly.subplots import make_subplots\n",
    "\n",
    "# Resetting the index to make 'Year' and 'Type of Hospital' as columns\n",
    "stats1_reset = stats1.reset_index()\n",
    "\n",
    "# Creating a figure with secondary_y (y-axis) for the line graph\n",
    "fig = make_subplots(specs=[[{\"secondary_y\": True}]])\n",
    "\n",
    "# Adding bar graph for Mean\n",
    "for hospital_type in stats1_reset['Type of Hospital'].unique():\n",
    "    filtered_df = stats1_reset[stats1_reset['Type of Hospital'] == hospital_type]\n",
    "    fig.add_trace(\n",
    "        go.Bar(\n",
    "            x=filtered_df['Year'], \n",
    "            y=filtered_df['Mean'], \n",
    "            name=f'Mean - {hospital_type}'\n",
    "        ),\n",
    "        secondary_y=False,\n",
    "    )\n",
    "\n",
    "# Adding line graph for Median\n",
    "for hospital_type in stats1_reset['Type of Hospital'].unique():\n",
    "    filtered_df = stats1_reset[stats1_reset['Type of Hospital'] == hospital_type]\n",
    "    fig.add_trace(\n",
    "        go.Scatter(\n",
    "            x=filtered_df['Year'], \n",
    "            y=filtered_df['Median'], \n",
    "            name=f'Median - {hospital_type}', \n",
    "            mode='lines+markers'\n",
    "        ),\n",
    "        secondary_y=True,\n",
    "    )\n",
    "\n",
    "# Update layout\n",
    "fig.update_layout(\n",
    "    title_text=\"Mean and Median of VALUE Grouped by Year and Type of Hospital\",\n",
    "    barmode='group',\n",
    "    height=600,  # Adjust the height of the graph\n",
    "    width=1600,   # Adjust the width of the graph\n",
    ")\n",
    "fig.update_xaxes(title_text=\"Year\")\n",
    "fig.update_yaxes(title_text=\"Mean VALUE\", secondary_y=False)\n",
    "fig.update_yaxes(title_text=\"Median VALUE\", secondary_y=True)\n",
    "\n",
    "fig.show()"
   ]
  },
  {
   "cell_type": "code",
   "execution_count": 74,
   "metadata": {},
   "outputs": [
    {
     "data": {
      "application/vnd.plotly.v1+json": {
       "config": {
        "plotlyServerURL": "https://plot.ly"
       },
       "data": [
        {
         "fill": "tozeroy",
         "hovertemplate": "Type of Hospital=General hospital psychiatric units<br>Year=%{x}<br>Variance of Values=%{y}<extra></extra>",
         "legendgroup": "General hospital psychiatric units",
         "line": {
          "color": "#636efa",
          "dash": "solid",
          "shape": "spline",
          "width": 2.5
         },
         "marker": {
          "symbol": "circle"
         },
         "mode": "lines",
         "name": "General hospital psychiatric units",
         "orientation": "v",
         "showlegend": true,
         "type": "scatter",
         "x": [
          2013,
          2014,
          2015,
          2016,
          2017,
          2018,
          2019,
          2020,
          2021,
          2022
         ],
         "xaxis": "x",
         "y": [
          7191986.98901099,
          7191986.98901099,
          7343820.681318682,
          6873009.032967035,
          6732923.186813189,
          6954455.032967032,
          6875654.307692306,
          6285781.758241758,
          7077386.153846154,
          6695076.747252747
         ],
         "yaxis": "y"
        },
        {
         "fill": "tozeroy",
         "hovertemplate": "Type of Hospital=Independent/private and private charitable centres<br>Year=%{x}<br>Variance of Values=%{y}<extra></extra>",
         "legendgroup": "Independent/private and private charitable centres",
         "line": {
          "color": "#EF553B",
          "dash": "solid",
          "shape": "spline",
          "width": 2.5
         },
         "marker": {
          "symbol": "circle"
         },
         "mode": "lines",
         "name": "Independent/private and private charitable centres",
         "orientation": "v",
         "showlegend": true,
         "type": "scatter",
         "x": [
          2013,
          2014,
          2015,
          2016,
          2017,
          2018,
          2019,
          2020,
          2021,
          2022
         ],
         "xaxis": "x",
         "y": [
          1346944.7472527474,
          1346944.7472527474,
          1254659.824175824,
          1301141.6483516484,
          1181904.1318681317,
          1235114.879120879,
          1158172.4175824174,
          936888.989010989,
          974667.5164835163,
          1171068.5274725275
         ],
         "yaxis": "y"
        },
        {
         "fill": "tozeroy",
         "hovertemplate": "Type of Hospital=Psychiatric hospitals<br>Year=%{x}<br>Variance of Values=%{y}<extra></extra>",
         "legendgroup": "Psychiatric hospitals",
         "line": {
          "color": "#00cc96",
          "dash": "solid",
          "shape": "spline",
          "width": 2.5
         },
         "marker": {
          "symbol": "circle"
         },
         "mode": "lines",
         "name": "Psychiatric hospitals",
         "orientation": "v",
         "showlegend": true,
         "type": "scatter",
         "x": [
          2013,
          2014,
          2015,
          2016,
          2017,
          2018,
          2019,
          2020,
          2021,
          2022
         ],
         "xaxis": "x",
         "y": [
          953438.5274725277,
          953438.5274725277,
          668858.2197802197,
          560430.4615384616,
          449224.72527472524,
          449367.45054945064,
          421252.4175824176,
          279678.52747252746,
          191855.14285714287,
          209721.82417582415
         ],
         "yaxis": "y"
        }
       ],
       "layout": {
        "legend": {
         "title": {
          "text": "Type of Hospital"
         },
         "tracegroupgap": 0
        },
        "template": {
         "data": {
          "bar": [
           {
            "error_x": {
             "color": "#2a3f5f"
            },
            "error_y": {
             "color": "#2a3f5f"
            },
            "marker": {
             "line": {
              "color": "#E5ECF6",
              "width": 0.5
             },
             "pattern": {
              "fillmode": "overlay",
              "size": 10,
              "solidity": 0.2
             }
            },
            "type": "bar"
           }
          ],
          "barpolar": [
           {
            "marker": {
             "line": {
              "color": "#E5ECF6",
              "width": 0.5
             },
             "pattern": {
              "fillmode": "overlay",
              "size": 10,
              "solidity": 0.2
             }
            },
            "type": "barpolar"
           }
          ],
          "carpet": [
           {
            "aaxis": {
             "endlinecolor": "#2a3f5f",
             "gridcolor": "white",
             "linecolor": "white",
             "minorgridcolor": "white",
             "startlinecolor": "#2a3f5f"
            },
            "baxis": {
             "endlinecolor": "#2a3f5f",
             "gridcolor": "white",
             "linecolor": "white",
             "minorgridcolor": "white",
             "startlinecolor": "#2a3f5f"
            },
            "type": "carpet"
           }
          ],
          "choropleth": [
           {
            "colorbar": {
             "outlinewidth": 0,
             "ticks": ""
            },
            "type": "choropleth"
           }
          ],
          "contour": [
           {
            "colorbar": {
             "outlinewidth": 0,
             "ticks": ""
            },
            "colorscale": [
             [
              0,
              "#0d0887"
             ],
             [
              0.1111111111111111,
              "#46039f"
             ],
             [
              0.2222222222222222,
              "#7201a8"
             ],
             [
              0.3333333333333333,
              "#9c179e"
             ],
             [
              0.4444444444444444,
              "#bd3786"
             ],
             [
              0.5555555555555556,
              "#d8576b"
             ],
             [
              0.6666666666666666,
              "#ed7953"
             ],
             [
              0.7777777777777778,
              "#fb9f3a"
             ],
             [
              0.8888888888888888,
              "#fdca26"
             ],
             [
              1,
              "#f0f921"
             ]
            ],
            "type": "contour"
           }
          ],
          "contourcarpet": [
           {
            "colorbar": {
             "outlinewidth": 0,
             "ticks": ""
            },
            "type": "contourcarpet"
           }
          ],
          "heatmap": [
           {
            "colorbar": {
             "outlinewidth": 0,
             "ticks": ""
            },
            "colorscale": [
             [
              0,
              "#0d0887"
             ],
             [
              0.1111111111111111,
              "#46039f"
             ],
             [
              0.2222222222222222,
              "#7201a8"
             ],
             [
              0.3333333333333333,
              "#9c179e"
             ],
             [
              0.4444444444444444,
              "#bd3786"
             ],
             [
              0.5555555555555556,
              "#d8576b"
             ],
             [
              0.6666666666666666,
              "#ed7953"
             ],
             [
              0.7777777777777778,
              "#fb9f3a"
             ],
             [
              0.8888888888888888,
              "#fdca26"
             ],
             [
              1,
              "#f0f921"
             ]
            ],
            "type": "heatmap"
           }
          ],
          "heatmapgl": [
           {
            "colorbar": {
             "outlinewidth": 0,
             "ticks": ""
            },
            "colorscale": [
             [
              0,
              "#0d0887"
             ],
             [
              0.1111111111111111,
              "#46039f"
             ],
             [
              0.2222222222222222,
              "#7201a8"
             ],
             [
              0.3333333333333333,
              "#9c179e"
             ],
             [
              0.4444444444444444,
              "#bd3786"
             ],
             [
              0.5555555555555556,
              "#d8576b"
             ],
             [
              0.6666666666666666,
              "#ed7953"
             ],
             [
              0.7777777777777778,
              "#fb9f3a"
             ],
             [
              0.8888888888888888,
              "#fdca26"
             ],
             [
              1,
              "#f0f921"
             ]
            ],
            "type": "heatmapgl"
           }
          ],
          "histogram": [
           {
            "marker": {
             "pattern": {
              "fillmode": "overlay",
              "size": 10,
              "solidity": 0.2
             }
            },
            "type": "histogram"
           }
          ],
          "histogram2d": [
           {
            "colorbar": {
             "outlinewidth": 0,
             "ticks": ""
            },
            "colorscale": [
             [
              0,
              "#0d0887"
             ],
             [
              0.1111111111111111,
              "#46039f"
             ],
             [
              0.2222222222222222,
              "#7201a8"
             ],
             [
              0.3333333333333333,
              "#9c179e"
             ],
             [
              0.4444444444444444,
              "#bd3786"
             ],
             [
              0.5555555555555556,
              "#d8576b"
             ],
             [
              0.6666666666666666,
              "#ed7953"
             ],
             [
              0.7777777777777778,
              "#fb9f3a"
             ],
             [
              0.8888888888888888,
              "#fdca26"
             ],
             [
              1,
              "#f0f921"
             ]
            ],
            "type": "histogram2d"
           }
          ],
          "histogram2dcontour": [
           {
            "colorbar": {
             "outlinewidth": 0,
             "ticks": ""
            },
            "colorscale": [
             [
              0,
              "#0d0887"
             ],
             [
              0.1111111111111111,
              "#46039f"
             ],
             [
              0.2222222222222222,
              "#7201a8"
             ],
             [
              0.3333333333333333,
              "#9c179e"
             ],
             [
              0.4444444444444444,
              "#bd3786"
             ],
             [
              0.5555555555555556,
              "#d8576b"
             ],
             [
              0.6666666666666666,
              "#ed7953"
             ],
             [
              0.7777777777777778,
              "#fb9f3a"
             ],
             [
              0.8888888888888888,
              "#fdca26"
             ],
             [
              1,
              "#f0f921"
             ]
            ],
            "type": "histogram2dcontour"
           }
          ],
          "mesh3d": [
           {
            "colorbar": {
             "outlinewidth": 0,
             "ticks": ""
            },
            "type": "mesh3d"
           }
          ],
          "parcoords": [
           {
            "line": {
             "colorbar": {
              "outlinewidth": 0,
              "ticks": ""
             }
            },
            "type": "parcoords"
           }
          ],
          "pie": [
           {
            "automargin": true,
            "type": "pie"
           }
          ],
          "scatter": [
           {
            "fillpattern": {
             "fillmode": "overlay",
             "size": 10,
             "solidity": 0.2
            },
            "type": "scatter"
           }
          ],
          "scatter3d": [
           {
            "line": {
             "colorbar": {
              "outlinewidth": 0,
              "ticks": ""
             }
            },
            "marker": {
             "colorbar": {
              "outlinewidth": 0,
              "ticks": ""
             }
            },
            "type": "scatter3d"
           }
          ],
          "scattercarpet": [
           {
            "marker": {
             "colorbar": {
              "outlinewidth": 0,
              "ticks": ""
             }
            },
            "type": "scattercarpet"
           }
          ],
          "scattergeo": [
           {
            "marker": {
             "colorbar": {
              "outlinewidth": 0,
              "ticks": ""
             }
            },
            "type": "scattergeo"
           }
          ],
          "scattergl": [
           {
            "marker": {
             "colorbar": {
              "outlinewidth": 0,
              "ticks": ""
             }
            },
            "type": "scattergl"
           }
          ],
          "scattermapbox": [
           {
            "marker": {
             "colorbar": {
              "outlinewidth": 0,
              "ticks": ""
             }
            },
            "type": "scattermapbox"
           }
          ],
          "scatterpolar": [
           {
            "marker": {
             "colorbar": {
              "outlinewidth": 0,
              "ticks": ""
             }
            },
            "type": "scatterpolar"
           }
          ],
          "scatterpolargl": [
           {
            "marker": {
             "colorbar": {
              "outlinewidth": 0,
              "ticks": ""
             }
            },
            "type": "scatterpolargl"
           }
          ],
          "scatterternary": [
           {
            "marker": {
             "colorbar": {
              "outlinewidth": 0,
              "ticks": ""
             }
            },
            "type": "scatterternary"
           }
          ],
          "surface": [
           {
            "colorbar": {
             "outlinewidth": 0,
             "ticks": ""
            },
            "colorscale": [
             [
              0,
              "#0d0887"
             ],
             [
              0.1111111111111111,
              "#46039f"
             ],
             [
              0.2222222222222222,
              "#7201a8"
             ],
             [
              0.3333333333333333,
              "#9c179e"
             ],
             [
              0.4444444444444444,
              "#bd3786"
             ],
             [
              0.5555555555555556,
              "#d8576b"
             ],
             [
              0.6666666666666666,
              "#ed7953"
             ],
             [
              0.7777777777777778,
              "#fb9f3a"
             ],
             [
              0.8888888888888888,
              "#fdca26"
             ],
             [
              1,
              "#f0f921"
             ]
            ],
            "type": "surface"
           }
          ],
          "table": [
           {
            "cells": {
             "fill": {
              "color": "#EBF0F8"
             },
             "line": {
              "color": "white"
             }
            },
            "header": {
             "fill": {
              "color": "#C8D4E3"
             },
             "line": {
              "color": "white"
             }
            },
            "type": "table"
           }
          ]
         },
         "layout": {
          "annotationdefaults": {
           "arrowcolor": "#2a3f5f",
           "arrowhead": 0,
           "arrowwidth": 1
          },
          "autotypenumbers": "strict",
          "coloraxis": {
           "colorbar": {
            "outlinewidth": 0,
            "ticks": ""
           }
          },
          "colorscale": {
           "diverging": [
            [
             0,
             "#8e0152"
            ],
            [
             0.1,
             "#c51b7d"
            ],
            [
             0.2,
             "#de77ae"
            ],
            [
             0.3,
             "#f1b6da"
            ],
            [
             0.4,
             "#fde0ef"
            ],
            [
             0.5,
             "#f7f7f7"
            ],
            [
             0.6,
             "#e6f5d0"
            ],
            [
             0.7,
             "#b8e186"
            ],
            [
             0.8,
             "#7fbc41"
            ],
            [
             0.9,
             "#4d9221"
            ],
            [
             1,
             "#276419"
            ]
           ],
           "sequential": [
            [
             0,
             "#0d0887"
            ],
            [
             0.1111111111111111,
             "#46039f"
            ],
            [
             0.2222222222222222,
             "#7201a8"
            ],
            [
             0.3333333333333333,
             "#9c179e"
            ],
            [
             0.4444444444444444,
             "#bd3786"
            ],
            [
             0.5555555555555556,
             "#d8576b"
            ],
            [
             0.6666666666666666,
             "#ed7953"
            ],
            [
             0.7777777777777778,
             "#fb9f3a"
            ],
            [
             0.8888888888888888,
             "#fdca26"
            ],
            [
             1,
             "#f0f921"
            ]
           ],
           "sequentialminus": [
            [
             0,
             "#0d0887"
            ],
            [
             0.1111111111111111,
             "#46039f"
            ],
            [
             0.2222222222222222,
             "#7201a8"
            ],
            [
             0.3333333333333333,
             "#9c179e"
            ],
            [
             0.4444444444444444,
             "#bd3786"
            ],
            [
             0.5555555555555556,
             "#d8576b"
            ],
            [
             0.6666666666666666,
             "#ed7953"
            ],
            [
             0.7777777777777778,
             "#fb9f3a"
            ],
            [
             0.8888888888888888,
             "#fdca26"
            ],
            [
             1,
             "#f0f921"
            ]
           ]
          },
          "colorway": [
           "#636efa",
           "#EF553B",
           "#00cc96",
           "#ab63fa",
           "#FFA15A",
           "#19d3f3",
           "#FF6692",
           "#B6E880",
           "#FF97FF",
           "#FECB52"
          ],
          "font": {
           "color": "#2a3f5f"
          },
          "geo": {
           "bgcolor": "white",
           "lakecolor": "white",
           "landcolor": "#E5ECF6",
           "showlakes": true,
           "showland": true,
           "subunitcolor": "white"
          },
          "hoverlabel": {
           "align": "left"
          },
          "hovermode": "closest",
          "mapbox": {
           "style": "light"
          },
          "paper_bgcolor": "white",
          "plot_bgcolor": "#E5ECF6",
          "polar": {
           "angularaxis": {
            "gridcolor": "white",
            "linecolor": "white",
            "ticks": ""
           },
           "bgcolor": "#E5ECF6",
           "radialaxis": {
            "gridcolor": "white",
            "linecolor": "white",
            "ticks": ""
           }
          },
          "scene": {
           "xaxis": {
            "backgroundcolor": "#E5ECF6",
            "gridcolor": "white",
            "gridwidth": 2,
            "linecolor": "white",
            "showbackground": true,
            "ticks": "",
            "zerolinecolor": "white"
           },
           "yaxis": {
            "backgroundcolor": "#E5ECF6",
            "gridcolor": "white",
            "gridwidth": 2,
            "linecolor": "white",
            "showbackground": true,
            "ticks": "",
            "zerolinecolor": "white"
           },
           "zaxis": {
            "backgroundcolor": "#E5ECF6",
            "gridcolor": "white",
            "gridwidth": 2,
            "linecolor": "white",
            "showbackground": true,
            "ticks": "",
            "zerolinecolor": "white"
           }
          },
          "shapedefaults": {
           "line": {
            "color": "#2a3f5f"
           }
          },
          "ternary": {
           "aaxis": {
            "gridcolor": "white",
            "linecolor": "white",
            "ticks": ""
           },
           "baxis": {
            "gridcolor": "white",
            "linecolor": "white",
            "ticks": ""
           },
           "bgcolor": "#E5ECF6",
           "caxis": {
            "gridcolor": "white",
            "linecolor": "white",
            "ticks": ""
           }
          },
          "title": {
           "x": 0.05
          },
          "xaxis": {
           "automargin": true,
           "gridcolor": "white",
           "linecolor": "white",
           "ticks": "",
           "title": {
            "standoff": 15
           },
           "zerolinecolor": "white",
           "zerolinewidth": 2
          },
          "yaxis": {
           "automargin": true,
           "gridcolor": "white",
           "linecolor": "white",
           "ticks": "",
           "title": {
            "standoff": 15
           },
           "zerolinecolor": "white",
           "zerolinewidth": 2
          }
         }
        },
        "title": {
         "text": "Variance of Values Grouped by Year and Type of Hospital"
        },
        "xaxis": {
         "anchor": "y",
         "domain": [
          0,
          1
         ],
         "title": {
          "text": "Year"
         }
        },
        "yaxis": {
         "anchor": "x",
         "domain": [
          0,
          1
         ],
         "title": {
          "text": "Variance of Values"
         }
        }
       }
      }
     },
     "metadata": {},
     "output_type": "display_data"
    }
   ],
   "source": [
    "import plotly.express as px\n",
    "\n",
    "# Preparing the data for plotting\n",
    "stats1_reset = stats1.reset_index()\n",
    "plot_data = stats1_reset[['Year', 'Type of Hospital', 'Variance']]\n",
    "\n",
    "# Creating a shaded line graph for the variance\n",
    "fig = px.line(plot_data, x='Year', y='Variance', color='Type of Hospital',\n",
    "              title='Variance of Values Grouped by Year and Type of Hospital',\n",
    "              labels={'Variance': 'Variance of Values'},\n",
    "              line_shape='spline')\n",
    "\n",
    "# Adding shaded area under the line\n",
    "fig.update_traces(line=dict(width=2.5), fill='tozeroy')\n",
    "\n",
    "# Showing the graph\n",
    "fig.show()\n"
   ]
  },
  {
   "cell_type": "code",
   "execution_count": 72,
   "metadata": {},
   "outputs": [
    {
     "data": {
      "image/png": "[encoded data removed]",
      "text/plain": [
       "<Figure size 2000x1000 with 1 Axes>"
      ]
     },
     "metadata": {},
     "output_type": "display_data"
    }
   ],
   "source": [
    "import seaborn as sns\n",
    "import matplotlib.pyplot as plt\n",
    "\n",
    "unique_groups = df[['Year', 'Type of Hospital']].drop_duplicates()\n",
    "\n",
    "data_for_plot = []\n",
    "\n",
    "for index, row in unique_groups.iterrows():\n",
    "    year = row['Year']\n",
    "    hospital_type = row['Type of Hospital']\n",
    "\n",
    "    # Filter the original dataframe for the specific group\n",
    "    data = df[(df['Year'] == year) & (df['Type of Hospital'] == hospital_type)]['VALUE']\n",
    "\n",
    "    # Add a dictionary with the data and metadata for the plot\n",
    "    data_for_plot.append({\n",
    "        'data': data,\n",
    "        'label': f'{year} - {hospital_type}',\n",
    "        'skew': data.skew(),\n",
    "        'kurt': kurtosis(data, fisher=True)\n",
    "    })\n",
    "\n",
    "# Now, plot all the density plots in one figure\n",
    "plt.figure(figsize=(20, 10))\n",
    "\n",
    "# Creating a color palette\n",
    "palette = sns.color_palette(\"hsv\", len(data_for_plot))\n",
    "\n",
    "for i, item in enumerate(data_for_plot):\n",
    "    sns.kdeplot(item['data'], label=f'{item[\"label\"]} (Skew: {item[\"skew\"]:.2f}, Kurt: {item[\"kurt\"]:.2f})', color=palette[i])\n",
    "\n",
    "plt.title('Density Plots for All Categories with Skewness and Kurtosis')\n",
    "plt.xlabel('Values')\n",
    "plt.ylabel('Density')\n",
    "plt.legend()\n",
    "plt.show()\n"
   ]
  },
  {
   "cell_type": "code",
   "execution_count": 73,
   "metadata": {},
   "outputs": [
    {
     "data": {
      "application/vnd.plotly.v1+json": {
       "config": {
        "plotlyServerURL": "https://plot.ly"
       },
       "data": [
        {
         "alignmentgroup": "True",
         "boxpoints": "all",
         "customdata": [
          [
           1024.25
          ],
          [
           426.5
          ],
          [
           345
          ],
          [
           1024.25
          ],
          [
           426.5
          ],
          [
           345
          ],
          [
           1024.25
          ],
          [
           426.5
          ],
          [
           345
          ]
         ],
         "hovertemplate": "Year=2013<br>Type of Hospital=%{x}<br>Value=%{y}<br>IQR=%{customdata[0]}<extra></extra>",
         "legendgroup": "2013",
         "marker": {
          "color": "#636efa"
         },
         "name": "2013",
         "notched": false,
         "offsetgroup": "2013",
         "orientation": "v",
         "showlegend": true,
         "type": "box",
         "x": [
          "General hospital psychiatric units",
          "Independent/private and private charitable centres",
          "Psychiatric hospitals",
          "General hospital psychiatric units",
          "Independent/private and private charitable centres",
          "Psychiatric hospitals",
          "General hospital psychiatric units",
          "Independent/private and private charitable centres",
          "Psychiatric hospitals"
         ],
         "x0": " ",
         "xaxis": "x",
         "y": [
          94.25,
          124.5,
          69.5,
          686,
          228,
          228,
          1118.5,
          551,
          414.5
         ],
         "y0": " ",
         "yaxis": "y"
        },
        {
         "alignmentgroup": "True",
         "boxpoints": "all",
         "customdata": [
          [
           1024.25
          ],
          [
           426.5
          ],
          [
           345
          ],
          [
           1024.25
          ],
          [
           426.5
          ],
          [
           345
          ],
          [
           1024.25
          ],
          [
           426.5
          ],
          [
           345
          ]
         ],
         "hovertemplate": "Year=2014<br>Type of Hospital=%{x}<br>Value=%{y}<br>IQR=%{customdata[0]}<extra></extra>",
         "legendgroup": "2014",
         "marker": {
          "color": "#EF553B"
         },
         "name": "2014",
         "notched": false,
         "offsetgroup": "2014",
         "orientation": "v",
         "showlegend": true,
         "type": "box",
         "x": [
          "General hospital psychiatric units",
          "Independent/private and private charitable centres",
          "Psychiatric hospitals",
          "General hospital psychiatric units",
          "Independent/private and private charitable centres",
          "Psychiatric hospitals",
          "General hospital psychiatric units",
          "Independent/private and private charitable centres",
          "Psychiatric hospitals"
         ],
         "x0": " ",
         "xaxis": "x",
         "y": [
          94.25,
          124.5,
          69.5,
          686,
          228,
          228,
          1118.5,
          551,
          414.5
         ],
         "y0": " ",
         "yaxis": "y"
        },
        {
         "alignmentgroup": "True",
         "boxpoints": "all",
         "customdata": [
          [
           1015
          ],
          [
           426.5
          ],
          [
           281
          ],
          [
           1015
          ],
          [
           426.5
          ],
          [
           281
          ],
          [
           1015
          ],
          [
           426.5
          ],
          [
           281
          ]
         ],
         "hovertemplate": "Year=2015<br>Type of Hospital=%{x}<br>Value=%{y}<br>IQR=%{customdata[0]}<extra></extra>",
         "legendgroup": "2015",
         "marker": {
          "color": "#00cc96"
         },
         "name": "2015",
         "notched": false,
         "offsetgroup": "2015",
         "orientation": "v",
         "showlegend": true,
         "type": "box",
         "x": [
          "General hospital psychiatric units",
          "Independent/private and private charitable centres",
          "Psychiatric hospitals",
          "General hospital psychiatric units",
          "Independent/private and private charitable centres",
          "Psychiatric hospitals",
          "General hospital psychiatric units",
          "Independent/private and private charitable centres",
          "Psychiatric hospitals"
         ],
         "x0": " ",
         "xaxis": "x",
         "y": [
          102.25,
          117.25,
          60.25,
          742,
          201.5,
          222.5,
          1117.25,
          543.75,
          341.25
         ],
         "y0": " ",
         "yaxis": "y"
        },
        {
         "alignmentgroup": "True",
         "boxpoints": "all",
         "customdata": [
          [
           1066
          ],
          [
           343
          ],
          [
           259.75
          ],
          [
           1066
          ],
          [
           343
          ],
          [
           259.75
          ],
          [
           1066
          ],
          [
           343
          ],
          [
           259.75
          ]
         ],
         "hovertemplate": "Year=2016<br>Type of Hospital=%{x}<br>Value=%{y}<br>IQR=%{customdata[0]}<extra></extra>",
         "legendgroup": "2016",
         "marker": {
          "color": "#ab63fa"
         },
         "name": "2016",
         "notched": false,
         "offsetgroup": "2016",
         "orientation": "v",
         "showlegend": true,
         "type": "box",
         "x": [
          "General hospital psychiatric units",
          "Independent/private and private charitable centres",
          "Psychiatric hospitals",
          "General hospital psychiatric units",
          "Independent/private and private charitable centres",
          "Psychiatric hospitals",
          "General hospital psychiatric units",
          "Independent/private and private charitable centres",
          "Psychiatric hospitals"
         ],
         "x0": " ",
         "xaxis": "x",
         "y": [
          86,
          104.5,
          45.75,
          740.5,
          164,
          192,
          1152,
          447.5,
          305.5
         ],
         "y0": " ",
         "yaxis": "y"
        },
        {
         "alignmentgroup": "True",
         "boxpoints": "all",
         "customdata": [
          [
           1136.25
          ],
          [
           339
          ],
          [
           281.5
          ],
          [
           1136.25
          ],
          [
           339
          ],
          [
           281.5
          ],
          [
           1136.25
          ],
          [
           339
          ],
          [
           281.5
          ]
         ],
         "hovertemplate": "Year=2017<br>Type of Hospital=%{x}<br>Value=%{y}<br>IQR=%{customdata[0]}<extra></extra>",
         "legendgroup": "2017",
         "marker": {
          "color": "#FFA15A"
         },
         "name": "2017",
         "notched": false,
         "offsetgroup": "2017",
         "orientation": "v",
         "showlegend": true,
         "type": "box",
         "x": [
          "General hospital psychiatric units",
          "Independent/private and private charitable centres",
          "Psychiatric hospitals",
          "General hospital psychiatric units",
          "Independent/private and private charitable centres",
          "Psychiatric hospitals",
          "General hospital psychiatric units",
          "Independent/private and private charitable centres",
          "Psychiatric hospitals"
         ],
         "x0": " ",
         "xaxis": "x",
         "y": [
          86.5,
          117,
          45.5,
          735,
          170.5,
          157,
          1222.75,
          456,
          327
         ],
         "y0": " ",
         "yaxis": "y"
        },
        {
         "alignmentgroup": "True",
         "boxpoints": "all",
         "customdata": [
          [
           1243.75
          ],
          [
           344.25
          ],
          [
           296.25
          ],
          [
           1243.75
          ],
          [
           344.25
          ],
          [
           296.25
          ],
          [
           1243.75
          ],
          [
           344.25
          ],
          [
           296.25
          ]
         ],
         "hovertemplate": "Year=2018<br>Type of Hospital=%{x}<br>Value=%{y}<br>IQR=%{customdata[0]}<extra></extra>",
         "legendgroup": "2018",
         "marker": {
          "color": "#19d3f3"
         },
         "name": "2018",
         "notched": false,
         "offsetgroup": "2018",
         "orientation": "v",
         "showlegend": true,
         "type": "box",
         "x": [
          "General hospital psychiatric units",
          "Independent/private and private charitable centres",
          "Psychiatric hospitals",
          "General hospital psychiatric units",
          "Independent/private and private charitable centres",
          "Psychiatric hospitals",
          "General hospital psychiatric units",
          "Independent/private and private charitable centres",
          "Psychiatric hospitals"
         ],
         "x0": " ",
         "xaxis": "x",
         "y": [
          82.25,
          113.25,
          35.5,
          759,
          251.5,
          168.5,
          1326,
          457.5,
          331.75
         ],
         "y0": " ",
         "yaxis": "y"
        },
        {
         "alignmentgroup": "True",
         "boxpoints": "all",
         "customdata": [
          [
           1024.75
          ],
          [
           411.5
          ],
          [
           249
          ],
          [
           1024.75
          ],
          [
           411.5
          ],
          [
           249
          ],
          [
           1024.75
          ],
          [
           411.5
          ],
          [
           249
          ]
         ],
         "hovertemplate": "Year=2019<br>Type of Hospital=%{x}<br>Value=%{y}<br>IQR=%{customdata[0]}<extra></extra>",
         "legendgroup": "2019",
         "marker": {
          "color": "#FF6692"
         },
         "name": "2019",
         "notched": false,
         "offsetgroup": "2019",
         "orientation": "v",
         "showlegend": true,
         "type": "box",
         "x": [
          "General hospital psychiatric units",
          "Independent/private and private charitable centres",
          "Psychiatric hospitals",
          "General hospital psychiatric units",
          "Independent/private and private charitable centres",
          "Psychiatric hospitals",
          "General hospital psychiatric units",
          "Independent/private and private charitable centres",
          "Psychiatric hospitals"
         ],
         "x0": " ",
         "xaxis": "x",
         "y": [
          92.75,
          97.75,
          34.75,
          811.5,
          218,
          168,
          1117.5,
          509.25,
          283.75
         ],
         "y0": " ",
         "yaxis": "y"
        },
        {
         "alignmentgroup": "True",
         "boxpoints": "all",
         "customdata": [
          [
           1088
          ],
          [
           348.75
          ],
          [
           215.25
          ],
          [
           1088
          ],
          [
           348.75
          ],
          [
           215.25
          ],
          [
           1088
          ],
          [
           348.75
          ],
          [
           215.25
          ]
         ],
         "hovertemplate": "Year=2020<br>Type of Hospital=%{x}<br>Value=%{y}<br>IQR=%{customdata[0]}<extra></extra>",
         "legendgroup": "2020",
         "marker": {
          "color": "#B6E880"
         },
         "name": "2020",
         "notched": false,
         "offsetgroup": "2020",
         "orientation": "v",
         "showlegend": true,
         "type": "box",
         "x": [
          "General hospital psychiatric units",
          "Independent/private and private charitable centres",
          "Psychiatric hospitals",
          "General hospital psychiatric units",
          "Independent/private and private charitable centres",
          "Psychiatric hospitals",
          "General hospital psychiatric units",
          "Independent/private and private charitable centres",
          "Psychiatric hospitals"
         ],
         "x0": " ",
         "xaxis": "x",
         "y": [
          89.5,
          106,
          27.5,
          623.5,
          203,
          129.5,
          1177.5,
          454.75,
          242.75
         ],
         "y0": " ",
         "yaxis": "y"
        },
        {
         "alignmentgroup": "True",
         "boxpoints": "all",
         "customdata": [
          [
           1034.25
          ],
          [
           430.25
          ],
          [
           214.25
          ],
          [
           1034.25
          ],
          [
           430.25
          ],
          [
           214.25
          ],
          [
           1034.25
          ],
          [
           430.25
          ],
          [
           214.25
          ]
         ],
         "hovertemplate": "Year=2021<br>Type of Hospital=%{x}<br>Value=%{y}<br>IQR=%{customdata[0]}<extra></extra>",
         "legendgroup": "2021",
         "marker": {
          "color": "#FF97FF"
         },
         "name": "2021",
         "notched": false,
         "offsetgroup": "2021",
         "orientation": "v",
         "showlegend": true,
         "type": "box",
         "x": [
          "General hospital psychiatric units",
          "Independent/private and private charitable centres",
          "Psychiatric hospitals",
          "General hospital psychiatric units",
          "Independent/private and private charitable centres",
          "Psychiatric hospitals",
          "General hospital psychiatric units",
          "Independent/private and private charitable centres",
          "Psychiatric hospitals"
         ],
         "x0": " ",
         "xaxis": "x",
         "y": [
          96,
          67,
          17,
          693.5,
          193,
          111.5,
          1130.25,
          497.25,
          231.25
         ],
         "y0": " ",
         "yaxis": "y"
        },
        {
         "alignmentgroup": "True",
         "boxpoints": "all",
         "customdata": [
          [
           1079
          ],
          [
           509.75
          ],
          [
           186.75
          ],
          [
           1079
          ],
          [
           509.75
          ],
          [
           186.75
          ],
          [
           1079
          ],
          [
           509.75
          ],
          [
           186.75
          ]
         ],
         "hovertemplate": "Year=2022<br>Type of Hospital=%{x}<br>Value=%{y}<br>IQR=%{customdata[0]}<extra></extra>",
         "legendgroup": "2022",
         "marker": {
          "color": "#FECB52"
         },
         "name": "2022",
         "notched": false,
         "offsetgroup": "2022",
         "orientation": "v",
         "showlegend": true,
         "type": "box",
         "x": [
          "General hospital psychiatric units",
          "Independent/private and private charitable centres",
          "Psychiatric hospitals",
          "General hospital psychiatric units",
          "Independent/private and private charitable centres",
          "Psychiatric hospitals",
          "General hospital psychiatric units",
          "Independent/private and private charitable centres",
          "Psychiatric hospitals"
         ],
         "x0": " ",
         "xaxis": "x",
         "y": [
          75.25,
          71.25,
          13.5,
          580,
          180.5,
          102,
          1154.25,
          581,
          200.25
         ],
         "y0": " ",
         "yaxis": "y"
        }
       ],
       "layout": {
        "boxmode": "group",
        "legend": {
         "title": {
          "text": "Year"
         },
         "tracegroupgap": 0
        },
        "margin": {
         "t": 60
        },
        "template": {
         "data": {
          "bar": [
           {
            "error_x": {
             "color": "#2a3f5f"
            },
            "error_y": {
             "color": "#2a3f5f"
            },
            "marker": {
             "line": {
              "color": "#E5ECF6",
              "width": 0.5
             },
             "pattern": {
              "fillmode": "overlay",
              "size": 10,
              "solidity": 0.2
             }
            },
            "type": "bar"
           }
          ],
          "barpolar": [
           {
            "marker": {
             "line": {
              "color": "#E5ECF6",
              "width": 0.5
             },
             "pattern": {
              "fillmode": "overlay",
              "size": 10,
              "solidity": 0.2
             }
            },
            "type": "barpolar"
           }
          ],
          "carpet": [
           {
            "aaxis": {
             "endlinecolor": "#2a3f5f",
             "gridcolor": "white",
             "linecolor": "white",
             "minorgridcolor": "white",
             "startlinecolor": "#2a3f5f"
            },
            "baxis": {
             "endlinecolor": "#2a3f5f",
             "gridcolor": "white",
             "linecolor": "white",
             "minorgridcolor": "white",
             "startlinecolor": "#2a3f5f"
            },
            "type": "carpet"
           }
          ],
          "choropleth": [
           {
            "colorbar": {
             "outlinewidth": 0,
             "ticks": ""
            },
            "type": "choropleth"
           }
          ],
          "contour": [
           {
            "colorbar": {
             "outlinewidth": 0,
             "ticks": ""
            },
            "colorscale": [
             [
              0,
              "#0d0887"
             ],
             [
              0.1111111111111111,
              "#46039f"
             ],
             [
              0.2222222222222222,
              "#7201a8"
             ],
             [
              0.3333333333333333,
              "#9c179e"
             ],
             [
              0.4444444444444444,
              "#bd3786"
             ],
             [
              0.5555555555555556,
              "#d8576b"
             ],
             [
              0.6666666666666666,
              "#ed7953"
             ],
             [
              0.7777777777777778,
              "#fb9f3a"
             ],
             [
              0.8888888888888888,
              "#fdca26"
             ],
             [
              1,
              "#f0f921"
             ]
            ],
            "type": "contour"
           }
          ],
          "contourcarpet": [
           {
            "colorbar": {
             "outlinewidth": 0,
             "ticks": ""
            },
            "type": "contourcarpet"
           }
          ],
          "heatmap": [
           {
            "colorbar": {
             "outlinewidth": 0,
             "ticks": ""
            },
            "colorscale": [
             [
              0,
              "#0d0887"
             ],
             [
              0.1111111111111111,
              "#46039f"
             ],
             [
              0.2222222222222222,
              "#7201a8"
             ],
             [
              0.3333333333333333,
              "#9c179e"
             ],
             [
              0.4444444444444444,
              "#bd3786"
             ],
             [
              0.5555555555555556,
              "#d8576b"
             ],
             [
              0.6666666666666666,
              "#ed7953"
             ],
             [
              0.7777777777777778,
              "#fb9f3a"
             ],
             [
              0.8888888888888888,
              "#fdca26"
             ],
             [
              1,
              "#f0f921"
             ]
            ],
            "type": "heatmap"
           }
          ],
          "heatmapgl": [
           {
            "colorbar": {
             "outlinewidth": 0,
             "ticks": ""
            },
            "colorscale": [
             [
              0,
              "#0d0887"
             ],
             [
              0.1111111111111111,
              "#46039f"
             ],
             [
              0.2222222222222222,
              "#7201a8"
             ],
             [
              0.3333333333333333,
              "#9c179e"
             ],
             [
              0.4444444444444444,
              "#bd3786"
             ],
             [
              0.5555555555555556,
              "#d8576b"
             ],
             [
              0.6666666666666666,
              "#ed7953"
             ],
             [
              0.7777777777777778,
              "#fb9f3a"
             ],
             [
              0.8888888888888888,
              "#fdca26"
             ],
             [
              1,
              "#f0f921"
             ]
            ],
            "type": "heatmapgl"
           }
          ],
          "histogram": [
           {
            "marker": {
             "pattern": {
              "fillmode": "overlay",
              "size": 10,
              "solidity": 0.2
             }
            },
            "type": "histogram"
           }
          ],
          "histogram2d": [
           {
            "colorbar": {
             "outlinewidth": 0,
             "ticks": ""
            },
            "colorscale": [
             [
              0,
              "#0d0887"
             ],
             [
              0.1111111111111111,
              "#46039f"
             ],
             [
              0.2222222222222222,
              "#7201a8"
             ],
             [
              0.3333333333333333,
              "#9c179e"
             ],
             [
              0.4444444444444444,
              "#bd3786"
             ],
             [
              0.5555555555555556,
              "#d8576b"
             ],
             [
              0.6666666666666666,
              "#ed7953"
             ],
             [
              0.7777777777777778,
              "#fb9f3a"
             ],
             [
              0.8888888888888888,
              "#fdca26"
             ],
             [
              1,
              "#f0f921"
             ]
            ],
            "type": "histogram2d"
           }
          ],
          "histogram2dcontour": [
           {
            "colorbar": {
             "outlinewidth": 0,
             "ticks": ""
            },
            "colorscale": [
             [
              0,
              "#0d0887"
             ],
             [
              0.1111111111111111,
              "#46039f"
             ],
             [
              0.2222222222222222,
              "#7201a8"
             ],
             [
              0.3333333333333333,
              "#9c179e"
             ],
             [
              0.4444444444444444,
              "#bd3786"
             ],
             [
              0.5555555555555556,
              "#d8576b"
             ],
             [
              0.6666666666666666,
              "#ed7953"
             ],
             [
              0.7777777777777778,
              "#fb9f3a"
             ],
             [
              0.8888888888888888,
              "#fdca26"
             ],
             [
              1,
              "#f0f921"
             ]
            ],
            "type": "histogram2dcontour"
           }
          ],
          "mesh3d": [
           {
            "colorbar": {
             "outlinewidth": 0,
             "ticks": ""
            },
            "type": "mesh3d"
           }
          ],
          "parcoords": [
           {
            "line": {
             "colorbar": {
              "outlinewidth": 0,
              "ticks": ""
             }
            },
            "type": "parcoords"
           }
          ],
          "pie": [
           {
            "automargin": true,
            "type": "pie"
           }
          ],
          "scatter": [
           {
            "fillpattern": {
             "fillmode": "overlay",
             "size": 10,
             "solidity": 0.2
            },
            "type": "scatter"
           }
          ],
          "scatter3d": [
           {
            "line": {
             "colorbar": {
              "outlinewidth": 0,
              "ticks": ""
             }
            },
            "marker": {
             "colorbar": {
              "outlinewidth": 0,
              "ticks": ""
             }
            },
            "type": "scatter3d"
           }
          ],
          "scattercarpet": [
           {
            "marker": {
             "colorbar": {
              "outlinewidth": 0,
              "ticks": ""
             }
            },
            "type": "scattercarpet"
           }
          ],
          "scattergeo": [
           {
            "marker": {
             "colorbar": {
              "outlinewidth": 0,
              "ticks": ""
             }
            },
            "type": "scattergeo"
           }
          ],
          "scattergl": [
           {
            "marker": {
             "colorbar": {
              "outlinewidth": 0,
              "ticks": ""
             }
            },
            "type": "scattergl"
           }
          ],
          "scattermapbox": [
           {
            "marker": {
             "colorbar": {
              "outlinewidth": 0,
              "ticks": ""
             }
            },
            "type": "scattermapbox"
           }
          ],
          "scatterpolar": [
           {
            "marker": {
             "colorbar": {
              "outlinewidth": 0,
              "ticks": ""
             }
            },
            "type": "scatterpolar"
           }
          ],
          "scatterpolargl": [
           {
            "marker": {
             "colorbar": {
              "outlinewidth": 0,
              "ticks": ""
             }
            },
            "type": "scatterpolargl"
           }
          ],
          "scatterternary": [
           {
            "marker": {
             "colorbar": {
              "outlinewidth": 0,
              "ticks": ""
             }
            },
            "type": "scatterternary"
           }
          ],
          "surface": [
           {
            "colorbar": {
             "outlinewidth": 0,
             "ticks": ""
            },
            "colorscale": [
             [
              0,
              "#0d0887"
             ],
             [
              0.1111111111111111,
              "#46039f"
             ],
             [
              0.2222222222222222,
              "#7201a8"
             ],
             [
              0.3333333333333333,
              "#9c179e"
             ],
             [
              0.4444444444444444,
              "#bd3786"
             ],
             [
              0.5555555555555556,
              "#d8576b"
             ],
             [
              0.6666666666666666,
              "#ed7953"
             ],
             [
              0.7777777777777778,
              "#fb9f3a"
             ],
             [
              0.8888888888888888,
              "#fdca26"
             ],
             [
              1,
              "#f0f921"
             ]
            ],
            "type": "surface"
           }
          ],
          "table": [
           {
            "cells": {
             "fill": {
              "color": "#EBF0F8"
             },
             "line": {
              "color": "white"
             }
            },
            "header": {
             "fill": {
              "color": "#C8D4E3"
             },
             "line": {
              "color": "white"
             }
            },
            "type": "table"
           }
          ]
         },
         "layout": {
          "annotationdefaults": {
           "arrowcolor": "#2a3f5f",
           "arrowhead": 0,
           "arrowwidth": 1
          },
          "autotypenumbers": "strict",
          "coloraxis": {
           "colorbar": {
            "outlinewidth": 0,
            "ticks": ""
           }
          },
          "colorscale": {
           "diverging": [
            [
             0,
             "#8e0152"
            ],
            [
             0.1,
             "#c51b7d"
            ],
            [
             0.2,
             "#de77ae"
            ],
            [
             0.3,
             "#f1b6da"
            ],
            [
             0.4,
             "#fde0ef"
            ],
            [
             0.5,
             "#f7f7f7"
            ],
            [
             0.6,
             "#e6f5d0"
            ],
            [
             0.7,
             "#b8e186"
            ],
            [
             0.8,
             "#7fbc41"
            ],
            [
             0.9,
             "#4d9221"
            ],
            [
             1,
             "#276419"
            ]
           ],
           "sequential": [
            [
             0,
             "#0d0887"
            ],
            [
             0.1111111111111111,
             "#46039f"
            ],
            [
             0.2222222222222222,
             "#7201a8"
            ],
            [
             0.3333333333333333,
             "#9c179e"
            ],
            [
             0.4444444444444444,
             "#bd3786"
            ],
            [
             0.5555555555555556,
             "#d8576b"
            ],
            [
             0.6666666666666666,
             "#ed7953"
            ],
            [
             0.7777777777777778,
             "#fb9f3a"
            ],
            [
             0.8888888888888888,
             "#fdca26"
            ],
            [
             1,
             "#f0f921"
            ]
           ],
           "sequentialminus": [
            [
             0,
             "#0d0887"
            ],
            [
             0.1111111111111111,
             "#46039f"
            ],
            [
             0.2222222222222222,
             "#7201a8"
            ],
            [
             0.3333333333333333,
             "#9c179e"
            ],
            [
             0.4444444444444444,
             "#bd3786"
            ],
            [
             0.5555555555555556,
             "#d8576b"
            ],
            [
             0.6666666666666666,
             "#ed7953"
            ],
            [
             0.7777777777777778,
             "#fb9f3a"
            ],
            [
             0.8888888888888888,
             "#fdca26"
            ],
            [
             1,
             "#f0f921"
            ]
           ]
          },
          "colorway": [
           "#636efa",
           "#EF553B",
           "#00cc96",
           "#ab63fa",
           "#FFA15A",
           "#19d3f3",
           "#FF6692",
           "#B6E880",
           "#FF97FF",
           "#FECB52"
          ],
          "font": {
           "color": "#2a3f5f"
          },
          "geo": {
           "bgcolor": "white",
           "lakecolor": "white",
           "landcolor": "#E5ECF6",
           "showlakes": true,
           "showland": true,
           "subunitcolor": "white"
          },
          "hoverlabel": {
           "align": "left"
          },
          "hovermode": "closest",
          "mapbox": {
           "style": "light"
          },
          "paper_bgcolor": "white",
          "plot_bgcolor": "#E5ECF6",
          "polar": {
           "angularaxis": {
            "gridcolor": "white",
            "linecolor": "white",
            "ticks": ""
           },
           "bgcolor": "#E5ECF6",
           "radialaxis": {
            "gridcolor": "white",
            "linecolor": "white",
            "ticks": ""
           }
          },
          "scene": {
           "xaxis": {
            "backgroundcolor": "#E5ECF6",
            "gridcolor": "white",
            "gridwidth": 2,
            "linecolor": "white",
            "showbackground": true,
            "ticks": "",
            "zerolinecolor": "white"
           },
           "yaxis": {
            "backgroundcolor": "#E5ECF6",
            "gridcolor": "white",
            "gridwidth": 2,
            "linecolor": "white",
            "showbackground": true,
            "ticks": "",
            "zerolinecolor": "white"
           },
           "zaxis": {
            "backgroundcolor": "#E5ECF6",
            "gridcolor": "white",
            "gridwidth": 2,
            "linecolor": "white",
            "showbackground": true,
            "ticks": "",
            "zerolinecolor": "white"
           }
          },
          "shapedefaults": {
           "line": {
            "color": "#2a3f5f"
           }
          },
          "ternary": {
           "aaxis": {
            "gridcolor": "white",
            "linecolor": "white",
            "ticks": ""
           },
           "baxis": {
            "gridcolor": "white",
            "linecolor": "white",
            "ticks": ""
           },
           "bgcolor": "#E5ECF6",
           "caxis": {
            "gridcolor": "white",
            "linecolor": "white",
            "ticks": ""
           }
          },
          "title": {
           "x": 0.05
          },
          "xaxis": {
           "automargin": true,
           "gridcolor": "white",
           "linecolor": "white",
           "ticks": "",
           "title": {
            "standoff": 15
           },
           "zerolinecolor": "white",
           "zerolinewidth": 2
          },
          "yaxis": {
           "automargin": true,
           "gridcolor": "white",
           "linecolor": "white",
           "ticks": "",
           "title": {
            "standoff": 15
           },
           "zerolinecolor": "white",
           "zerolinewidth": 2
          }
         }
        },
        "title": {
         "text": "Box Plots for Each Group of Year and Type of Hospital"
        },
        "xaxis": {
         "anchor": "y",
         "domain": [
          0,
          1
         ],
         "title": {
          "text": "Type of Hospital"
         }
        },
        "yaxis": {
         "anchor": "x",
         "domain": [
          0,
          1
         ],
         "title": {
          "text": "Values"
         }
        }
       }
      }
     },
     "metadata": {},
     "output_type": "display_data"
    }
   ],
   "source": [
    "import plotly.express as px\n",
    "\n",
    "# Preparing the data for the box plots, extracting necessary statistics\n",
    "box_data = []\n",
    "for name, group in group1:\n",
    "    year, hospital_type = name\n",
    "    stats = calculate_stats(pd.DataFrame(group))\n",
    "    stats_df = stats.reset_index()\n",
    "    stats_df.rename(columns={'VALUE': 'statistic'}, inplace=True)\n",
    "    stats_df['Year'] = year\n",
    "    stats_df['Type of Hospital'] = hospital_type\n",
    "    box_data.append(stats_df)\n",
    "\n",
    "# Concatenating all the dataframes into one\n",
    "box_data = pd.concat(box_data, ignore_index=True)\n",
    "\n",
    "# Filter the dataframe for the boxplot-related statistics only\n",
    "boxplot_data = box_data[['Year', 'Type of Hospital', 'Q1', 'Q3', 'Median', 'IQR']]\n",
    "\n",
    "# Creating the box plot\n",
    "fig = px.box(boxplot_data, x='Type of Hospital', y=['Q1', 'Median', 'Q3'],\n",
    "             color='Year', points=\"all\", labels={'variable': 'Statistic', 'value': 'Value'},\n",
    "             hover_data={'IQR': True})\n",
    "\n",
    "# Customizing the layout\n",
    "fig.update_layout(\n",
    "    title='Box Plots for Each Group of Year and Type of Hospital',\n",
    "    xaxis_title='Type of Hospital',\n",
    "    yaxis_title='Values',\n",
    "    legend_title='Year'\n",
    ")\n",
    "\n",
    "# Show the plot\n",
    "fig.show()\n"
   ]
  },
  {
   "cell_type": "code",
   "execution_count": 37,
   "metadata": {},
   "outputs": [
    {
     "data": {
      "text/html": [
       "<div>\n",
       "<style scoped>\n",
       "    .dataframe tbody tr th:only-of-type {\n",
       "        vertical-align: middle;\n",
       "    }\n",
       "\n",
       "    .dataframe tbody tr th {\n",
       "        vertical-align: top;\n",
       "    }\n",
       "\n",
       "    .dataframe thead th {\n",
       "        text-align: right;\n",
       "    }\n",
       "</style>\n",
       "<table border=\"1\" class=\"dataframe\">\n",
       "  <thead>\n",
       "    <tr style=\"text-align: right;\">\n",
       "      <th></th>\n",
       "      <th></th>\n",
       "      <th>Mean</th>\n",
       "      <th>Median</th>\n",
       "      <th>Mode</th>\n",
       "      <th>Range</th>\n",
       "      <th>Variance</th>\n",
       "      <th>Std Deviation</th>\n",
       "      <th>Skewness</th>\n",
       "      <th>Kurtosis</th>\n",
       "      <th>Q1</th>\n",
       "      <th>Q3</th>\n",
       "      <th>IQR</th>\n",
       "    </tr>\n",
       "    <tr>\n",
       "      <th>Year</th>\n",
       "      <th>ICD 10 Diagnostic Group</th>\n",
       "      <th></th>\n",
       "      <th></th>\n",
       "      <th></th>\n",
       "      <th></th>\n",
       "      <th></th>\n",
       "      <th></th>\n",
       "      <th></th>\n",
       "      <th></th>\n",
       "      <th></th>\n",
       "      <th></th>\n",
       "      <th></th>\n",
       "    </tr>\n",
       "  </thead>\n",
       "  <tbody>\n",
       "    <tr>\n",
       "      <th rowspan=\"14\" valign=\"top\">2013</th>\n",
       "      <th>Alcoholic disorders</th>\n",
       "      <td>490.000000</td>\n",
       "      <td>591.0</td>\n",
       "      <td>191</td>\n",
       "      <td>497</td>\n",
       "      <td>6.940300e+04</td>\n",
       "      <td>263.444491</td>\n",
       "      <td>-1.471644</td>\n",
       "      <td>-1.5</td>\n",
       "      <td>391.0</td>\n",
       "      <td>639.5</td>\n",
       "      <td>248.5</td>\n",
       "    </tr>\n",
       "    <tr>\n",
       "      <th>All disorders</th>\n",
       "      <td>6152.333333</td>\n",
       "      <td>4411.0</td>\n",
       "      <td>3768</td>\n",
       "      <td>6510</td>\n",
       "      <td>1.286921e+07</td>\n",
       "      <td>3587.367605</td>\n",
       "      <td>1.669659</td>\n",
       "      <td>-1.5</td>\n",
       "      <td>4089.5</td>\n",
       "      <td>7344.5</td>\n",
       "      <td>3255.0</td>\n",
       "    </tr>\n",
       "    <tr>\n",
       "      <th>Behavioural, emotional disorders of childhood and adolescence</th>\n",
       "      <td>7.666667</td>\n",
       "      <td>6.0</td>\n",
       "      <td>4</td>\n",
       "      <td>9</td>\n",
       "      <td>2.233333e+01</td>\n",
       "      <td>4.725816</td>\n",
       "      <td>1.389636</td>\n",
       "      <td>-1.5</td>\n",
       "      <td>5.0</td>\n",
       "      <td>9.5</td>\n",
       "      <td>4.5</td>\n",
       "    </tr>\n",
       "    <tr>\n",
       "      <th>Depressive disorders</th>\n",
       "      <td>1751.000000</td>\n",
       "      <td>1543.0</td>\n",
       "      <td>769</td>\n",
       "      <td>2172</td>\n",
       "      <td>1.211844e+06</td>\n",
       "      <td>1100.837863</td>\n",
       "      <td>0.819906</td>\n",
       "      <td>-1.5</td>\n",
       "      <td>1156.0</td>\n",
       "      <td>2242.0</td>\n",
       "      <td>1086.0</td>\n",
       "    </tr>\n",
       "    <tr>\n",
       "      <th>Development disorders</th>\n",
       "      <td>9.666667</td>\n",
       "      <td>9.0</td>\n",
       "      <td>1</td>\n",
       "      <td>18</td>\n",
       "      <td>8.133333e+01</td>\n",
       "      <td>9.018500</td>\n",
       "      <td>0.330832</td>\n",
       "      <td>-1.5</td>\n",
       "      <td>5.0</td>\n",
       "      <td>14.0</td>\n",
       "      <td>9.0</td>\n",
       "    </tr>\n",
       "    <tr>\n",
       "      <th>Eating disorders</th>\n",
       "      <td>72.333333</td>\n",
       "      <td>48.0</td>\n",
       "      <td>2</td>\n",
       "      <td>165</td>\n",
       "      <td>7.250333e+03</td>\n",
       "      <td>85.148889</td>\n",
       "      <td>1.180961</td>\n",
       "      <td>-1.5</td>\n",
       "      <td>25.0</td>\n",
       "      <td>107.5</td>\n",
       "      <td>82.5</td>\n",
       "    </tr>\n",
       "    <tr>\n",
       "      <th>Intellectual disability</th>\n",
       "      <td>32.333333</td>\n",
       "      <td>30.0</td>\n",
       "      <td>1</td>\n",
       "      <td>65</td>\n",
       "      <td>1.060333e+03</td>\n",
       "      <td>32.562760</td>\n",
       "      <td>0.320799</td>\n",
       "      <td>-1.5</td>\n",
       "      <td>15.5</td>\n",
       "      <td>48.0</td>\n",
       "      <td>32.5</td>\n",
       "    </tr>\n",
       "    <tr>\n",
       "      <th>Mania</th>\n",
       "      <td>694.333333</td>\n",
       "      <td>431.0</td>\n",
       "      <td>419</td>\n",
       "      <td>814</td>\n",
       "      <td>2.176573e+05</td>\n",
       "      <td>466.537601</td>\n",
       "      <td>1.730762</td>\n",
       "      <td>-1.5</td>\n",
       "      <td>425.0</td>\n",
       "      <td>832.0</td>\n",
       "      <td>407.0</td>\n",
       "    </tr>\n",
       "    <tr>\n",
       "      <th>Neuroses</th>\n",
       "      <td>548.666667</td>\n",
       "      <td>653.0</td>\n",
       "      <td>218</td>\n",
       "      <td>557</td>\n",
       "      <td>8.572633e+04</td>\n",
       "      <td>292.790596</td>\n",
       "      <td>-1.399920</td>\n",
       "      <td>-1.5</td>\n",
       "      <td>435.5</td>\n",
       "      <td>714.0</td>\n",
       "      <td>278.5</td>\n",
       "    </tr>\n",
       "    <tr>\n",
       "      <th>Organic mental disorders</th>\n",
       "      <td>190.666667</td>\n",
       "      <td>179.0</td>\n",
       "      <td>155</td>\n",
       "      <td>83</td>\n",
       "      <td>1.824333e+03</td>\n",
       "      <td>42.712215</td>\n",
       "      <td>1.137451</td>\n",
       "      <td>-1.5</td>\n",
       "      <td>167.0</td>\n",
       "      <td>208.5</td>\n",
       "      <td>41.5</td>\n",
       "    </tr>\n",
       "    <tr>\n",
       "      <th>Other and unspecified</th>\n",
       "      <td>458.000000</td>\n",
       "      <td>401.0</td>\n",
       "      <td>289</td>\n",
       "      <td>395</td>\n",
       "      <td>4.144300e+04</td>\n",
       "      <td>203.575539</td>\n",
       "      <td>1.161197</td>\n",
       "      <td>-1.5</td>\n",
       "      <td>345.0</td>\n",
       "      <td>542.5</td>\n",
       "      <td>197.5</td>\n",
       "    </tr>\n",
       "    <tr>\n",
       "      <th>Other drug disorders</th>\n",
       "      <td>296.666667</td>\n",
       "      <td>188.0</td>\n",
       "      <td>122</td>\n",
       "      <td>458</td>\n",
       "      <td>6.129733e+04</td>\n",
       "      <td>247.582983</td>\n",
       "      <td>1.594609</td>\n",
       "      <td>-1.5</td>\n",
       "      <td>155.0</td>\n",
       "      <td>384.0</td>\n",
       "      <td>229.0</td>\n",
       "    </tr>\n",
       "    <tr>\n",
       "      <th>Personality and behavioural disorders</th>\n",
       "      <td>370.666667</td>\n",
       "      <td>259.0</td>\n",
       "      <td>132</td>\n",
       "      <td>589</td>\n",
       "      <td>9.608233e+04</td>\n",
       "      <td>309.971504</td>\n",
       "      <td>1.410730</td>\n",
       "      <td>-1.5</td>\n",
       "      <td>195.5</td>\n",
       "      <td>490.0</td>\n",
       "      <td>294.5</td>\n",
       "    </tr>\n",
       "    <tr>\n",
       "      <th>Schizophrenia, schizotypal and delusional disorders</th>\n",
       "      <td>1230.333333</td>\n",
       "      <td>1040.0</td>\n",
       "      <td>320</td>\n",
       "      <td>2011</td>\n",
       "      <td>1.038200e+06</td>\n",
       "      <td>1018.921161</td>\n",
       "      <td>0.811263</td>\n",
       "      <td>-1.5</td>\n",
       "      <td>680.0</td>\n",
       "      <td>1685.5</td>\n",
       "      <td>1005.5</td>\n",
       "    </tr>\n",
       "    <tr>\n",
       "      <th rowspan=\"14\" valign=\"top\">2014</th>\n",
       "      <th>Alcoholic disorders</th>\n",
       "      <td>490.000000</td>\n",
       "      <td>591.0</td>\n",
       "      <td>191</td>\n",
       "      <td>497</td>\n",
       "      <td>6.940300e+04</td>\n",
       "      <td>263.444491</td>\n",
       "      <td>-1.471644</td>\n",
       "      <td>-1.5</td>\n",
       "      <td>391.0</td>\n",
       "      <td>639.5</td>\n",
       "      <td>248.5</td>\n",
       "    </tr>\n",
       "    <tr>\n",
       "      <th>All disorders</th>\n",
       "      <td>6152.333333</td>\n",
       "      <td>4411.0</td>\n",
       "      <td>3768</td>\n",
       "      <td>6510</td>\n",
       "      <td>1.286921e+07</td>\n",
       "      <td>3587.367605</td>\n",
       "      <td>1.669659</td>\n",
       "      <td>-1.5</td>\n",
       "      <td>4089.5</td>\n",
       "      <td>7344.5</td>\n",
       "      <td>3255.0</td>\n",
       "    </tr>\n",
       "    <tr>\n",
       "      <th>Behavioural, emotional disorders of childhood and adolescence</th>\n",
       "      <td>7.666667</td>\n",
       "      <td>6.0</td>\n",
       "      <td>4</td>\n",
       "      <td>9</td>\n",
       "      <td>2.233333e+01</td>\n",
       "      <td>4.725816</td>\n",
       "      <td>1.389636</td>\n",
       "      <td>-1.5</td>\n",
       "      <td>5.0</td>\n",
       "      <td>9.5</td>\n",
       "      <td>4.5</td>\n",
       "    </tr>\n",
       "    <tr>\n",
       "      <th>Depressive disorders</th>\n",
       "      <td>1751.000000</td>\n",
       "      <td>1543.0</td>\n",
       "      <td>769</td>\n",
       "      <td>2172</td>\n",
       "      <td>1.211844e+06</td>\n",
       "      <td>1100.837863</td>\n",
       "      <td>0.819906</td>\n",
       "      <td>-1.5</td>\n",
       "      <td>1156.0</td>\n",
       "      <td>2242.0</td>\n",
       "      <td>1086.0</td>\n",
       "    </tr>\n",
       "    <tr>\n",
       "      <th>Development disorders</th>\n",
       "      <td>9.666667</td>\n",
       "      <td>9.0</td>\n",
       "      <td>1</td>\n",
       "      <td>18</td>\n",
       "      <td>8.133333e+01</td>\n",
       "      <td>9.018500</td>\n",
       "      <td>0.330832</td>\n",
       "      <td>-1.5</td>\n",
       "      <td>5.0</td>\n",
       "      <td>14.0</td>\n",
       "      <td>9.0</td>\n",
       "    </tr>\n",
       "    <tr>\n",
       "      <th>Eating disorders</th>\n",
       "      <td>72.333333</td>\n",
       "      <td>48.0</td>\n",
       "      <td>2</td>\n",
       "      <td>165</td>\n",
       "      <td>7.250333e+03</td>\n",
       "      <td>85.148889</td>\n",
       "      <td>1.180961</td>\n",
       "      <td>-1.5</td>\n",
       "      <td>25.0</td>\n",
       "      <td>107.5</td>\n",
       "      <td>82.5</td>\n",
       "    </tr>\n",
       "    <tr>\n",
       "      <th>Intellectual disability</th>\n",
       "      <td>32.333333</td>\n",
       "      <td>30.0</td>\n",
       "      <td>1</td>\n",
       "      <td>65</td>\n",
       "      <td>1.060333e+03</td>\n",
       "      <td>32.562760</td>\n",
       "      <td>0.320799</td>\n",
       "      <td>-1.5</td>\n",
       "      <td>15.5</td>\n",
       "      <td>48.0</td>\n",
       "      <td>32.5</td>\n",
       "    </tr>\n",
       "    <tr>\n",
       "      <th>Mania</th>\n",
       "      <td>694.333333</td>\n",
       "      <td>431.0</td>\n",
       "      <td>419</td>\n",
       "      <td>814</td>\n",
       "      <td>2.176573e+05</td>\n",
       "      <td>466.537601</td>\n",
       "      <td>1.730762</td>\n",
       "      <td>-1.5</td>\n",
       "      <td>425.0</td>\n",
       "      <td>832.0</td>\n",
       "      <td>407.0</td>\n",
       "    </tr>\n",
       "    <tr>\n",
       "      <th>Neuroses</th>\n",
       "      <td>548.666667</td>\n",
       "      <td>653.0</td>\n",
       "      <td>218</td>\n",
       "      <td>557</td>\n",
       "      <td>8.572633e+04</td>\n",
       "      <td>292.790596</td>\n",
       "      <td>-1.399920</td>\n",
       "      <td>-1.5</td>\n",
       "      <td>435.5</td>\n",
       "      <td>714.0</td>\n",
       "      <td>278.5</td>\n",
       "    </tr>\n",
       "    <tr>\n",
       "      <th>Organic mental disorders</th>\n",
       "      <td>190.666667</td>\n",
       "      <td>179.0</td>\n",
       "      <td>155</td>\n",
       "      <td>83</td>\n",
       "      <td>1.824333e+03</td>\n",
       "      <td>42.712215</td>\n",
       "      <td>1.137451</td>\n",
       "      <td>-1.5</td>\n",
       "      <td>167.0</td>\n",
       "      <td>208.5</td>\n",
       "      <td>41.5</td>\n",
       "    </tr>\n",
       "    <tr>\n",
       "      <th>Other and unspecified</th>\n",
       "      <td>458.000000</td>\n",
       "      <td>401.0</td>\n",
       "      <td>289</td>\n",
       "      <td>395</td>\n",
       "      <td>4.144300e+04</td>\n",
       "      <td>203.575539</td>\n",
       "      <td>1.161197</td>\n",
       "      <td>-1.5</td>\n",
       "      <td>345.0</td>\n",
       "      <td>542.5</td>\n",
       "      <td>197.5</td>\n",
       "    </tr>\n",
       "    <tr>\n",
       "      <th>Other drug disorders</th>\n",
       "      <td>296.666667</td>\n",
       "      <td>188.0</td>\n",
       "      <td>122</td>\n",
       "      <td>458</td>\n",
       "      <td>6.129733e+04</td>\n",
       "      <td>247.582983</td>\n",
       "      <td>1.594609</td>\n",
       "      <td>-1.5</td>\n",
       "      <td>155.0</td>\n",
       "      <td>384.0</td>\n",
       "      <td>229.0</td>\n",
       "    </tr>\n",
       "    <tr>\n",
       "      <th>Personality and behavioural disorders</th>\n",
       "      <td>370.666667</td>\n",
       "      <td>259.0</td>\n",
       "      <td>132</td>\n",
       "      <td>589</td>\n",
       "      <td>9.608233e+04</td>\n",
       "      <td>309.971504</td>\n",
       "      <td>1.410730</td>\n",
       "      <td>-1.5</td>\n",
       "      <td>195.5</td>\n",
       "      <td>490.0</td>\n",
       "      <td>294.5</td>\n",
       "    </tr>\n",
       "    <tr>\n",
       "      <th>Schizophrenia, schizotypal and delusional disorders</th>\n",
       "      <td>1230.333333</td>\n",
       "      <td>1040.0</td>\n",
       "      <td>320</td>\n",
       "      <td>2011</td>\n",
       "      <td>1.038200e+06</td>\n",
       "      <td>1018.921161</td>\n",
       "      <td>0.811263</td>\n",
       "      <td>-1.5</td>\n",
       "      <td>680.0</td>\n",
       "      <td>1685.5</td>\n",
       "      <td>1005.5</td>\n",
       "    </tr>\n",
       "    <tr>\n",
       "      <th rowspan=\"14\" valign=\"top\">2015</th>\n",
       "      <th>Alcoholic disorders</th>\n",
       "      <td>396.000000</td>\n",
       "      <td>447.0</td>\n",
       "      <td>151</td>\n",
       "      <td>439</td>\n",
       "      <td>5.013100e+04</td>\n",
       "      <td>223.899531</td>\n",
       "      <td>-0.971831</td>\n",
       "      <td>-1.5</td>\n",
       "      <td>299.0</td>\n",
       "      <td>518.5</td>\n",
       "      <td>219.5</td>\n",
       "    </tr>\n",
       "    <tr>\n",
       "      <th>All disorders</th>\n",
       "      <td>5953.333333</td>\n",
       "      <td>4248.0</td>\n",
       "      <td>3187</td>\n",
       "      <td>7238</td>\n",
       "      <td>1.527828e+07</td>\n",
       "      <td>3908.744342</td>\n",
       "      <td>1.589586</td>\n",
       "      <td>-1.5</td>\n",
       "      <td>3717.5</td>\n",
       "      <td>7336.5</td>\n",
       "      <td>3619.0</td>\n",
       "    </tr>\n",
       "    <tr>\n",
       "      <th>Behavioural, emotional disorders of childhood and adolescence</th>\n",
       "      <td>6.000000</td>\n",
       "      <td>5.0</td>\n",
       "      <td>5</td>\n",
       "      <td>3</td>\n",
       "      <td>3.000000e+00</td>\n",
       "      <td>1.732051</td>\n",
       "      <td>1.732051</td>\n",
       "      <td>-1.5</td>\n",
       "      <td>5.0</td>\n",
       "      <td>6.5</td>\n",
       "      <td>1.5</td>\n",
       "    </tr>\n",
       "    <tr>\n",
       "      <th>Depressive disorders</th>\n",
       "      <td>1602.000000</td>\n",
       "      <td>1518.0</td>\n",
       "      <td>549</td>\n",
       "      <td>2190</td>\n",
       "      <td>1.204317e+06</td>\n",
       "      <td>1097.413778</td>\n",
       "      <td>0.342428</td>\n",
       "      <td>-1.5</td>\n",
       "      <td>1033.5</td>\n",
       "      <td>2128.5</td>\n",
       "      <td>1095.0</td>\n",
       "    </tr>\n",
       "    <tr>\n",
       "      <th>Development disorders</th>\n",
       "      <td>13.333333</td>\n",
       "      <td>12.0</td>\n",
       "      <td>6</td>\n",
       "      <td>16</td>\n",
       "      <td>6.533333e+01</td>\n",
       "      <td>8.082904</td>\n",
       "      <td>0.722109</td>\n",
       "      <td>-1.5</td>\n",
       "      <td>9.0</td>\n",
       "      <td>17.0</td>\n",
       "      <td>8.0</td>\n",
       "    </tr>\n",
       "    <tr>\n",
       "      <th>Eating disorders</th>\n",
       "      <td>49.333333</td>\n",
       "      <td>36.0</td>\n",
       "      <td>0</td>\n",
       "      <td>112</td>\n",
       "      <td>3.269333e+03</td>\n",
       "      <td>57.178084</td>\n",
       "      <td>0.992292</td>\n",
       "      <td>-1.5</td>\n",
       "      <td>18.0</td>\n",
       "      <td>74.0</td>\n",
       "      <td>56.0</td>\n",
       "    </tr>\n",
       "    <tr>\n",
       "      <th>Intellectual disability</th>\n",
       "      <td>34.000000</td>\n",
       "      <td>30.0</td>\n",
       "      <td>3</td>\n",
       "      <td>66</td>\n",
       "      <td>1.101000e+03</td>\n",
       "      <td>33.181320</td>\n",
       "      <td>0.534591</td>\n",
       "      <td>-1.5</td>\n",
       "      <td>16.5</td>\n",
       "      <td>49.5</td>\n",
       "      <td>33.0</td>\n",
       "    </tr>\n",
       "    <tr>\n",
       "      <th>Mania</th>\n",
       "      <td>639.000000</td>\n",
       "      <td>405.0</td>\n",
       "      <td>322</td>\n",
       "      <td>868</td>\n",
       "      <td>2.294230e+05</td>\n",
       "      <td>478.981210</td>\n",
       "      <td>1.673724</td>\n",
       "      <td>-1.5</td>\n",
       "      <td>363.5</td>\n",
       "      <td>797.5</td>\n",
       "      <td>434.0</td>\n",
       "    </tr>\n",
       "    <tr>\n",
       "      <th>Neuroses</th>\n",
       "      <td>561.000000</td>\n",
       "      <td>601.0</td>\n",
       "      <td>197</td>\n",
       "      <td>688</td>\n",
       "      <td>1.195360e+05</td>\n",
       "      <td>345.739787</td>\n",
       "      <td>-0.513654</td>\n",
       "      <td>-1.5</td>\n",
       "      <td>399.0</td>\n",
       "      <td>743.0</td>\n",
       "      <td>344.0</td>\n",
       "    </tr>\n",
       "    <tr>\n",
       "      <th>Organic mental disorders</th>\n",
       "      <td>189.000000</td>\n",
       "      <td>202.0</td>\n",
       "      <td>146</td>\n",
       "      <td>73</td>\n",
       "      <td>1.459000e+03</td>\n",
       "      <td>38.196859</td>\n",
       "      <td>-1.354137</td>\n",
       "      <td>-1.5</td>\n",
       "      <td>174.0</td>\n",
       "      <td>210.5</td>\n",
       "      <td>36.5</td>\n",
       "    </tr>\n",
       "    <tr>\n",
       "      <th>Other and unspecified</th>\n",
       "      <td>470.000000</td>\n",
       "      <td>342.0</td>\n",
       "      <td>257</td>\n",
       "      <td>554</td>\n",
       "      <td>8.901700e+04</td>\n",
       "      <td>298.357169</td>\n",
       "      <td>1.575241</td>\n",
       "      <td>-1.5</td>\n",
       "      <td>299.5</td>\n",
       "      <td>576.5</td>\n",
       "      <td>277.0</td>\n",
       "    </tr>\n",
       "    <tr>\n",
       "      <th>Other drug disorders</th>\n",
       "      <td>344.000000</td>\n",
       "      <td>226.0</td>\n",
       "      <td>133</td>\n",
       "      <td>540</td>\n",
       "      <td>8.334300e+04</td>\n",
       "      <td>288.691877</td>\n",
       "      <td>1.532037</td>\n",
       "      <td>-1.5</td>\n",
       "      <td>179.5</td>\n",
       "      <td>449.5</td>\n",
       "      <td>270.0</td>\n",
       "    </tr>\n",
       "    <tr>\n",
       "      <th>Personality and behavioural disorders</th>\n",
       "      <td>459.666667</td>\n",
       "      <td>339.0</td>\n",
       "      <td>141</td>\n",
       "      <td>758</td>\n",
       "      <td>1.545613e+05</td>\n",
       "      <td>393.142892</td>\n",
       "      <td>1.251063</td>\n",
       "      <td>-1.5</td>\n",
       "      <td>240.0</td>\n",
       "      <td>619.0</td>\n",
       "      <td>379.0</td>\n",
       "    </tr>\n",
       "    <tr>\n",
       "      <th>Schizophrenia, schizotypal and delusional disorders</th>\n",
       "      <td>1190.000000</td>\n",
       "      <td>801.0</td>\n",
       "      <td>325</td>\n",
       "      <td>2119</td>\n",
       "      <td>1.236031e+06</td>\n",
       "      <td>1111.769311</td>\n",
       "      <td>1.381757</td>\n",
       "      <td>-1.5</td>\n",
       "      <td>563.0</td>\n",
       "      <td>1622.5</td>\n",
       "      <td>1059.5</td>\n",
       "    </tr>\n",
       "  </tbody>\n",
       "</table>\n",
       "</div>"
      ],
      "text/plain": [
       "                                                                Mean  Median  \\\n",
       "Year ICD 10 Diagnostic Group                                                   \n",
       "2013 Alcoholic disorders                                  490.000000   591.0   \n",
       "     All disorders                                       6152.333333  4411.0   \n",
       "     Behavioural, emotional disorders of childhood a...     7.666667     6.0   \n",
       "     Depressive disorders                                1751.000000  1543.0   \n",
       "     Development disorders                                  9.666667     9.0   \n",
       "     Eating disorders                                      72.333333    48.0   \n",
       "     Intellectual disability                               32.333333    30.0   \n",
       "     Mania                                                694.333333   431.0   \n",
       "     Neuroses                                             548.666667   653.0   \n",
       "     Organic mental disorders                             190.666667   179.0   \n",
       "     Other and unspecified                                458.000000   401.0   \n",
       "     Other drug disorders                                 296.666667   188.0   \n",
       "     Personality and behavioural disorders                370.666667   259.0   \n",
       "     Schizophrenia, schizotypal and delusional disor...  1230.333333  1040.0   \n",
       "2014 Alcoholic disorders                                  490.000000   591.0   \n",
       "     All disorders                                       6152.333333  4411.0   \n",
       "     Behavioural, emotional disorders of childhood a...     7.666667     6.0   \n",
       "     Depressive disorders                                1751.000000  1543.0   \n",
       "     Development disorders                                  9.666667     9.0   \n",
       "     Eating disorders                                      72.333333    48.0   \n",
       "     Intellectual disability                               32.333333    30.0   \n",
       "     Mania                                                694.333333   431.0   \n",
       "     Neuroses                                             548.666667   653.0   \n",
       "     Organic mental disorders                             190.666667   179.0   \n",
       "     Other and unspecified                                458.000000   401.0   \n",
       "     Other drug disorders                                 296.666667   188.0   \n",
       "     Personality and behavioural disorders                370.666667   259.0   \n",
       "     Schizophrenia, schizotypal and delusional disor...  1230.333333  1040.0   \n",
       "2015 Alcoholic disorders                                  396.000000   447.0   \n",
       "     All disorders                                       5953.333333  4248.0   \n",
       "     Behavioural, emotional disorders of childhood a...     6.000000     5.0   \n",
       "     Depressive disorders                                1602.000000  1518.0   \n",
       "     Development disorders                                 13.333333    12.0   \n",
       "     Eating disorders                                      49.333333    36.0   \n",
       "     Intellectual disability                               34.000000    30.0   \n",
       "     Mania                                                639.000000   405.0   \n",
       "     Neuroses                                             561.000000   601.0   \n",
       "     Organic mental disorders                             189.000000   202.0   \n",
       "     Other and unspecified                                470.000000   342.0   \n",
       "     Other drug disorders                                 344.000000   226.0   \n",
       "     Personality and behavioural disorders                459.666667   339.0   \n",
       "     Schizophrenia, schizotypal and delusional disor...  1190.000000   801.0   \n",
       "\n",
       "                                                         Mode  Range  \\\n",
       "Year ICD 10 Diagnostic Group                                           \n",
       "2013 Alcoholic disorders                                  191    497   \n",
       "     All disorders                                       3768   6510   \n",
       "     Behavioural, emotional disorders of childhood a...     4      9   \n",
       "     Depressive disorders                                 769   2172   \n",
       "     Development disorders                                  1     18   \n",
       "     Eating disorders                                       2    165   \n",
       "     Intellectual disability                                1     65   \n",
       "     Mania                                                419    814   \n",
       "     Neuroses                                             218    557   \n",
       "     Organic mental disorders                             155     83   \n",
       "     Other and unspecified                                289    395   \n",
       "     Other drug disorders                                 122    458   \n",
       "     Personality and behavioural disorders                132    589   \n",
       "     Schizophrenia, schizotypal and delusional disor...   320   2011   \n",
       "2014 Alcoholic disorders                                  191    497   \n",
       "     All disorders                                       3768   6510   \n",
       "     Behavioural, emotional disorders of childhood a...     4      9   \n",
       "     Depressive disorders                                 769   2172   \n",
       "     Development disorders                                  1     18   \n",
       "     Eating disorders                                       2    165   \n",
       "     Intellectual disability                                1     65   \n",
       "     Mania                                                419    814   \n",
       "     Neuroses                                             218    557   \n",
       "     Organic mental disorders                             155     83   \n",
       "     Other and unspecified                                289    395   \n",
       "     Other drug disorders                                 122    458   \n",
       "     Personality and behavioural disorders                132    589   \n",
       "     Schizophrenia, schizotypal and delusional disor...   320   2011   \n",
       "2015 Alcoholic disorders                                  151    439   \n",
       "     All disorders                                       3187   7238   \n",
       "     Behavioural, emotional disorders of childhood a...     5      3   \n",
       "     Depressive disorders                                 549   2190   \n",
       "     Development disorders                                  6     16   \n",
       "     Eating disorders                                       0    112   \n",
       "     Intellectual disability                                3     66   \n",
       "     Mania                                                322    868   \n",
       "     Neuroses                                             197    688   \n",
       "     Organic mental disorders                             146     73   \n",
       "     Other and unspecified                                257    554   \n",
       "     Other drug disorders                                 133    540   \n",
       "     Personality and behavioural disorders                141    758   \n",
       "     Schizophrenia, schizotypal and delusional disor...   325   2119   \n",
       "\n",
       "                                                             Variance  \\\n",
       "Year ICD 10 Diagnostic Group                                            \n",
       "2013 Alcoholic disorders                                 6.940300e+04   \n",
       "     All disorders                                       1.286921e+07   \n",
       "     Behavioural, emotional disorders of childhood a...  2.233333e+01   \n",
       "     Depressive disorders                                1.211844e+06   \n",
       "     Development disorders                               8.133333e+01   \n",
       "     Eating disorders                                    7.250333e+03   \n",
       "     Intellectual disability                             1.060333e+03   \n",
       "     Mania                                               2.176573e+05   \n",
       "     Neuroses                                            8.572633e+04   \n",
       "     Organic mental disorders                            1.824333e+03   \n",
       "     Other and unspecified                               4.144300e+04   \n",
       "     Other drug disorders                                6.129733e+04   \n",
       "     Personality and behavioural disorders               9.608233e+04   \n",
       "     Schizophrenia, schizotypal and delusional disor...  1.038200e+06   \n",
       "2014 Alcoholic disorders                                 6.940300e+04   \n",
       "     All disorders                                       1.286921e+07   \n",
       "     Behavioural, emotional disorders of childhood a...  2.233333e+01   \n",
       "     Depressive disorders                                1.211844e+06   \n",
       "     Development disorders                               8.133333e+01   \n",
       "     Eating disorders                                    7.250333e+03   \n",
       "     Intellectual disability                             1.060333e+03   \n",
       "     Mania                                               2.176573e+05   \n",
       "     Neuroses                                            8.572633e+04   \n",
       "     Organic mental disorders                            1.824333e+03   \n",
       "     Other and unspecified                               4.144300e+04   \n",
       "     Other drug disorders                                6.129733e+04   \n",
       "     Personality and behavioural disorders               9.608233e+04   \n",
       "     Schizophrenia, schizotypal and delusional disor...  1.038200e+06   \n",
       "2015 Alcoholic disorders                                 5.013100e+04   \n",
       "     All disorders                                       1.527828e+07   \n",
       "     Behavioural, emotional disorders of childhood a...  3.000000e+00   \n",
       "     Depressive disorders                                1.204317e+06   \n",
       "     Development disorders                               6.533333e+01   \n",
       "     Eating disorders                                    3.269333e+03   \n",
       "     Intellectual disability                             1.101000e+03   \n",
       "     Mania                                               2.294230e+05   \n",
       "     Neuroses                                            1.195360e+05   \n",
       "     Organic mental disorders                            1.459000e+03   \n",
       "     Other and unspecified                               8.901700e+04   \n",
       "     Other drug disorders                                8.334300e+04   \n",
       "     Personality and behavioural disorders               1.545613e+05   \n",
       "     Schizophrenia, schizotypal and delusional disor...  1.236031e+06   \n",
       "\n",
       "                                                         Std Deviation  \\\n",
       "Year ICD 10 Diagnostic Group                                             \n",
       "2013 Alcoholic disorders                                    263.444491   \n",
       "     All disorders                                         3587.367605   \n",
       "     Behavioural, emotional disorders of childhood a...       4.725816   \n",
       "     Depressive disorders                                  1100.837863   \n",
       "     Development disorders                                    9.018500   \n",
       "     Eating disorders                                        85.148889   \n",
       "     Intellectual disability                                 32.562760   \n",
       "     Mania                                                  466.537601   \n",
       "     Neuroses                                               292.790596   \n",
       "     Organic mental disorders                                42.712215   \n",
       "     Other and unspecified                                  203.575539   \n",
       "     Other drug disorders                                   247.582983   \n",
       "     Personality and behavioural disorders                  309.971504   \n",
       "     Schizophrenia, schizotypal and delusional disor...    1018.921161   \n",
       "2014 Alcoholic disorders                                    263.444491   \n",
       "     All disorders                                         3587.367605   \n",
       "     Behavioural, emotional disorders of childhood a...       4.725816   \n",
       "     Depressive disorders                                  1100.837863   \n",
       "     Development disorders                                    9.018500   \n",
       "     Eating disorders                                        85.148889   \n",
       "     Intellectual disability                                 32.562760   \n",
       "     Mania                                                  466.537601   \n",
       "     Neuroses                                               292.790596   \n",
       "     Organic mental disorders                                42.712215   \n",
       "     Other and unspecified                                  203.575539   \n",
       "     Other drug disorders                                   247.582983   \n",
       "     Personality and behavioural disorders                  309.971504   \n",
       "     Schizophrenia, schizotypal and delusional disor...    1018.921161   \n",
       "2015 Alcoholic disorders                                    223.899531   \n",
       "     All disorders                                         3908.744342   \n",
       "     Behavioural, emotional disorders of childhood a...       1.732051   \n",
       "     Depressive disorders                                  1097.413778   \n",
       "     Development disorders                                    8.082904   \n",
       "     Eating disorders                                        57.178084   \n",
       "     Intellectual disability                                 33.181320   \n",
       "     Mania                                                  478.981210   \n",
       "     Neuroses                                               345.739787   \n",
       "     Organic mental disorders                                38.196859   \n",
       "     Other and unspecified                                  298.357169   \n",
       "     Other drug disorders                                   288.691877   \n",
       "     Personality and behavioural disorders                  393.142892   \n",
       "     Schizophrenia, schizotypal and delusional disor...    1111.769311   \n",
       "\n",
       "                                                         Skewness  Kurtosis  \\\n",
       "Year ICD 10 Diagnostic Group                                                  \n",
       "2013 Alcoholic disorders                                -1.471644      -1.5   \n",
       "     All disorders                                       1.669659      -1.5   \n",
       "     Behavioural, emotional disorders of childhood a...  1.389636      -1.5   \n",
       "     Depressive disorders                                0.819906      -1.5   \n",
       "     Development disorders                               0.330832      -1.5   \n",
       "     Eating disorders                                    1.180961      -1.5   \n",
       "     Intellectual disability                             0.320799      -1.5   \n",
       "     Mania                                               1.730762      -1.5   \n",
       "     Neuroses                                           -1.399920      -1.5   \n",
       "     Organic mental disorders                            1.137451      -1.5   \n",
       "     Other and unspecified                               1.161197      -1.5   \n",
       "     Other drug disorders                                1.594609      -1.5   \n",
       "     Personality and behavioural disorders               1.410730      -1.5   \n",
       "     Schizophrenia, schizotypal and delusional disor...  0.811263      -1.5   \n",
       "2014 Alcoholic disorders                                -1.471644      -1.5   \n",
       "     All disorders                                       1.669659      -1.5   \n",
       "     Behavioural, emotional disorders of childhood a...  1.389636      -1.5   \n",
       "     Depressive disorders                                0.819906      -1.5   \n",
       "     Development disorders                               0.330832      -1.5   \n",
       "     Eating disorders                                    1.180961      -1.5   \n",
       "     Intellectual disability                             0.320799      -1.5   \n",
       "     Mania                                               1.730762      -1.5   \n",
       "     Neuroses                                           -1.399920      -1.5   \n",
       "     Organic mental disorders                            1.137451      -1.5   \n",
       "     Other and unspecified                               1.161197      -1.5   \n",
       "     Other drug disorders                                1.594609      -1.5   \n",
       "     Personality and behavioural disorders               1.410730      -1.5   \n",
       "     Schizophrenia, schizotypal and delusional disor...  0.811263      -1.5   \n",
       "2015 Alcoholic disorders                                -0.971831      -1.5   \n",
       "     All disorders                                       1.589586      -1.5   \n",
       "     Behavioural, emotional disorders of childhood a...  1.732051      -1.5   \n",
       "     Depressive disorders                                0.342428      -1.5   \n",
       "     Development disorders                               0.722109      -1.5   \n",
       "     Eating disorders                                    0.992292      -1.5   \n",
       "     Intellectual disability                             0.534591      -1.5   \n",
       "     Mania                                               1.673724      -1.5   \n",
       "     Neuroses                                           -0.513654      -1.5   \n",
       "     Organic mental disorders                           -1.354137      -1.5   \n",
       "     Other and unspecified                               1.575241      -1.5   \n",
       "     Other drug disorders                                1.532037      -1.5   \n",
       "     Personality and behavioural disorders               1.251063      -1.5   \n",
       "     Schizophrenia, schizotypal and delusional disor...  1.381757      -1.5   \n",
       "\n",
       "                                                             Q1      Q3  \\\n",
       "Year ICD 10 Diagnostic Group                                              \n",
       "2013 Alcoholic disorders                                  391.0   639.5   \n",
       "     All disorders                                       4089.5  7344.5   \n",
       "     Behavioural, emotional disorders of childhood a...     5.0     9.5   \n",
       "     Depressive disorders                                1156.0  2242.0   \n",
       "     Development disorders                                  5.0    14.0   \n",
       "     Eating disorders                                      25.0   107.5   \n",
       "     Intellectual disability                               15.5    48.0   \n",
       "     Mania                                                425.0   832.0   \n",
       "     Neuroses                                             435.5   714.0   \n",
       "     Organic mental disorders                             167.0   208.5   \n",
       "     Other and unspecified                                345.0   542.5   \n",
       "     Other drug disorders                                 155.0   384.0   \n",
       "     Personality and behavioural disorders                195.5   490.0   \n",
       "     Schizophrenia, schizotypal and delusional disor...   680.0  1685.5   \n",
       "2014 Alcoholic disorders                                  391.0   639.5   \n",
       "     All disorders                                       4089.5  7344.5   \n",
       "     Behavioural, emotional disorders of childhood a...     5.0     9.5   \n",
       "     Depressive disorders                                1156.0  2242.0   \n",
       "     Development disorders                                  5.0    14.0   \n",
       "     Eating disorders                                      25.0   107.5   \n",
       "     Intellectual disability                               15.5    48.0   \n",
       "     Mania                                                425.0   832.0   \n",
       "     Neuroses                                             435.5   714.0   \n",
       "     Organic mental disorders                             167.0   208.5   \n",
       "     Other and unspecified                                345.0   542.5   \n",
       "     Other drug disorders                                 155.0   384.0   \n",
       "     Personality and behavioural disorders                195.5   490.0   \n",
       "     Schizophrenia, schizotypal and delusional disor...   680.0  1685.5   \n",
       "2015 Alcoholic disorders                                  299.0   518.5   \n",
       "     All disorders                                       3717.5  7336.5   \n",
       "     Behavioural, emotional disorders of childhood a...     5.0     6.5   \n",
       "     Depressive disorders                                1033.5  2128.5   \n",
       "     Development disorders                                  9.0    17.0   \n",
       "     Eating disorders                                      18.0    74.0   \n",
       "     Intellectual disability                               16.5    49.5   \n",
       "     Mania                                                363.5   797.5   \n",
       "     Neuroses                                             399.0   743.0   \n",
       "     Organic mental disorders                             174.0   210.5   \n",
       "     Other and unspecified                                299.5   576.5   \n",
       "     Other drug disorders                                 179.5   449.5   \n",
       "     Personality and behavioural disorders                240.0   619.0   \n",
       "     Schizophrenia, schizotypal and delusional disor...   563.0  1622.5   \n",
       "\n",
       "                                                            IQR  \n",
       "Year ICD 10 Diagnostic Group                                     \n",
       "2013 Alcoholic disorders                                  248.5  \n",
       "     All disorders                                       3255.0  \n",
       "     Behavioural, emotional disorders of childhood a...     4.5  \n",
       "     Depressive disorders                                1086.0  \n",
       "     Development disorders                                  9.0  \n",
       "     Eating disorders                                      82.5  \n",
       "     Intellectual disability                               32.5  \n",
       "     Mania                                                407.0  \n",
       "     Neuroses                                             278.5  \n",
       "     Organic mental disorders                              41.5  \n",
       "     Other and unspecified                                197.5  \n",
       "     Other drug disorders                                 229.0  \n",
       "     Personality and behavioural disorders                294.5  \n",
       "     Schizophrenia, schizotypal and delusional disor...  1005.5  \n",
       "2014 Alcoholic disorders                                  248.5  \n",
       "     All disorders                                       3255.0  \n",
       "     Behavioural, emotional disorders of childhood a...     4.5  \n",
       "     Depressive disorders                                1086.0  \n",
       "     Development disorders                                  9.0  \n",
       "     Eating disorders                                      82.5  \n",
       "     Intellectual disability                               32.5  \n",
       "     Mania                                                407.0  \n",
       "     Neuroses                                             278.5  \n",
       "     Organic mental disorders                              41.5  \n",
       "     Other and unspecified                                197.5  \n",
       "     Other drug disorders                                 229.0  \n",
       "     Personality and behavioural disorders                294.5  \n",
       "     Schizophrenia, schizotypal and delusional disor...  1005.5  \n",
       "2015 Alcoholic disorders                                  219.5  \n",
       "     All disorders                                       3619.0  \n",
       "     Behavioural, emotional disorders of childhood a...     1.5  \n",
       "     Depressive disorders                                1095.0  \n",
       "     Development disorders                                  8.0  \n",
       "     Eating disorders                                      56.0  \n",
       "     Intellectual disability                               33.0  \n",
       "     Mania                                                434.0  \n",
       "     Neuroses                                             344.0  \n",
       "     Organic mental disorders                              36.5  \n",
       "     Other and unspecified                                277.0  \n",
       "     Other drug disorders                                 270.0  \n",
       "     Personality and behavioural disorders                379.0  \n",
       "     Schizophrenia, schizotypal and delusional disor...  1059.5  "
      ]
     },
     "execution_count": 37,
     "metadata": {},
     "output_type": "execute_result"
    }
   ],
   "source": [
    "stats2.head(42)"
   ]
  },
  {
   "cell_type": "code",
   "execution_count": 34,
   "metadata": {},
   "outputs": [
    {
     "data": {
      "text/html": [
       "<div>\n",
       "<style scoped>\n",
       "    .dataframe tbody tr th:only-of-type {\n",
       "        vertical-align: middle;\n",
       "    }\n",
       "\n",
       "    .dataframe tbody tr th {\n",
       "        vertical-align: top;\n",
       "    }\n",
       "\n",
       "    .dataframe thead th {\n",
       "        text-align: right;\n",
       "    }\n",
       "</style>\n",
       "<table border=\"1\" class=\"dataframe\">\n",
       "  <thead>\n",
       "    <tr style=\"text-align: right;\">\n",
       "      <th></th>\n",
       "      <th></th>\n",
       "      <th>Mean</th>\n",
       "      <th>Median</th>\n",
       "      <th>Mode</th>\n",
       "      <th>Range</th>\n",
       "      <th>Variance</th>\n",
       "      <th>Std Deviation</th>\n",
       "      <th>Skewness</th>\n",
       "      <th>Kurtosis</th>\n",
       "      <th>Q1</th>\n",
       "      <th>Q3</th>\n",
       "      <th>IQR</th>\n",
       "    </tr>\n",
       "    <tr>\n",
       "      <th>Type of Hospital</th>\n",
       "      <th>ICD 10 Diagnostic Group</th>\n",
       "      <th></th>\n",
       "      <th></th>\n",
       "      <th></th>\n",
       "      <th></th>\n",
       "      <th></th>\n",
       "      <th></th>\n",
       "      <th></th>\n",
       "      <th></th>\n",
       "      <th></th>\n",
       "      <th></th>\n",
       "      <th></th>\n",
       "    </tr>\n",
       "  </thead>\n",
       "  <tbody>\n",
       "    <tr>\n",
       "      <th rowspan=\"14\" valign=\"top\">General hospital psychiatric units</th>\n",
       "      <th>Alcoholic disorders</th>\n",
       "      <td>471.2</td>\n",
       "      <td>428.5</td>\n",
       "      <td>688</td>\n",
       "      <td>330</td>\n",
       "      <td>14348.622222</td>\n",
       "      <td>119.785735</td>\n",
       "      <td>1.402471</td>\n",
       "      <td>-0.179383</td>\n",
       "      <td>401.25</td>\n",
       "      <td>478.50</td>\n",
       "      <td>77.25</td>\n",
       "    </tr>\n",
       "    <tr>\n",
       "      <th>All disorders</th>\n",
       "      <td>10138.9</td>\n",
       "      <td>10172.5</td>\n",
       "      <td>10278</td>\n",
       "      <td>753</td>\n",
       "      <td>46009.655556</td>\n",
       "      <td>214.498614</td>\n",
       "      <td>-1.127891</td>\n",
       "      <td>0.348242</td>\n",
       "      <td>10075.00</td>\n",
       "      <td>10277.50</td>\n",
       "      <td>202.50</td>\n",
       "    </tr>\n",
       "    <tr>\n",
       "      <th>Behavioural, emotional disorders of childhood and adolescence</th>\n",
       "      <td>9.6</td>\n",
       "      <td>9.5</td>\n",
       "      <td>8</td>\n",
       "      <td>9</td>\n",
       "      <td>8.266667</td>\n",
       "      <td>2.875181</td>\n",
       "      <td>-0.409511</td>\n",
       "      <td>-0.463233</td>\n",
       "      <td>8.00</td>\n",
       "      <td>12.25</td>\n",
       "      <td>4.25</td>\n",
       "    </tr>\n",
       "    <tr>\n",
       "      <th>Depressive disorders</th>\n",
       "      <td>2424.1</td>\n",
       "      <td>2229.0</td>\n",
       "      <td>2941</td>\n",
       "      <td>800</td>\n",
       "      <td>108603.433333</td>\n",
       "      <td>329.550350</td>\n",
       "      <td>0.869203</td>\n",
       "      <td>-1.182236</td>\n",
       "      <td>2187.50</td>\n",
       "      <td>2676.00</td>\n",
       "      <td>488.50</td>\n",
       "    </tr>\n",
       "    <tr>\n",
       "      <th>Development disorders</th>\n",
       "      <td>31.2</td>\n",
       "      <td>32.0</td>\n",
       "      <td>19</td>\n",
       "      <td>34</td>\n",
       "      <td>101.288889</td>\n",
       "      <td>10.064238</td>\n",
       "      <td>0.845403</td>\n",
       "      <td>0.353458</td>\n",
       "      <td>24.00</td>\n",
       "      <td>34.50</td>\n",
       "      <td>10.50</td>\n",
       "    </tr>\n",
       "    <tr>\n",
       "      <th>Eating disorders</th>\n",
       "      <td>41.2</td>\n",
       "      <td>41.5</td>\n",
       "      <td>36</td>\n",
       "      <td>14</td>\n",
       "      <td>29.288889</td>\n",
       "      <td>5.411921</td>\n",
       "      <td>-0.000210</td>\n",
       "      <td>-1.575676</td>\n",
       "      <td>36.00</td>\n",
       "      <td>45.75</td>\n",
       "      <td>9.75</td>\n",
       "    </tr>\n",
       "    <tr>\n",
       "      <th>Intellectual disability</th>\n",
       "      <td>56.0</td>\n",
       "      <td>57.0</td>\n",
       "      <td>66</td>\n",
       "      <td>36</td>\n",
       "      <td>131.777778</td>\n",
       "      <td>11.479450</td>\n",
       "      <td>-0.803731</td>\n",
       "      <td>-0.498486</td>\n",
       "      <td>50.50</td>\n",
       "      <td>65.75</td>\n",
       "      <td>15.25</td>\n",
       "    </tr>\n",
       "    <tr>\n",
       "      <th>Mania</th>\n",
       "      <td>1190.9</td>\n",
       "      <td>1196.0</td>\n",
       "      <td>1233</td>\n",
       "      <td>204</td>\n",
       "      <td>3584.988889</td>\n",
       "      <td>59.874777</td>\n",
       "      <td>-1.524805</td>\n",
       "      <td>1.093371</td>\n",
       "      <td>1175.00</td>\n",
       "      <td>1233.00</td>\n",
       "      <td>58.00</td>\n",
       "    </tr>\n",
       "    <tr>\n",
       "      <th>Neuroses</th>\n",
       "      <td>854.6</td>\n",
       "      <td>848.5</td>\n",
       "      <td>775</td>\n",
       "      <td>209</td>\n",
       "      <td>3726.044444</td>\n",
       "      <td>61.041334</td>\n",
       "      <td>0.740858</td>\n",
       "      <td>0.238896</td>\n",
       "      <td>828.75</td>\n",
       "      <td>883.50</td>\n",
       "      <td>54.75</td>\n",
       "    </tr>\n",
       "    <tr>\n",
       "      <th>Organic mental disorders</th>\n",
       "      <td>187.4</td>\n",
       "      <td>179.0</td>\n",
       "      <td>179</td>\n",
       "      <td>62</td>\n",
       "      <td>492.488889</td>\n",
       "      <td>22.192091</td>\n",
       "      <td>0.877612</td>\n",
       "      <td>-0.764897</td>\n",
       "      <td>176.75</td>\n",
       "      <td>197.75</td>\n",
       "      <td>21.00</td>\n",
       "    </tr>\n",
       "    <tr>\n",
       "      <th>Other and unspecified</th>\n",
       "      <td>843.2</td>\n",
       "      <td>747.5</td>\n",
       "      <td>684</td>\n",
       "      <td>867</td>\n",
       "      <td>78849.511111</td>\n",
       "      <td>280.801551</td>\n",
       "      <td>0.970367</td>\n",
       "      <td>-0.355374</td>\n",
       "      <td>643.50</td>\n",
       "      <td>990.75</td>\n",
       "      <td>347.25</td>\n",
       "    </tr>\n",
       "    <tr>\n",
       "      <th>Other drug disorders</th>\n",
       "      <td>661.4</td>\n",
       "      <td>660.0</td>\n",
       "      <td>580</td>\n",
       "      <td>188</td>\n",
       "      <td>4357.600000</td>\n",
       "      <td>66.012120</td>\n",
       "      <td>0.413919</td>\n",
       "      <td>-0.983040</td>\n",
       "      <td>613.75</td>\n",
       "      <td>688.50</td>\n",
       "      <td>74.75</td>\n",
       "    </tr>\n",
       "    <tr>\n",
       "      <th>Personality and behavioural disorders</th>\n",
       "      <td>911.3</td>\n",
       "      <td>915.5</td>\n",
       "      <td>721</td>\n",
       "      <td>356</td>\n",
       "      <td>14746.900000</td>\n",
       "      <td>121.436815</td>\n",
       "      <td>-0.448698</td>\n",
       "      <td>-0.805459</td>\n",
       "      <td>866.75</td>\n",
       "      <td>981.50</td>\n",
       "      <td>114.75</td>\n",
       "    </tr>\n",
       "    <tr>\n",
       "      <th>Schizophrenia, schizotypal and delusional disorders</th>\n",
       "      <td>2456.8</td>\n",
       "      <td>2425.0</td>\n",
       "      <td>2331</td>\n",
       "      <td>516</td>\n",
       "      <td>26383.511111</td>\n",
       "      <td>162.430019</td>\n",
       "      <td>1.280132</td>\n",
       "      <td>0.186374</td>\n",
       "      <td>2331.50</td>\n",
       "      <td>2514.50</td>\n",
       "      <td>183.00</td>\n",
       "    </tr>\n",
       "    <tr>\n",
       "      <th rowspan=\"14\" valign=\"top\">Independent/private and private charitable centres</th>\n",
       "      <th>Alcoholic disorders</th>\n",
       "      <td>538.3</td>\n",
       "      <td>590.5</td>\n",
       "      <td>591</td>\n",
       "      <td>330</td>\n",
       "      <td>12949.566667</td>\n",
       "      <td>113.796163</td>\n",
       "      <td>-1.606931</td>\n",
       "      <td>0.191935</td>\n",
       "      <td>536.00</td>\n",
       "      <td>600.00</td>\n",
       "      <td>64.00</td>\n",
       "    </tr>\n",
       "    <tr>\n",
       "      <th>All disorders</th>\n",
       "      <td>4122.2</td>\n",
       "      <td>4151.5</td>\n",
       "      <td>4411</td>\n",
       "      <td>731</td>\n",
       "      <td>59754.177778</td>\n",
       "      <td>244.446677</td>\n",
       "      <td>-0.781544</td>\n",
       "      <td>-0.568321</td>\n",
       "      <td>4071.50</td>\n",
       "      <td>4251.75</td>\n",
       "      <td>180.25</td>\n",
       "    </tr>\n",
       "    <tr>\n",
       "      <th>Behavioural, emotional disorders of childhood and adolescence</th>\n",
       "      <td>5.8</td>\n",
       "      <td>5.5</td>\n",
       "      <td>4</td>\n",
       "      <td>12</td>\n",
       "      <td>11.066667</td>\n",
       "      <td>3.326660</td>\n",
       "      <td>0.942550</td>\n",
       "      <td>0.374897</td>\n",
       "      <td>4.00</td>\n",
       "      <td>7.50</td>\n",
       "      <td>3.50</td>\n",
       "    </tr>\n",
       "    <tr>\n",
       "      <th>Depressive disorders</th>\n",
       "      <td>1465.1</td>\n",
       "      <td>1530.5</td>\n",
       "      <td>1543</td>\n",
       "      <td>615</td>\n",
       "      <td>32233.877778</td>\n",
       "      <td>179.537956</td>\n",
       "      <td>-0.667339</td>\n",
       "      <td>-0.440574</td>\n",
       "      <td>1340.50</td>\n",
       "      <td>1554.25</td>\n",
       "      <td>213.75</td>\n",
       "    </tr>\n",
       "    <tr>\n",
       "      <th>Development disorders</th>\n",
       "      <td>6.1</td>\n",
       "      <td>4.0</td>\n",
       "      <td>1</td>\n",
       "      <td>16</td>\n",
       "      <td>29.877778</td>\n",
       "      <td>5.466057</td>\n",
       "      <td>0.952768</td>\n",
       "      <td>-0.547584</td>\n",
       "      <td>1.50</td>\n",
       "      <td>9.50</td>\n",
       "      <td>8.00</td>\n",
       "    </tr>\n",
       "    <tr>\n",
       "      <th>Eating disorders</th>\n",
       "      <td>130.6</td>\n",
       "      <td>118.0</td>\n",
       "      <td>167</td>\n",
       "      <td>67</td>\n",
       "      <td>719.822222</td>\n",
       "      <td>26.829503</td>\n",
       "      <td>0.477244</td>\n",
       "      <td>-1.525859</td>\n",
       "      <td>112.25</td>\n",
       "      <td>157.75</td>\n",
       "      <td>45.50</td>\n",
       "    </tr>\n",
       "    <tr>\n",
       "      <th>Intellectual disability</th>\n",
       "      <td>0.7</td>\n",
       "      <td>0.0</td>\n",
       "      <td>0</td>\n",
       "      <td>3</td>\n",
       "      <td>1.122222</td>\n",
       "      <td>1.059350</td>\n",
       "      <td>1.444002</td>\n",
       "      <td>0.166062</td>\n",
       "      <td>0.00</td>\n",
       "      <td>1.00</td>\n",
       "      <td>1.00</td>\n",
       "    </tr>\n",
       "    <tr>\n",
       "      <th>Mania</th>\n",
       "      <td>315.9</td>\n",
       "      <td>333.5</td>\n",
       "      <td>431</td>\n",
       "      <td>254</td>\n",
       "      <td>10693.211111</td>\n",
       "      <td>103.407984</td>\n",
       "      <td>-0.211350</td>\n",
       "      <td>-1.640131</td>\n",
       "      <td>229.75</td>\n",
       "      <td>402.50</td>\n",
       "      <td>172.75</td>\n",
       "    </tr>\n",
       "    <tr>\n",
       "      <th>Neuroses</th>\n",
       "      <td>582.6</td>\n",
       "      <td>592.5</td>\n",
       "      <td>653</td>\n",
       "      <td>205</td>\n",
       "      <td>6002.488889</td>\n",
       "      <td>77.475731</td>\n",
       "      <td>-0.439205</td>\n",
       "      <td>-1.376692</td>\n",
       "      <td>517.25</td>\n",
       "      <td>653.00</td>\n",
       "      <td>135.75</td>\n",
       "    </tr>\n",
       "    <tr>\n",
       "      <th>Organic mental disorders</th>\n",
       "      <td>113.5</td>\n",
       "      <td>120.0</td>\n",
       "      <td>155</td>\n",
       "      <td>100</td>\n",
       "      <td>1262.722222</td>\n",
       "      <td>35.534803</td>\n",
       "      <td>-0.447091</td>\n",
       "      <td>-1.093276</td>\n",
       "      <td>94.00</td>\n",
       "      <td>141.75</td>\n",
       "      <td>47.75</td>\n",
       "    </tr>\n",
       "    <tr>\n",
       "      <th>Other and unspecified</th>\n",
       "      <td>365.8</td>\n",
       "      <td>273.0</td>\n",
       "      <td>289</td>\n",
       "      <td>726</td>\n",
       "      <td>76124.400000</td>\n",
       "      <td>275.906506</td>\n",
       "      <td>1.609451</td>\n",
       "      <td>0.065002</td>\n",
       "      <td>193.75</td>\n",
       "      <td>314.50</td>\n",
       "      <td>120.75</td>\n",
       "    </tr>\n",
       "    <tr>\n",
       "      <th>Other drug disorders</th>\n",
       "      <td>121.7</td>\n",
       "      <td>122.5</td>\n",
       "      <td>122</td>\n",
       "      <td>57</td>\n",
       "      <td>330.233333</td>\n",
       "      <td>18.172323</td>\n",
       "      <td>-0.236990</td>\n",
       "      <td>-0.772467</td>\n",
       "      <td>110.00</td>\n",
       "      <td>131.00</td>\n",
       "      <td>21.00</td>\n",
       "    </tr>\n",
       "    <tr>\n",
       "      <th>Personality and behavioural disorders</th>\n",
       "      <td>185.5</td>\n",
       "      <td>193.5</td>\n",
       "      <td>132</td>\n",
       "      <td>99</td>\n",
       "      <td>1746.055556</td>\n",
       "      <td>41.785830</td>\n",
       "      <td>-0.230102</td>\n",
       "      <td>-1.655311</td>\n",
       "      <td>145.25</td>\n",
       "      <td>225.25</td>\n",
       "      <td>80.00</td>\n",
       "    </tr>\n",
       "    <tr>\n",
       "      <th>Schizophrenia, schizotypal and delusional disorders</th>\n",
       "      <td>290.6</td>\n",
       "      <td>320.0</td>\n",
       "      <td>320</td>\n",
       "      <td>165</td>\n",
       "      <td>3265.822222</td>\n",
       "      <td>57.147373</td>\n",
       "      <td>-1.094692</td>\n",
       "      <td>-0.610971</td>\n",
       "      <td>265.50</td>\n",
       "      <td>324.75</td>\n",
       "      <td>59.25</td>\n",
       "    </tr>\n",
       "    <tr>\n",
       "      <th rowspan=\"14\" valign=\"top\">Psychiatric hospitals</th>\n",
       "      <th>Alcoholic disorders</th>\n",
       "      <td>113.8</td>\n",
       "      <td>111.0</td>\n",
       "      <td>191</td>\n",
       "      <td>162</td>\n",
       "      <td>3158.844444</td>\n",
       "      <td>56.203598</td>\n",
       "      <td>-0.065204</td>\n",
       "      <td>-1.045389</td>\n",
       "      <td>83.50</td>\n",
       "      <td>148.50</td>\n",
       "      <td>65.00</td>\n",
       "    </tr>\n",
       "    <tr>\n",
       "      <th>All disorders</th>\n",
       "      <td>2681.0</td>\n",
       "      <td>2594.0</td>\n",
       "      <td>3768</td>\n",
       "      <td>2079</td>\n",
       "      <td>551731.555556</td>\n",
       "      <td>742.786346</td>\n",
       "      <td>0.227388</td>\n",
       "      <td>-1.081031</td>\n",
       "      <td>2156.75</td>\n",
       "      <td>3116.50</td>\n",
       "      <td>959.75</td>\n",
       "    </tr>\n",
       "    <tr>\n",
       "      <th>Behavioural, emotional disorders of childhood and adolescence</th>\n",
       "      <td>2.7</td>\n",
       "      <td>2.5</td>\n",
       "      <td>1</td>\n",
       "      <td>4</td>\n",
       "      <td>2.900000</td>\n",
       "      <td>1.702939</td>\n",
       "      <td>0.246363</td>\n",
       "      <td>-1.600476</td>\n",
       "      <td>1.00</td>\n",
       "      <td>4.00</td>\n",
       "      <td>3.00</td>\n",
       "    </tr>\n",
       "    <tr>\n",
       "      <th>Depressive disorders</th>\n",
       "      <td>449.9</td>\n",
       "      <td>395.0</td>\n",
       "      <td>769</td>\n",
       "      <td>557</td>\n",
       "      <td>37667.433333</td>\n",
       "      <td>194.080997</td>\n",
       "      <td>0.802066</td>\n",
       "      <td>-0.760073</td>\n",
       "      <td>333.00</td>\n",
       "      <td>530.75</td>\n",
       "      <td>197.75</td>\n",
       "    </tr>\n",
       "    <tr>\n",
       "      <th>Development disorders</th>\n",
       "      <td>8.2</td>\n",
       "      <td>8.5</td>\n",
       "      <td>9</td>\n",
       "      <td>9</td>\n",
       "      <td>6.844444</td>\n",
       "      <td>2.616189</td>\n",
       "      <td>0.286677</td>\n",
       "      <td>-0.486844</td>\n",
       "      <td>6.25</td>\n",
       "      <td>9.00</td>\n",
       "      <td>2.75</td>\n",
       "    </tr>\n",
       "    <tr>\n",
       "      <th>Eating disorders</th>\n",
       "      <td>2.7</td>\n",
       "      <td>2.5</td>\n",
       "      <td>2</td>\n",
       "      <td>6</td>\n",
       "      <td>2.455556</td>\n",
       "      <td>1.567021</td>\n",
       "      <td>0.619384</td>\n",
       "      <td>0.594869</td>\n",
       "      <td>2.00</td>\n",
       "      <td>3.00</td>\n",
       "      <td>1.00</td>\n",
       "    </tr>\n",
       "    <tr>\n",
       "      <th>Intellectual disability</th>\n",
       "      <td>17.5</td>\n",
       "      <td>15.0</td>\n",
       "      <td>30</td>\n",
       "      <td>25</td>\n",
       "      <td>96.500000</td>\n",
       "      <td>9.823441</td>\n",
       "      <td>0.307238</td>\n",
       "      <td>-1.471075</td>\n",
       "      <td>10.25</td>\n",
       "      <td>28.00</td>\n",
       "      <td>17.75</td>\n",
       "    </tr>\n",
       "    <tr>\n",
       "      <th>Mania</th>\n",
       "      <td>281.1</td>\n",
       "      <td>264.5</td>\n",
       "      <td>419</td>\n",
       "      <td>254</td>\n",
       "      <td>7330.100000</td>\n",
       "      <td>85.616003</td>\n",
       "      <td>0.626924</td>\n",
       "      <td>-0.748303</td>\n",
       "      <td>230.25</td>\n",
       "      <td>314.25</td>\n",
       "      <td>84.00</td>\n",
       "    </tr>\n",
       "    <tr>\n",
       "      <th>Neuroses</th>\n",
       "      <td>152.4</td>\n",
       "      <td>151.0</td>\n",
       "      <td>218</td>\n",
       "      <td>140</td>\n",
       "      <td>2787.822222</td>\n",
       "      <td>52.799832</td>\n",
       "      <td>-0.060246</td>\n",
       "      <td>-1.474764</td>\n",
       "      <td>113.75</td>\n",
       "      <td>196.25</td>\n",
       "      <td>82.50</td>\n",
       "    </tr>\n",
       "    <tr>\n",
       "      <th>Organic mental disorders</th>\n",
       "      <td>159.7</td>\n",
       "      <td>163.5</td>\n",
       "      <td>238</td>\n",
       "      <td>149</td>\n",
       "      <td>3482.677778</td>\n",
       "      <td>59.014217</td>\n",
       "      <td>0.145618</td>\n",
       "      <td>-1.472311</td>\n",
       "      <td>107.75</td>\n",
       "      <td>209.00</td>\n",
       "      <td>101.25</td>\n",
       "    </tr>\n",
       "    <tr>\n",
       "      <th>Other and unspecified</th>\n",
       "      <td>327.7</td>\n",
       "      <td>344.5</td>\n",
       "      <td>401</td>\n",
       "      <td>216</td>\n",
       "      <td>5598.455556</td>\n",
       "      <td>74.822828</td>\n",
       "      <td>-0.796552</td>\n",
       "      <td>-0.770175</td>\n",
       "      <td>278.75</td>\n",
       "      <td>393.50</td>\n",
       "      <td>114.75</td>\n",
       "    </tr>\n",
       "    <tr>\n",
       "      <th>Other drug disorders</th>\n",
       "      <td>166.7</td>\n",
       "      <td>177.0</td>\n",
       "      <td>188</td>\n",
       "      <td>112</td>\n",
       "      <td>1270.455556</td>\n",
       "      <td>35.643450</td>\n",
       "      <td>-0.162060</td>\n",
       "      <td>-0.871644</td>\n",
       "      <td>145.25</td>\n",
       "      <td>188.00</td>\n",
       "      <td>42.75</td>\n",
       "    </tr>\n",
       "    <tr>\n",
       "      <th>Personality and behavioural disorders</th>\n",
       "      <td>253.7</td>\n",
       "      <td>263.0</td>\n",
       "      <td>259</td>\n",
       "      <td>192</td>\n",
       "      <td>3787.344444</td>\n",
       "      <td>61.541404</td>\n",
       "      <td>-0.965374</td>\n",
       "      <td>-0.302713</td>\n",
       "      <td>251.50</td>\n",
       "      <td>286.75</td>\n",
       "      <td>35.25</td>\n",
       "    </tr>\n",
       "    <tr>\n",
       "      <th>Schizophrenia, schizotypal and delusional disorders</th>\n",
       "      <td>744.9</td>\n",
       "      <td>733.0</td>\n",
       "      <td>1040</td>\n",
       "      <td>551</td>\n",
       "      <td>36735.433333</td>\n",
       "      <td>191.664899</td>\n",
       "      <td>0.313930</td>\n",
       "      <td>-0.807139</td>\n",
       "      <td>632.25</td>\n",
       "      <td>800.25</td>\n",
       "      <td>168.00</td>\n",
       "    </tr>\n",
       "  </tbody>\n",
       "</table>\n",
       "</div>"
      ],
      "text/plain": [
       "                                                                                                          Mean  \\\n",
       "Type of Hospital                                   ICD 10 Diagnostic Group                                       \n",
       "General hospital psychiatric units                 Alcoholic disorders                                   471.2   \n",
       "                                                   All disorders                                       10138.9   \n",
       "                                                   Behavioural, emotional disorders of childhood a...      9.6   \n",
       "                                                   Depressive disorders                                 2424.1   \n",
       "                                                   Development disorders                                  31.2   \n",
       "                                                   Eating disorders                                       41.2   \n",
       "                                                   Intellectual disability                                56.0   \n",
       "                                                   Mania                                                1190.9   \n",
       "                                                   Neuroses                                              854.6   \n",
       "                                                   Organic mental disorders                              187.4   \n",
       "                                                   Other and unspecified                                 843.2   \n",
       "                                                   Other drug disorders                                  661.4   \n",
       "                                                   Personality and behavioural disorders                 911.3   \n",
       "                                                   Schizophrenia, schizotypal and delusional disor...   2456.8   \n",
       "Independent/private and private charitable centres Alcoholic disorders                                   538.3   \n",
       "                                                   All disorders                                        4122.2   \n",
       "                                                   Behavioural, emotional disorders of childhood a...      5.8   \n",
       "                                                   Depressive disorders                                 1465.1   \n",
       "                                                   Development disorders                                   6.1   \n",
       "                                                   Eating disorders                                      130.6   \n",
       "                                                   Intellectual disability                                 0.7   \n",
       "                                                   Mania                                                 315.9   \n",
       "                                                   Neuroses                                              582.6   \n",
       "                                                   Organic mental disorders                              113.5   \n",
       "                                                   Other and unspecified                                 365.8   \n",
       "                                                   Other drug disorders                                  121.7   \n",
       "                                                   Personality and behavioural disorders                 185.5   \n",
       "                                                   Schizophrenia, schizotypal and delusional disor...    290.6   \n",
       "Psychiatric hospitals                              Alcoholic disorders                                   113.8   \n",
       "                                                   All disorders                                        2681.0   \n",
       "                                                   Behavioural, emotional disorders of childhood a...      2.7   \n",
       "                                                   Depressive disorders                                  449.9   \n",
       "                                                   Development disorders                                   8.2   \n",
       "                                                   Eating disorders                                        2.7   \n",
       "                                                   Intellectual disability                                17.5   \n",
       "                                                   Mania                                                 281.1   \n",
       "                                                   Neuroses                                              152.4   \n",
       "                                                   Organic mental disorders                              159.7   \n",
       "                                                   Other and unspecified                                 327.7   \n",
       "                                                   Other drug disorders                                  166.7   \n",
       "                                                   Personality and behavioural disorders                 253.7   \n",
       "                                                   Schizophrenia, schizotypal and delusional disor...    744.9   \n",
       "\n",
       "                                                                                                        Median  \\\n",
       "Type of Hospital                                   ICD 10 Diagnostic Group                                       \n",
       "General hospital psychiatric units                 Alcoholic disorders                                   428.5   \n",
       "                                                   All disorders                                       10172.5   \n",
       "                                                   Behavioural, emotional disorders of childhood a...      9.5   \n",
       "                                                   Depressive disorders                                 2229.0   \n",
       "                                                   Development disorders                                  32.0   \n",
       "                                                   Eating disorders                                       41.5   \n",
       "                                                   Intellectual disability                                57.0   \n",
       "                                                   Mania                                                1196.0   \n",
       "                                                   Neuroses                                              848.5   \n",
       "                                                   Organic mental disorders                              179.0   \n",
       "                                                   Other and unspecified                                 747.5   \n",
       "                                                   Other drug disorders                                  660.0   \n",
       "                                                   Personality and behavioural disorders                 915.5   \n",
       "                                                   Schizophrenia, schizotypal and delusional disor...   2425.0   \n",
       "Independent/private and private charitable centres Alcoholic disorders                                   590.5   \n",
       "                                                   All disorders                                        4151.5   \n",
       "                                                   Behavioural, emotional disorders of childhood a...      5.5   \n",
       "                                                   Depressive disorders                                 1530.5   \n",
       "                                                   Development disorders                                   4.0   \n",
       "                                                   Eating disorders                                      118.0   \n",
       "                                                   Intellectual disability                                 0.0   \n",
       "                                                   Mania                                                 333.5   \n",
       "                                                   Neuroses                                              592.5   \n",
       "                                                   Organic mental disorders                              120.0   \n",
       "                                                   Other and unspecified                                 273.0   \n",
       "                                                   Other drug disorders                                  122.5   \n",
       "                                                   Personality and behavioural disorders                 193.5   \n",
       "                                                   Schizophrenia, schizotypal and delusional disor...    320.0   \n",
       "Psychiatric hospitals                              Alcoholic disorders                                   111.0   \n",
       "                                                   All disorders                                        2594.0   \n",
       "                                                   Behavioural, emotional disorders of childhood a...      2.5   \n",
       "                                                   Depressive disorders                                  395.0   \n",
       "                                                   Development disorders                                   8.5   \n",
       "                                                   Eating disorders                                        2.5   \n",
       "                                                   Intellectual disability                                15.0   \n",
       "                                                   Mania                                                 264.5   \n",
       "                                                   Neuroses                                              151.0   \n",
       "                                                   Organic mental disorders                              163.5   \n",
       "                                                   Other and unspecified                                 344.5   \n",
       "                                                   Other drug disorders                                  177.0   \n",
       "                                                   Personality and behavioural disorders                 263.0   \n",
       "                                                   Schizophrenia, schizotypal and delusional disor...    733.0   \n",
       "\n",
       "                                                                                                        Mode  \\\n",
       "Type of Hospital                                   ICD 10 Diagnostic Group                                     \n",
       "General hospital psychiatric units                 Alcoholic disorders                                   688   \n",
       "                                                   All disorders                                       10278   \n",
       "                                                   Behavioural, emotional disorders of childhood a...      8   \n",
       "                                                   Depressive disorders                                 2941   \n",
       "                                                   Development disorders                                  19   \n",
       "                                                   Eating disorders                                       36   \n",
       "                                                   Intellectual disability                                66   \n",
       "                                                   Mania                                                1233   \n",
       "                                                   Neuroses                                              775   \n",
       "                                                   Organic mental disorders                              179   \n",
       "                                                   Other and unspecified                                 684   \n",
       "                                                   Other drug disorders                                  580   \n",
       "                                                   Personality and behavioural disorders                 721   \n",
       "                                                   Schizophrenia, schizotypal and delusional disor...   2331   \n",
       "Independent/private and private charitable centres Alcoholic disorders                                   591   \n",
       "                                                   All disorders                                        4411   \n",
       "                                                   Behavioural, emotional disorders of childhood a...      4   \n",
       "                                                   Depressive disorders                                 1543   \n",
       "                                                   Development disorders                                   1   \n",
       "                                                   Eating disorders                                      167   \n",
       "                                                   Intellectual disability                                 0   \n",
       "                                                   Mania                                                 431   \n",
       "                                                   Neuroses                                              653   \n",
       "                                                   Organic mental disorders                              155   \n",
       "                                                   Other and unspecified                                 289   \n",
       "                                                   Other drug disorders                                  122   \n",
       "                                                   Personality and behavioural disorders                 132   \n",
       "                                                   Schizophrenia, schizotypal and delusional disor...    320   \n",
       "Psychiatric hospitals                              Alcoholic disorders                                   191   \n",
       "                                                   All disorders                                        3768   \n",
       "                                                   Behavioural, emotional disorders of childhood a...      1   \n",
       "                                                   Depressive disorders                                  769   \n",
       "                                                   Development disorders                                   9   \n",
       "                                                   Eating disorders                                        2   \n",
       "                                                   Intellectual disability                                30   \n",
       "                                                   Mania                                                 419   \n",
       "                                                   Neuroses                                              218   \n",
       "                                                   Organic mental disorders                              238   \n",
       "                                                   Other and unspecified                                 401   \n",
       "                                                   Other drug disorders                                  188   \n",
       "                                                   Personality and behavioural disorders                 259   \n",
       "                                                   Schizophrenia, schizotypal and delusional disor...   1040   \n",
       "\n",
       "                                                                                                       Range  \\\n",
       "Type of Hospital                                   ICD 10 Diagnostic Group                                     \n",
       "General hospital psychiatric units                 Alcoholic disorders                                   330   \n",
       "                                                   All disorders                                         753   \n",
       "                                                   Behavioural, emotional disorders of childhood a...      9   \n",
       "                                                   Depressive disorders                                  800   \n",
       "                                                   Development disorders                                  34   \n",
       "                                                   Eating disorders                                       14   \n",
       "                                                   Intellectual disability                                36   \n",
       "                                                   Mania                                                 204   \n",
       "                                                   Neuroses                                              209   \n",
       "                                                   Organic mental disorders                               62   \n",
       "                                                   Other and unspecified                                 867   \n",
       "                                                   Other drug disorders                                  188   \n",
       "                                                   Personality and behavioural disorders                 356   \n",
       "                                                   Schizophrenia, schizotypal and delusional disor...    516   \n",
       "Independent/private and private charitable centres Alcoholic disorders                                   330   \n",
       "                                                   All disorders                                         731   \n",
       "                                                   Behavioural, emotional disorders of childhood a...     12   \n",
       "                                                   Depressive disorders                                  615   \n",
       "                                                   Development disorders                                  16   \n",
       "                                                   Eating disorders                                       67   \n",
       "                                                   Intellectual disability                                 3   \n",
       "                                                   Mania                                                 254   \n",
       "                                                   Neuroses                                              205   \n",
       "                                                   Organic mental disorders                              100   \n",
       "                                                   Other and unspecified                                 726   \n",
       "                                                   Other drug disorders                                   57   \n",
       "                                                   Personality and behavioural disorders                  99   \n",
       "                                                   Schizophrenia, schizotypal and delusional disor...    165   \n",
       "Psychiatric hospitals                              Alcoholic disorders                                   162   \n",
       "                                                   All disorders                                        2079   \n",
       "                                                   Behavioural, emotional disorders of childhood a...      4   \n",
       "                                                   Depressive disorders                                  557   \n",
       "                                                   Development disorders                                   9   \n",
       "                                                   Eating disorders                                        6   \n",
       "                                                   Intellectual disability                                25   \n",
       "                                                   Mania                                                 254   \n",
       "                                                   Neuroses                                              140   \n",
       "                                                   Organic mental disorders                              149   \n",
       "                                                   Other and unspecified                                 216   \n",
       "                                                   Other drug disorders                                  112   \n",
       "                                                   Personality and behavioural disorders                 192   \n",
       "                                                   Schizophrenia, schizotypal and delusional disor...    551   \n",
       "\n",
       "                                                                                                            Variance  \\\n",
       "Type of Hospital                                   ICD 10 Diagnostic Group                                             \n",
       "General hospital psychiatric units                 Alcoholic disorders                                  14348.622222   \n",
       "                                                   All disorders                                        46009.655556   \n",
       "                                                   Behavioural, emotional disorders of childhood a...       8.266667   \n",
       "                                                   Depressive disorders                                108603.433333   \n",
       "                                                   Development disorders                                  101.288889   \n",
       "                                                   Eating disorders                                        29.288889   \n",
       "                                                   Intellectual disability                                131.777778   \n",
       "                                                   Mania                                                 3584.988889   \n",
       "                                                   Neuroses                                              3726.044444   \n",
       "                                                   Organic mental disorders                               492.488889   \n",
       "                                                   Other and unspecified                                78849.511111   \n",
       "                                                   Other drug disorders                                  4357.600000   \n",
       "                                                   Personality and behavioural disorders                14746.900000   \n",
       "                                                   Schizophrenia, schizotypal and delusional disor...   26383.511111   \n",
       "Independent/private and private charitable centres Alcoholic disorders                                  12949.566667   \n",
       "                                                   All disorders                                        59754.177778   \n",
       "                                                   Behavioural, emotional disorders of childhood a...      11.066667   \n",
       "                                                   Depressive disorders                                 32233.877778   \n",
       "                                                   Development disorders                                   29.877778   \n",
       "                                                   Eating disorders                                       719.822222   \n",
       "                                                   Intellectual disability                                  1.122222   \n",
       "                                                   Mania                                                10693.211111   \n",
       "                                                   Neuroses                                              6002.488889   \n",
       "                                                   Organic mental disorders                              1262.722222   \n",
       "                                                   Other and unspecified                                76124.400000   \n",
       "                                                   Other drug disorders                                   330.233333   \n",
       "                                                   Personality and behavioural disorders                 1746.055556   \n",
       "                                                   Schizophrenia, schizotypal and delusional disor...    3265.822222   \n",
       "Psychiatric hospitals                              Alcoholic disorders                                   3158.844444   \n",
       "                                                   All disorders                                       551731.555556   \n",
       "                                                   Behavioural, emotional disorders of childhood a...       2.900000   \n",
       "                                                   Depressive disorders                                 37667.433333   \n",
       "                                                   Development disorders                                    6.844444   \n",
       "                                                   Eating disorders                                         2.455556   \n",
       "                                                   Intellectual disability                                 96.500000   \n",
       "                                                   Mania                                                 7330.100000   \n",
       "                                                   Neuroses                                              2787.822222   \n",
       "                                                   Organic mental disorders                              3482.677778   \n",
       "                                                   Other and unspecified                                 5598.455556   \n",
       "                                                   Other drug disorders                                  1270.455556   \n",
       "                                                   Personality and behavioural disorders                 3787.344444   \n",
       "                                                   Schizophrenia, schizotypal and delusional disor...   36735.433333   \n",
       "\n",
       "                                                                                                       Std Deviation  \\\n",
       "Type of Hospital                                   ICD 10 Diagnostic Group                                             \n",
       "General hospital psychiatric units                 Alcoholic disorders                                    119.785735   \n",
       "                                                   All disorders                                          214.498614   \n",
       "                                                   Behavioural, emotional disorders of childhood a...       2.875181   \n",
       "                                                   Depressive disorders                                   329.550350   \n",
       "                                                   Development disorders                                   10.064238   \n",
       "                                                   Eating disorders                                         5.411921   \n",
       "                                                   Intellectual disability                                 11.479450   \n",
       "                                                   Mania                                                   59.874777   \n",
       "                                                   Neuroses                                                61.041334   \n",
       "                                                   Organic mental disorders                                22.192091   \n",
       "                                                   Other and unspecified                                  280.801551   \n",
       "                                                   Other drug disorders                                    66.012120   \n",
       "                                                   Personality and behavioural disorders                  121.436815   \n",
       "                                                   Schizophrenia, schizotypal and delusional disor...     162.430019   \n",
       "Independent/private and private charitable centres Alcoholic disorders                                    113.796163   \n",
       "                                                   All disorders                                          244.446677   \n",
       "                                                   Behavioural, emotional disorders of childhood a...       3.326660   \n",
       "                                                   Depressive disorders                                   179.537956   \n",
       "                                                   Development disorders                                    5.466057   \n",
       "                                                   Eating disorders                                        26.829503   \n",
       "                                                   Intellectual disability                                  1.059350   \n",
       "                                                   Mania                                                  103.407984   \n",
       "                                                   Neuroses                                                77.475731   \n",
       "                                                   Organic mental disorders                                35.534803   \n",
       "                                                   Other and unspecified                                  275.906506   \n",
       "                                                   Other drug disorders                                    18.172323   \n",
       "                                                   Personality and behavioural disorders                   41.785830   \n",
       "                                                   Schizophrenia, schizotypal and delusional disor...      57.147373   \n",
       "Psychiatric hospitals                              Alcoholic disorders                                     56.203598   \n",
       "                                                   All disorders                                          742.786346   \n",
       "                                                   Behavioural, emotional disorders of childhood a...       1.702939   \n",
       "                                                   Depressive disorders                                   194.080997   \n",
       "                                                   Development disorders                                    2.616189   \n",
       "                                                   Eating disorders                                         1.567021   \n",
       "                                                   Intellectual disability                                  9.823441   \n",
       "                                                   Mania                                                   85.616003   \n",
       "                                                   Neuroses                                                52.799832   \n",
       "                                                   Organic mental disorders                                59.014217   \n",
       "                                                   Other and unspecified                                   74.822828   \n",
       "                                                   Other drug disorders                                    35.643450   \n",
       "                                                   Personality and behavioural disorders                   61.541404   \n",
       "                                                   Schizophrenia, schizotypal and delusional disor...     191.664899   \n",
       "\n",
       "                                                                                                       Skewness  \\\n",
       "Type of Hospital                                   ICD 10 Diagnostic Group                                        \n",
       "General hospital psychiatric units                 Alcoholic disorders                                 1.402471   \n",
       "                                                   All disorders                                      -1.127891   \n",
       "                                                   Behavioural, emotional disorders of childhood a... -0.409511   \n",
       "                                                   Depressive disorders                                0.869203   \n",
       "                                                   Development disorders                               0.845403   \n",
       "                                                   Eating disorders                                   -0.000210   \n",
       "                                                   Intellectual disability                            -0.803731   \n",
       "                                                   Mania                                              -1.524805   \n",
       "                                                   Neuroses                                            0.740858   \n",
       "                                                   Organic mental disorders                            0.877612   \n",
       "                                                   Other and unspecified                               0.970367   \n",
       "                                                   Other drug disorders                                0.413919   \n",
       "                                                   Personality and behavioural disorders              -0.448698   \n",
       "                                                   Schizophrenia, schizotypal and delusional disor...  1.280132   \n",
       "Independent/private and private charitable centres Alcoholic disorders                                -1.606931   \n",
       "                                                   All disorders                                      -0.781544   \n",
       "                                                   Behavioural, emotional disorders of childhood a...  0.942550   \n",
       "                                                   Depressive disorders                               -0.667339   \n",
       "                                                   Development disorders                               0.952768   \n",
       "                                                   Eating disorders                                    0.477244   \n",
       "                                                   Intellectual disability                             1.444002   \n",
       "                                                   Mania                                              -0.211350   \n",
       "                                                   Neuroses                                           -0.439205   \n",
       "                                                   Organic mental disorders                           -0.447091   \n",
       "                                                   Other and unspecified                               1.609451   \n",
       "                                                   Other drug disorders                               -0.236990   \n",
       "                                                   Personality and behavioural disorders              -0.230102   \n",
       "                                                   Schizophrenia, schizotypal and delusional disor... -1.094692   \n",
       "Psychiatric hospitals                              Alcoholic disorders                                -0.065204   \n",
       "                                                   All disorders                                       0.227388   \n",
       "                                                   Behavioural, emotional disorders of childhood a...  0.246363   \n",
       "                                                   Depressive disorders                                0.802066   \n",
       "                                                   Development disorders                               0.286677   \n",
       "                                                   Eating disorders                                    0.619384   \n",
       "                                                   Intellectual disability                             0.307238   \n",
       "                                                   Mania                                               0.626924   \n",
       "                                                   Neuroses                                           -0.060246   \n",
       "                                                   Organic mental disorders                            0.145618   \n",
       "                                                   Other and unspecified                              -0.796552   \n",
       "                                                   Other drug disorders                               -0.162060   \n",
       "                                                   Personality and behavioural disorders              -0.965374   \n",
       "                                                   Schizophrenia, schizotypal and delusional disor...  0.313930   \n",
       "\n",
       "                                                                                                       Kurtosis  \\\n",
       "Type of Hospital                                   ICD 10 Diagnostic Group                                        \n",
       "General hospital psychiatric units                 Alcoholic disorders                                -0.179383   \n",
       "                                                   All disorders                                       0.348242   \n",
       "                                                   Behavioural, emotional disorders of childhood a... -0.463233   \n",
       "                                                   Depressive disorders                               -1.182236   \n",
       "                                                   Development disorders                               0.353458   \n",
       "                                                   Eating disorders                                   -1.575676   \n",
       "                                                   Intellectual disability                            -0.498486   \n",
       "                                                   Mania                                               1.093371   \n",
       "                                                   Neuroses                                            0.238896   \n",
       "                                                   Organic mental disorders                           -0.764897   \n",
       "                                                   Other and unspecified                              -0.355374   \n",
       "                                                   Other drug disorders                               -0.983040   \n",
       "                                                   Personality and behavioural disorders              -0.805459   \n",
       "                                                   Schizophrenia, schizotypal and delusional disor...  0.186374   \n",
       "Independent/private and private charitable centres Alcoholic disorders                                 0.191935   \n",
       "                                                   All disorders                                      -0.568321   \n",
       "                                                   Behavioural, emotional disorders of childhood a...  0.374897   \n",
       "                                                   Depressive disorders                               -0.440574   \n",
       "                                                   Development disorders                              -0.547584   \n",
       "                                                   Eating disorders                                   -1.525859   \n",
       "                                                   Intellectual disability                             0.166062   \n",
       "                                                   Mania                                              -1.640131   \n",
       "                                                   Neuroses                                           -1.376692   \n",
       "                                                   Organic mental disorders                           -1.093276   \n",
       "                                                   Other and unspecified                               0.065002   \n",
       "                                                   Other drug disorders                               -0.772467   \n",
       "                                                   Personality and behavioural disorders              -1.655311   \n",
       "                                                   Schizophrenia, schizotypal and delusional disor... -0.610971   \n",
       "Psychiatric hospitals                              Alcoholic disorders                                -1.045389   \n",
       "                                                   All disorders                                      -1.081031   \n",
       "                                                   Behavioural, emotional disorders of childhood a... -1.600476   \n",
       "                                                   Depressive disorders                               -0.760073   \n",
       "                                                   Development disorders                              -0.486844   \n",
       "                                                   Eating disorders                                    0.594869   \n",
       "                                                   Intellectual disability                            -1.471075   \n",
       "                                                   Mania                                              -0.748303   \n",
       "                                                   Neuroses                                           -1.474764   \n",
       "                                                   Organic mental disorders                           -1.472311   \n",
       "                                                   Other and unspecified                              -0.770175   \n",
       "                                                   Other drug disorders                               -0.871644   \n",
       "                                                   Personality and behavioural disorders              -0.302713   \n",
       "                                                   Schizophrenia, schizotypal and delusional disor... -0.807139   \n",
       "\n",
       "                                                                                                             Q1  \\\n",
       "Type of Hospital                                   ICD 10 Diagnostic Group                                        \n",
       "General hospital psychiatric units                 Alcoholic disorders                                   401.25   \n",
       "                                                   All disorders                                       10075.00   \n",
       "                                                   Behavioural, emotional disorders of childhood a...      8.00   \n",
       "                                                   Depressive disorders                                 2187.50   \n",
       "                                                   Development disorders                                  24.00   \n",
       "                                                   Eating disorders                                       36.00   \n",
       "                                                   Intellectual disability                                50.50   \n",
       "                                                   Mania                                                1175.00   \n",
       "                                                   Neuroses                                              828.75   \n",
       "                                                   Organic mental disorders                              176.75   \n",
       "                                                   Other and unspecified                                 643.50   \n",
       "                                                   Other drug disorders                                  613.75   \n",
       "                                                   Personality and behavioural disorders                 866.75   \n",
       "                                                   Schizophrenia, schizotypal and delusional disor...   2331.50   \n",
       "Independent/private and private charitable centres Alcoholic disorders                                   536.00   \n",
       "                                                   All disorders                                        4071.50   \n",
       "                                                   Behavioural, emotional disorders of childhood a...      4.00   \n",
       "                                                   Depressive disorders                                 1340.50   \n",
       "                                                   Development disorders                                   1.50   \n",
       "                                                   Eating disorders                                      112.25   \n",
       "                                                   Intellectual disability                                 0.00   \n",
       "                                                   Mania                                                 229.75   \n",
       "                                                   Neuroses                                              517.25   \n",
       "                                                   Organic mental disorders                               94.00   \n",
       "                                                   Other and unspecified                                 193.75   \n",
       "                                                   Other drug disorders                                  110.00   \n",
       "                                                   Personality and behavioural disorders                 145.25   \n",
       "                                                   Schizophrenia, schizotypal and delusional disor...    265.50   \n",
       "Psychiatric hospitals                              Alcoholic disorders                                    83.50   \n",
       "                                                   All disorders                                        2156.75   \n",
       "                                                   Behavioural, emotional disorders of childhood a...      1.00   \n",
       "                                                   Depressive disorders                                  333.00   \n",
       "                                                   Development disorders                                   6.25   \n",
       "                                                   Eating disorders                                        2.00   \n",
       "                                                   Intellectual disability                                10.25   \n",
       "                                                   Mania                                                 230.25   \n",
       "                                                   Neuroses                                              113.75   \n",
       "                                                   Organic mental disorders                              107.75   \n",
       "                                                   Other and unspecified                                 278.75   \n",
       "                                                   Other drug disorders                                  145.25   \n",
       "                                                   Personality and behavioural disorders                 251.50   \n",
       "                                                   Schizophrenia, schizotypal and delusional disor...    632.25   \n",
       "\n",
       "                                                                                                             Q3  \\\n",
       "Type of Hospital                                   ICD 10 Diagnostic Group                                        \n",
       "General hospital psychiatric units                 Alcoholic disorders                                   478.50   \n",
       "                                                   All disorders                                       10277.50   \n",
       "                                                   Behavioural, emotional disorders of childhood a...     12.25   \n",
       "                                                   Depressive disorders                                 2676.00   \n",
       "                                                   Development disorders                                  34.50   \n",
       "                                                   Eating disorders                                       45.75   \n",
       "                                                   Intellectual disability                                65.75   \n",
       "                                                   Mania                                                1233.00   \n",
       "                                                   Neuroses                                              883.50   \n",
       "                                                   Organic mental disorders                              197.75   \n",
       "                                                   Other and unspecified                                 990.75   \n",
       "                                                   Other drug disorders                                  688.50   \n",
       "                                                   Personality and behavioural disorders                 981.50   \n",
       "                                                   Schizophrenia, schizotypal and delusional disor...   2514.50   \n",
       "Independent/private and private charitable centres Alcoholic disorders                                   600.00   \n",
       "                                                   All disorders                                        4251.75   \n",
       "                                                   Behavioural, emotional disorders of childhood a...      7.50   \n",
       "                                                   Depressive disorders                                 1554.25   \n",
       "                                                   Development disorders                                   9.50   \n",
       "                                                   Eating disorders                                      157.75   \n",
       "                                                   Intellectual disability                                 1.00   \n",
       "                                                   Mania                                                 402.50   \n",
       "                                                   Neuroses                                              653.00   \n",
       "                                                   Organic mental disorders                              141.75   \n",
       "                                                   Other and unspecified                                 314.50   \n",
       "                                                   Other drug disorders                                  131.00   \n",
       "                                                   Personality and behavioural disorders                 225.25   \n",
       "                                                   Schizophrenia, schizotypal and delusional disor...    324.75   \n",
       "Psychiatric hospitals                              Alcoholic disorders                                   148.50   \n",
       "                                                   All disorders                                        3116.50   \n",
       "                                                   Behavioural, emotional disorders of childhood a...      4.00   \n",
       "                                                   Depressive disorders                                  530.75   \n",
       "                                                   Development disorders                                   9.00   \n",
       "                                                   Eating disorders                                        3.00   \n",
       "                                                   Intellectual disability                                28.00   \n",
       "                                                   Mania                                                 314.25   \n",
       "                                                   Neuroses                                              196.25   \n",
       "                                                   Organic mental disorders                              209.00   \n",
       "                                                   Other and unspecified                                 393.50   \n",
       "                                                   Other drug disorders                                  188.00   \n",
       "                                                   Personality and behavioural disorders                 286.75   \n",
       "                                                   Schizophrenia, schizotypal and delusional disor...    800.25   \n",
       "\n",
       "                                                                                                          IQR  \n",
       "Type of Hospital                                   ICD 10 Diagnostic Group                                     \n",
       "General hospital psychiatric units                 Alcoholic disorders                                  77.25  \n",
       "                                                   All disorders                                       202.50  \n",
       "                                                   Behavioural, emotional disorders of childhood a...    4.25  \n",
       "                                                   Depressive disorders                                488.50  \n",
       "                                                   Development disorders                                10.50  \n",
       "                                                   Eating disorders                                      9.75  \n",
       "                                                   Intellectual disability                              15.25  \n",
       "                                                   Mania                                                58.00  \n",
       "                                                   Neuroses                                             54.75  \n",
       "                                                   Organic mental disorders                             21.00  \n",
       "                                                   Other and unspecified                               347.25  \n",
       "                                                   Other drug disorders                                 74.75  \n",
       "                                                   Personality and behavioural disorders               114.75  \n",
       "                                                   Schizophrenia, schizotypal and delusional disor...  183.00  \n",
       "Independent/private and private charitable centres Alcoholic disorders                                  64.00  \n",
       "                                                   All disorders                                       180.25  \n",
       "                                                   Behavioural, emotional disorders of childhood a...    3.50  \n",
       "                                                   Depressive disorders                                213.75  \n",
       "                                                   Development disorders                                 8.00  \n",
       "                                                   Eating disorders                                     45.50  \n",
       "                                                   Intellectual disability                               1.00  \n",
       "                                                   Mania                                               172.75  \n",
       "                                                   Neuroses                                            135.75  \n",
       "                                                   Organic mental disorders                             47.75  \n",
       "                                                   Other and unspecified                               120.75  \n",
       "                                                   Other drug disorders                                 21.00  \n",
       "                                                   Personality and behavioural disorders                80.00  \n",
       "                                                   Schizophrenia, schizotypal and delusional disor...   59.25  \n",
       "Psychiatric hospitals                              Alcoholic disorders                                  65.00  \n",
       "                                                   All disorders                                       959.75  \n",
       "                                                   Behavioural, emotional disorders of childhood a...    3.00  \n",
       "                                                   Depressive disorders                                197.75  \n",
       "                                                   Development disorders                                 2.75  \n",
       "                                                   Eating disorders                                      1.00  \n",
       "                                                   Intellectual disability                              17.75  \n",
       "                                                   Mania                                                84.00  \n",
       "                                                   Neuroses                                             82.50  \n",
       "                                                   Organic mental disorders                            101.25  \n",
       "                                                   Other and unspecified                               114.75  \n",
       "                                                   Other drug disorders                                 42.75  \n",
       "                                                   Personality and behavioural disorders                35.25  \n",
       "                                                   Schizophrenia, schizotypal and delusional disor...  168.00  "
      ]
     },
     "execution_count": 34,
     "metadata": {},
     "output_type": "execute_result"
    }
   ],
   "source": [
    "stats3"
   ]
  }
 ],
 "metadata": {
  "kernelspec": {
   "display_name": "Python 3",
   "language": "python",
   "name": "python3"
  },
  "language_info": {
   "codemirror_mode": {
    "name": "ipython",
    "version": 3
   },
   "file_extension": ".py",
   "mimetype": "text/x-python",
   "name": "python",
   "nbconvert_exporter": "python",
   "pygments_lexer": "ipython3",
   "version": "3.11.5"
  },
  "orig_nbformat": 4
 },
 "nbformat": 4,
 "nbformat_minor": 2
}
